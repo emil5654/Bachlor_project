{
 "cells": [
  {
   "cell_type": "code",
   "execution_count": 1,
   "metadata": {},
   "outputs": [],
   "source": [
    "import numpy as np\n",
    "import pandas as pd\n",
    " \n",
    "def get_labels():\n",
    "    # read by default 1st sheet of an excel file\n",
    "    dataframe1 =  pd.read_csv('Lodging_scores.csv', parse_dates=['VisualScoreDate','FlightDate'])\n",
    "    scores = np.array(dataframe1)\n",
    "    labels = []\n",
    "    bin_size = 5\n",
    "    #create labels, [ROI, Visual SCORE, FLIGHTFolder]\n",
    "    for i in range(scores.shape[0]):\n",
    "        labels.append((scores[i,2], scores[i, 4], scores[i,6], create_bin(bin_size, scores[i,4])))\n",
    "    return labels\n",
    "\n",
    "def create_bin(bin_size, vision_score):\n",
    "    if (vision_score == 0):\n",
    "        return 1\n",
    "    return  np.ceil(vision_score/bin_size)\n",
    "\n",
    "\n"
   ]
  },
  {
   "cell_type": "code",
   "execution_count": 8,
   "metadata": {},
   "outputs": [
    {
     "data": {
      "text/plain": [
       "1.0"
      ]
     },
     "execution_count": 8,
     "metadata": {},
     "output_type": "execute_result"
    }
   ],
   "source": [
    "create_bin(5, 5)"
   ]
  },
  {
   "cell_type": "code",
   "execution_count": null,
   "metadata": {},
   "outputs": [],
   "source": []
  }
 ],
 "metadata": {
  "kernelspec": {
   "display_name": "base",
   "language": "python",
   "name": "python3"
  },
  "language_info": {
   "codemirror_mode": {
    "name": "ipython",
    "version": 3
   },
   "file_extension": ".py",
   "mimetype": "text/x-python",
   "name": "python",
   "nbconvert_exporter": "python",
   "pygments_lexer": "ipython3",
   "version": "3.9.12"
  },
  "orig_nbformat": 4,
  "vscode": {
   "interpreter": {
    "hash": "8a4172d53ae65574bcd956c0c8de3cf827811d6822c20bd6e662f8f7a0c1ddfd"
   }
  }
 },
 "nbformat": 4,
 "nbformat_minor": 2
}
