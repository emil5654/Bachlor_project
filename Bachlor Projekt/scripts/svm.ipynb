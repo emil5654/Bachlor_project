{
 "cells": [
  {
   "cell_type": "code",
   "execution_count": 9,
   "metadata": {},
   "outputs": [],
   "source": [
    "import numpy as np # linear algebra\n",
    "import json\n",
    "from matplotlib import pyplot as plt\n",
    "from skimage import color\n",
    "from skimage.feature import hog\n",
    "from sklearn import svm\n",
    "from sklearn.metrics import classification_report,accuracy_score\n",
    "\n",
    "from skimage.io import imread\n",
    "from skimage.transform import resize\n",
    "from skimage.feature import hog\n",
    "from skimage import exposure\n",
    "import matplotlib.pyplot as plt\n",
    "import get_lodging_scores\n",
    "import cv2  # importing cv\n",
    "import imutils\n",
    "import glob\n",
    "\n",
    "#We need these in this file:\n",
    "import load_read_name_extractor as lrne\n",
    "import os\n",
    "import pickle"
   ]
  },
  {
   "cell_type": "code",
   "execution_count": 10,
   "metadata": {},
   "outputs": [],
   "source": [
    "def it_name_extract_labels_from_img(names):\n",
    "    plots = []\n",
    "    temp = []\n",
    "    for i in range(len(names)):\n",
    "        name_t = os.path.basename(names[i])\n",
    "        #name_t = name_t.replace(\".tif\", \"\")\n",
    "        for j in range(1,len(name_t)):\n",
    "            if (names[i][-j] == \"_\"):\n",
    "                temp.append(name_t[-(j-1):len(name_t)].replace(\".jpeg\", \"\"))\n",
    "                break\n",
    "        temp.append(name_t.replace(temp[0], \"\").replace(\"_.jpeg\", \"\"))\n",
    "        plots.append(temp)\n",
    "        temp = []\n",
    "    return plots"
   ]
  },
  {
   "cell_type": "code",
   "execution_count": 11,
   "metadata": {},
   "outputs": [
    {
     "name": "stdout",
     "output_type": "stream",
     "text": [
      "4983\n",
      "4983\n"
     ]
    }
   ],
   "source": [
    "features_load = np.load('hog_feutures.npy', allow_pickle=True)\n",
    "names_load = np.load('img_names_hog.npy', allow_pickle=True)\n",
    "print(len(features_load))\n",
    "print(len(names_load))"
   ]
  },
  {
   "cell_type": "code",
   "execution_count": 12,
   "metadata": {},
   "outputs": [
    {
     "name": "stdout",
     "output_type": "stream",
     "text": [
      "[0.1157286  0.05441808 0.02286727 ... 0.03742297 0.06956457 0.02558986]\n",
      "(61, 50, '160607_Min', 10.0)\n"
     ]
    }
   ],
   "source": [
    "labels = get_lodging_scores.get_labels()\n",
    "#[ROI, Visual SCORE, FLIGHTFolder, BIN]\n",
    "print(features_load[0])\n",
    "ht_mean = features_load[0].mean(axis=0)\n",
    "ht_mean\n",
    "\n",
    "print(labels[0])"
   ]
  },
  {
   "cell_type": "code",
   "execution_count": 13,
   "metadata": {},
   "outputs": [],
   "source": [
    "names = it_name_extract_labels_from_img(names_load)"
   ]
  },
  {
   "cell_type": "code",
   "execution_count": 14,
   "metadata": {},
   "outputs": [],
   "source": [
    "def match_pic_label(features, labels, names):\n",
    "    n = len(labels)\n",
    "    m = len(names)\n",
    "    data_frame = []\n",
    "    for i in range(n):\n",
    "        for j in range(m):\n",
    "            if (str(labels[i][0]) == str(names[j][0]) and labels[i][2] == names[j][1]):\n",
    "                data_frame.append(np.hstack((features[j], labels[i][3])))\n",
    "    return data_frame"
   ]
  },
  {
   "cell_type": "code",
   "execution_count": 20,
   "metadata": {},
   "outputs": [],
   "source": [
    "class_weights =    {1:{1:0, 2:1, 3:2, 4:3, 5:4, 6:5, 7:6, 8:7, 9:8, 10:9, 11:10, 12:11, 13:12, 14:13, 15:14, 16:15, 17:16, 18:17, 19:18, 20:19},\n",
    "                    2:{1:1, 2:0, 3:1, 4:2, 5:3, 6:4, 7:5, 8:6, 9:7, 10:8, 11:9, 12:10, 13:11, 14:12, 15:13, 16:14, 17:15, 18:16, 19:17, 20:18},\n",
    "                    3:{1:2, 2:1, 3:0, 4:1, 5:2, 6:3, 7:4, 8:5, 9:6, 10:7, 11:8, 12:9, 13:10, 14:11, 15:12, 16:13, 17:14, 18:15, 19:16, 20:17},\n",
    "                    4:{1:3, 2:2, 3:1, 4:0, 5:1, 6:2, 7:3, 8:4, 9:5, 10:6, 11:7, 12:8, 13:9, 14:10, 15:11, 16:12, 17:13, 18:14, 19:15, 20:16},\n",
    "                    5:{1:4, 2:3, 3:2, 4:1, 5:0, 6:1, 7:2, 8:3, 9:4, 10:5, 11:6, 12:7, 13:8, 14:9, 15:10, 16:11, 17:12, 18:13, 19:14, 20:15},\n",
    "                    6:{1:5, 2:4, 3:3, 4:2, 5:1, 6:0, 7:1, 8:2, 9:3, 10:4, 11:5, 12:6, 13:7, 14:8, 15:9, 16:10, 17:11, 18:12, 19:13, 20:14},\n",
    "                    7:{1:6, 2:5, 3:4, 4:3, 5:2, 6:1, 7:0, 8:1, 9:2, 10:3, 11:4, 12:5, 13:6, 14:7, 15:8, 16:9, 17:10, 18:11, 19:12, 20:13},\n",
    "                    8:{1:7, 2:6, 3:5, 4:4, 5:3, 6:2, 7:1, 8:0, 9:1, 10:2, 11:3, 12:4, 13:5, 14:6, 15:7, 16:8, 17:9, 18:10, 19:11, 20:12},\n",
    "                    9:{1:8, 2:7, 3:6, 4:5, 5:4, 6:3, 7:2, 8:1, 9:0, 10:1, 11:2, 12:3, 13:4, 14:5, 15:6, 16:7, 17:8, 18:0, 19:10, 20:11},\n",
    "                    10:{1:9, 2:8, 3:7, 4:6, 5:5, 6:4, 7:3, 8:2, 9:1, 10:0, 11:1, 12:2, 13:3, 14:4, 15:5, 16:6, 17:7, 18:8, 19:9, 20:10},\n",
    "                    11:{1:10, 2:9, 3:8, 4:7, 5:6, 6:5, 7:4, 8:3, 9:2, 10:1, 11:0, 12:1, 13:2, 14:3, 15:4, 16:5, 17:6, 18:7, 19:8, 20:9},\n",
    "                    12:{1:11, 2:10, 3:9, 4:8, 5:7, 6:6, 7:5, 8:4, 9:3, 10:2, 11:1, 12:0, 13:1, 14:2, 15:3, 16:4, 17:5, 18:6, 19:7, 20:8},\n",
    "                    13:{1:12, 2:11, 3:10, 4:9, 5:8, 6:7, 7:6, 8:5, 9:4, 10:3, 11:2, 12:1, 13:0, 14:1, 15:2, 16:3, 17:4, 18:5, 19:6, 20:7},\n",
    "                    14:{1:13, 2:12, 3:11, 4:10, 5:9, 6:8, 7:7, 8:6, 9:5, 10:4, 11:3, 12:2, 13:1, 14:0, 15:1, 16:2, 17:3, 18:4, 19:5, 20:6},\n",
    "                    15:{1:14, 2:13, 3:12, 4:11, 5:10, 6:9, 7:8, 8:7, 9:6, 10:5, 11:4, 12:3, 13:2, 14:1, 15:0, 16:1, 17:2, 18:3, 19:4, 20:5},\n",
    "                    16:{1:15, 2:14, 3:13, 4:12, 5:11, 6:10, 7:9, 8:8, 9:7, 10:6, 11:5, 12:4, 13:3, 14:2, 15:1, 16:0, 17:1, 18:2, 19:3, 20:4},\n",
    "                    17:{1:16, 2:15, 3:14, 4:13, 5:12, 6:11, 7:10, 8:9, 9:8, 10:7, 11:6, 12:5, 13:4, 14:3, 15:2, 16:1, 17:0, 18:1, 19:2, 20:3},\n",
    "                    18:{1:17, 2:16, 3:15, 4:14, 5:13, 6:12, 7:11, 8:10, 9:9, 10:8, 11:7, 12:6, 13:5, 14:4, 15:3, 16:2, 17:1, 18:0, 19:1, 20:2},\n",
    "                    19:{1:18, 2:17, 3:16, 4:15, 5:14, 6:13, 7:12, 8:11, 9:10, 10:9, 11:8, 12:7, 13:6, 14:5, 15:4, 16:3, 17:2, 18:1, 19:0, 20:1},\n",
    "                    20:{1:19, 2:18, 3:17, 4:16, 5:15, 6:14, 7:13, 8:12, 9:11, 10:10, 11:9, 12:8, 13:7, 14:6, 15:5, 16:4, 17:3, 18:2, 19:1, 20:0}}"
   ]
  },
  {
   "cell_type": "code",
   "execution_count": 8,
   "metadata": {},
   "outputs": [],
   "source": [
    "temp = np.array([0, 1, 2, 3, 4, 5, 6, 7, 8, 9, 10, 11, 12, 13, 14, 15, 16, 17, 18, 19])\n",
    "\n",
    "class_weights =    {1:temp}"
   ]
  },
  {
   "cell_type": "code",
   "execution_count": 16,
   "metadata": {},
   "outputs": [
    {
     "name": "stdout",
     "output_type": "stream",
     "text": [
      "[ 0.08800981  0.03827791  0.01016449 ...  0.17049698  0.22913728\n",
      " 10.        ]\n"
     ]
    }
   ],
   "source": [
    "clf = svm.SVC(kernel=\"rbf\", class_weight=class_weights)\n",
    "features_aar = np.array(features_load)\n",
    "data_frame = match_pic_label(features_load, labels, names)\n",
    "print(data_frame[0])\n",
    "np.random.shuffle(data_frame)\n",
    "data_frame = np.array(data_frame)\n"
   ]
  },
  {
   "cell_type": "code",
   "execution_count": 17,
   "metadata": {},
   "outputs": [],
   "source": [
    "percentage = 80\n",
    "partition = int(len(features_aar)*percentage/100)"
   ]
  },
  {
   "cell_type": "code",
   "execution_count": 18,
   "metadata": {},
   "outputs": [
    {
     "name": "stdout",
     "output_type": "stream",
     "text": [
      "[ 4.  6. 12. ...  1.  1.  1.]\n"
     ]
    },
    {
     "ename": "TypeError",
     "evalue": "float() argument must be a string or a real number, not 'dict'",
     "output_type": "error",
     "traceback": [
      "\u001b[1;31m---------------------------------------------------------------------------\u001b[0m",
      "\u001b[1;31mTypeError\u001b[0m                                 Traceback (most recent call last)",
      "Cell \u001b[1;32mIn [18], line 5\u001b[0m\n\u001b[0;32m      2\u001b[0m y_train, y_test \u001b[39m=\u001b[39m data_frame[:partition,\u001b[39m-\u001b[39m\u001b[39m1\u001b[39m:]\u001b[39m.\u001b[39mravel() , data_frame[partition:,\u001b[39m-\u001b[39m\u001b[39m1\u001b[39m:]\u001b[39m.\u001b[39mravel()\n\u001b[0;32m      3\u001b[0m \u001b[39mprint\u001b[39m(y_train)\n\u001b[1;32m----> 5\u001b[0m clf\u001b[39m.\u001b[39mfit(x_train,y_train)\n",
      "File \u001b[1;32mc:\\Users\\marti\\miniconda3\\envs\\imgp2\\lib\\site-packages\\sklearn\\svm\\_base.py:201\u001b[0m, in \u001b[0;36mBaseLibSVM.fit\u001b[1;34m(self, X, y, sample_weight)\u001b[0m\n\u001b[0;32m    191\u001b[0m \u001b[39melse\u001b[39;00m:\n\u001b[0;32m    192\u001b[0m     X, y \u001b[39m=\u001b[39m \u001b[39mself\u001b[39m\u001b[39m.\u001b[39m_validate_data(\n\u001b[0;32m    193\u001b[0m         X,\n\u001b[0;32m    194\u001b[0m         y,\n\u001b[1;32m   (...)\u001b[0m\n\u001b[0;32m    198\u001b[0m         accept_large_sparse\u001b[39m=\u001b[39m\u001b[39mFalse\u001b[39;00m,\n\u001b[0;32m    199\u001b[0m     )\n\u001b[1;32m--> 201\u001b[0m y \u001b[39m=\u001b[39m \u001b[39mself\u001b[39;49m\u001b[39m.\u001b[39;49m_validate_targets(y)\n\u001b[0;32m    203\u001b[0m sample_weight \u001b[39m=\u001b[39m np\u001b[39m.\u001b[39masarray(\n\u001b[0;32m    204\u001b[0m     [] \u001b[39mif\u001b[39;00m sample_weight \u001b[39mis\u001b[39;00m \u001b[39mNone\u001b[39;00m \u001b[39melse\u001b[39;00m sample_weight, dtype\u001b[39m=\u001b[39mnp\u001b[39m.\u001b[39mfloat64\n\u001b[0;32m    205\u001b[0m )\n\u001b[0;32m    206\u001b[0m solver_type \u001b[39m=\u001b[39m LIBSVM_IMPL\u001b[39m.\u001b[39mindex(\u001b[39mself\u001b[39m\u001b[39m.\u001b[39m_impl)\n",
      "File \u001b[1;32mc:\\Users\\marti\\miniconda3\\envs\\imgp2\\lib\\site-packages\\sklearn\\svm\\_base.py:747\u001b[0m, in \u001b[0;36mBaseSVC._validate_targets\u001b[1;34m(self, y)\u001b[0m\n\u001b[0;32m    745\u001b[0m check_classification_targets(y)\n\u001b[0;32m    746\u001b[0m \u001b[39mcls\u001b[39m, y \u001b[39m=\u001b[39m np\u001b[39m.\u001b[39munique(y_, return_inverse\u001b[39m=\u001b[39m\u001b[39mTrue\u001b[39;00m)\n\u001b[1;32m--> 747\u001b[0m \u001b[39mself\u001b[39m\u001b[39m.\u001b[39mclass_weight_ \u001b[39m=\u001b[39m compute_class_weight(\u001b[39mself\u001b[39;49m\u001b[39m.\u001b[39;49mclass_weight, classes\u001b[39m=\u001b[39;49m\u001b[39mcls\u001b[39;49m, y\u001b[39m=\u001b[39;49my_)\n\u001b[0;32m    748\u001b[0m \u001b[39mif\u001b[39;00m \u001b[39mlen\u001b[39m(\u001b[39mcls\u001b[39m) \u001b[39m<\u001b[39m \u001b[39m2\u001b[39m:\n\u001b[0;32m    749\u001b[0m     \u001b[39mraise\u001b[39;00m \u001b[39mValueError\u001b[39;00m(\n\u001b[0;32m    750\u001b[0m         \u001b[39m\"\u001b[39m\u001b[39mThe number of classes has to be greater than one; got \u001b[39m\u001b[39m%d\u001b[39;00m\u001b[39m class\u001b[39m\u001b[39m\"\u001b[39m\n\u001b[0;32m    751\u001b[0m         \u001b[39m%\u001b[39m \u001b[39mlen\u001b[39m(\u001b[39mcls\u001b[39m)\n\u001b[0;32m    752\u001b[0m     )\n",
      "File \u001b[1;32mc:\\Users\\marti\\miniconda3\\envs\\imgp2\\lib\\site-packages\\sklearn\\utils\\class_weight.py:66\u001b[0m, in \u001b[0;36mcompute_class_weight\u001b[1;34m(class_weight, classes, y)\u001b[0m\n\u001b[0;32m     64\u001b[0m \u001b[39mfor\u001b[39;00m i, c \u001b[39min\u001b[39;00m \u001b[39menumerate\u001b[39m(classes):\n\u001b[0;32m     65\u001b[0m     \u001b[39mif\u001b[39;00m c \u001b[39min\u001b[39;00m class_weight:\n\u001b[1;32m---> 66\u001b[0m         weight[i] \u001b[39m=\u001b[39m class_weight[c]\n\u001b[0;32m     67\u001b[0m     \u001b[39melse\u001b[39;00m:\n\u001b[0;32m     68\u001b[0m         unweighted_classes\u001b[39m.\u001b[39mappend(c)\n",
      "\u001b[1;31mTypeError\u001b[0m: float() argument must be a string or a real number, not 'dict'"
     ]
    }
   ],
   "source": [
    "x_train, x_test = data_frame[:partition,:-1],  data_frame[partition:,:-1]\n",
    "y_train, y_test = data_frame[:partition,-1:].ravel() , data_frame[partition:,-1:].ravel()\n",
    "print(y_train)\n",
    "\n",
    "clf.fit(x_train,y_train)"
   ]
  },
  {
   "cell_type": "code",
   "execution_count": 20,
   "metadata": {},
   "outputs": [
    {
     "name": "stdout",
     "output_type": "stream",
     "text": [
      "SVC()\n"
     ]
    }
   ],
   "source": [
    "print(clf)"
   ]
  },
  {
   "cell_type": "code",
   "execution_count": 18,
   "metadata": {},
   "outputs": [],
   "source": [
    "y_pred = clf.predict(x_test)"
   ]
  },
  {
   "cell_type": "code",
   "execution_count": 23,
   "metadata": {},
   "outputs": [],
   "source": [
    "filename = 'SVM_20bins_8x8hog.sav'\n",
    "pickle.dump(clf, open(filename, 'wb'))"
   ]
  },
  {
   "cell_type": "code",
   "execution_count": null,
   "metadata": {},
   "outputs": [],
   "source": [
    "loaded_model = pickle.load(open(filename, 'rb'))\n",
    "result = loaded_model.score(X_test, Y_test)"
   ]
  },
  {
   "cell_type": "code",
   "execution_count": 19,
   "metadata": {},
   "outputs": [
    {
     "name": "stdout",
     "output_type": "stream",
     "text": [
      "Accuracy: 0.5060386473429952\n",
      "\n",
      "\n",
      "              precision    recall  f1-score   support\n",
      "\n",
      "         1.0       0.51      1.00      0.67       383\n",
      "         2.0       0.00      0.00      0.00        61\n",
      "         3.0       0.00      0.00      0.00        41\n",
      "         4.0       0.00      0.00      0.00        28\n",
      "         5.0       0.00      0.00      0.00        34\n",
      "         6.0       0.00      0.00      0.00        35\n",
      "         7.0       0.00      0.00      0.00        30\n",
      "         8.0       0.00      0.00      0.00        25\n",
      "         9.0       0.00      0.00      0.00        14\n",
      "        10.0       0.00      0.00      0.00        29\n",
      "        11.0       0.00      0.00      0.00        14\n",
      "        12.0       1.00      0.04      0.07        27\n",
      "        13.0       1.00      0.04      0.07        27\n",
      "        14.0       0.24      0.19      0.21        26\n",
      "        15.0       0.47      0.47      0.47        30\n",
      "        16.0       0.68      0.65      0.67        23\n",
      "        17.0       0.00      0.00      0.00         1\n",
      "\n",
      "    accuracy                           0.51       828\n",
      "   macro avg       0.23      0.14      0.13       828\n",
      "weighted avg       0.34      0.51      0.36       828\n",
      "\n"
     ]
    },
    {
     "name": "stderr",
     "output_type": "stream",
     "text": [
      "c:\\Users\\marti\\miniconda3\\envs\\imgp2\\lib\\site-packages\\sklearn\\metrics\\_classification.py:1344: UndefinedMetricWarning: Precision and F-score are ill-defined and being set to 0.0 in labels with no predicted samples. Use `zero_division` parameter to control this behavior.\n",
      "  _warn_prf(average, modifier, msg_start, len(result))\n",
      "c:\\Users\\marti\\miniconda3\\envs\\imgp2\\lib\\site-packages\\sklearn\\metrics\\_classification.py:1344: UndefinedMetricWarning: Precision and F-score are ill-defined and being set to 0.0 in labels with no predicted samples. Use `zero_division` parameter to control this behavior.\n",
      "  _warn_prf(average, modifier, msg_start, len(result))\n",
      "c:\\Users\\marti\\miniconda3\\envs\\imgp2\\lib\\site-packages\\sklearn\\metrics\\_classification.py:1344: UndefinedMetricWarning: Precision and F-score are ill-defined and being set to 0.0 in labels with no predicted samples. Use `zero_division` parameter to control this behavior.\n",
      "  _warn_prf(average, modifier, msg_start, len(result))\n"
     ]
    }
   ],
   "source": [
    "print(\"Accuracy: \"+str(accuracy_score(y_test, y_pred)))\n",
    "print('\\n')\n",
    "print(classification_report(y_test, y_pred))"
   ]
  },
  {
   "cell_type": "code",
   "execution_count": null,
   "metadata": {},
   "outputs": [],
   "source": []
  }
 ],
 "metadata": {
  "kernelspec": {
   "display_name": "Python 3.10.9 ('imgp2')",
   "language": "python",
   "name": "python3"
  },
  "language_info": {
   "codemirror_mode": {
    "name": "ipython",
    "version": 3
   },
   "file_extension": ".py",
   "mimetype": "text/x-python",
   "name": "python",
   "nbconvert_exporter": "python",
   "pygments_lexer": "ipython3",
   "version": "3.10.9"
  },
  "orig_nbformat": 4,
  "vscode": {
   "interpreter": {
    "hash": "3a6e5b842e2037657f728d9ad513cfa5a0314365ca8a86cdbfa2f5f3f58bdad7"
   }
  }
 },
 "nbformat": 4,
 "nbformat_minor": 2
}
