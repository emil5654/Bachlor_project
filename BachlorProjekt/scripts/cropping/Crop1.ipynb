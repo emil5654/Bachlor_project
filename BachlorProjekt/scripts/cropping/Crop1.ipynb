{
 "cells": [
  {
   "cell_type": "code",
   "execution_count": 1,
   "metadata": {},
   "outputs": [],
   "source": [
    "import matplotlib.pyplot as plt\n",
    "from skimage import io\n",
    "from skimage import color\n",
    "from skimage.transform import resize\n",
    "import math\n",
    "from skimage.feature import hog\n",
    "import numpy as np\n",
    "import glob\n",
    "import os\n",
    "\n",
    "#importing required libraries\n",
    "from skimage.io import imread\n",
    "from skimage.transform import resize\n",
    "from skimage.feature import hog\n",
    "from skimage import exposure\n",
    "import matplotlib.pyplot as plt\n",
    "\n",
    "import cv2  # importing cv\n",
    "import imutils\n",
    "import load_read_name_extractor as lrne"
   ]
  },
  {
   "cell_type": "code",
   "execution_count": 2,
   "metadata": {},
   "outputs": [],
   "source": [
    "\n",
    "def fix_mask(img, n_r, n_c, ign):\n",
    "    for c in range(n_c):\n",
    "        for r in range(n_r):\n",
    "            if (img[r][c][3] < 255):\n",
    "                img[r][c][3] = 0\n",
    "    return img\n",
    "    \n",
    "def top_pix(img, n_r, n_c, ign):\n",
    "    top = 0\n",
    "    for r in range(n_r):\n",
    "        if not(0 in img[r,ign:n_c-ign,3]):\n",
    "            return r\n",
    "    return top\n",
    "def buttom_pix(img, n_r, n_c, ign):\n",
    "    top = 0\n",
    "    for r in range(n_r-1,0,-1):\n",
    "        if not(0 in img[r,ign:n_c-ign,3]):\n",
    "            return r\n",
    "    return top\n",
    "def left_pix(img, n_r, n_c, ignT, ignB):\n",
    "    top = 0\n",
    "    for c in range(n_c):\n",
    "        if not(0 in img[ignT:ignB,c,3]):\n",
    "            return c\n",
    "    return top\n",
    "def right_pix(img, n_r, n_c, ignT, ignB):\n",
    "    top = 0\n",
    "    for c in range(n_c-1, 0, -1):\n",
    "        if not(0 in img[ignT:ignB,c,3]):\n",
    "            return c\n",
    "    return top\n",
    "def instanciate(img, ign):\n",
    "    n_c = len(img[0])\n",
    "    n_r = len(img)\n",
    "    img = fix_mask(img, n_r, n_c, ign)\n",
    "    top = top_pix(img, n_r, n_c, ign)\n",
    "    buttom = buttom_pix(img, n_r, n_c, ign)\n",
    "    right = right_pix(img, n_r, n_c, top + ign, buttom-ign)\n",
    "    left = left_pix(img, n_r, n_c, top + ign, buttom-ign)\n",
    "    return top, buttom, left, right"
   ]
  },
  {
   "cell_type": "code",
   "execution_count": 3,
   "metadata": {},
   "outputs": [],
   "source": [
    "\n",
    "def find_left_corner (img):\n",
    "    n_c = len(img[0])\n",
    "    n_r = len(img)\n",
    "    for c in range(n_c):\n",
    "        for r in range(n_r):\n",
    "            if (img[r][c][3] == 255):\n",
    "                #print(\"r =\" ,r, \"c =\" ,c)\n",
    "                return r, c\n",
    "\n",
    "def find_right_corner (img):\n",
    "    n_c = len(img[0])\n",
    "    n_r = len(img)\n",
    "    for r in range(n_r):\n",
    "        for c in range(n_c):\n",
    "            if (img[r][c][3] == 255):\n",
    "                #print(\"r =\" ,r, \"c =\" ,c)\n",
    "                return r, c\n",
    "def it_rotate_img(img_list, names):\n",
    "    angle = 0\n",
    "    for i in range(len(img_list)):\n",
    "        r1, c1 = find_left_corner (img_list[i])\n",
    "        r2, c2 = find_right_corner (img_list[i])\n",
    "        a = r1 - r2\n",
    "        c = c2 - c1\n",
    "        try:\n",
    "            angle = np.degrees(np.arctan(a/c))\n",
    "        except:\n",
    "            print(names[i])\n",
    "        #Decides wether the picture i tilted to the right or \n",
    "        # to the left and adds 90 degrees if it is tilted to the left\n",
    "        #This statement doesnt work for 170707_Bj so we removed this for that flight\n",
    "        if (c2 < 200):\n",
    "            img_list[i] = imutils.rotate(img_list[i], angle=-angle-90)\n",
    "        else:\n",
    "            img_list[i] = imutils.rotate(img_list[i], angle=-angle)\n",
    "    return img_list\n",
    "\n",
    "def it_crop_img(img_list):\n",
    "    for i in range (len(img_list)):\n",
    "        current_img = img_list[i]\n",
    "        top, buttom, left, right = instanciate(current_img, 20)\n",
    "        print(top, buttom, left, right, \" Pic: \", i)\n",
    "        img_list[i] = current_img[top:buttom, left:right]\n",
    "        if (0 in img_list[i][:,:, 3]):\n",
    "            #print (\"CROP FAILURE on \", 166+i, \"RETRIES WITH IGNORE VALUE 0\")\n",
    "            current_img = img_list[i]\n",
    "            top, buttom, left, right = instanciate(current_img, 0)\n",
    "            img_list[i] = current_img[top:buttom, left:right]\n",
    "            if (0 in img_list[i][:,:, 3]):\n",
    "                print (\"CROP FAILURE on \", 166+i)\n",
    "    return img_list\n",
    "\n",
    "def it_hog(img_list):\n",
    "    for i in range (len(img_list)):\n",
    "        fd, hog_image = hog(img_list[i], orientations=9, pixels_per_cell=(8, 8),\n",
    "                        cells_per_block=(2, 2), visualize=True, multichannel=True)\n",
    "        #plt.axis(\"off\")\n",
    "        #plt.imshow(hog_image, cmap=\"gray\")\n",
    "        img_list[i] = hog_image\n",
    "    return img_list\n",
    "\n",
    "def save_img_list(img_list, path, names): #save pictures loaded from tif og Flights folder\n",
    "    for i in range (len(img_list)):\n",
    "        #swaped the index of names for use after crop. THis might give problems later on\n",
    "        try:\n",
    "            plt.imsave(path + names[i][0] + \"_\" + names[i][1] + '.jpeg', np.ascontiguousarray(img_list[i]))\n",
    "        except Exception as e:\n",
    "                print('Save Failure On: ' + names[i][1] + \"_\" + names[i][0] + '\\n' + 'With Failure: ' + str(e))\n",
    "    print(\"Images Saved\")\n",
    "    \n",
    "def save_img_list_jpeg(img_list, path, names):#Save pictures created from cropped_no_resize\n",
    "    for i in range (len(img_list)):\n",
    "        #swaped the index of names for use after crop. THis might give problems later on\n",
    "        try:\n",
    "            plt.imsave(path + names[i][1] + \"_\" + names[i][0] + '.jpeg', np.ascontiguousarray(img_list[i]))\n",
    "        except Exception as e:\n",
    "                print('Save Failure On: ' + names[i][1] + \"_\" + names[i][0] + '\\n' + 'With Failure: ' + str(e))\n",
    "    print(\"Images Saved\")\n",
    "\n",
    "def reshape(img_list, names):\n",
    "    r,c = find_max_img_size(img_list)\n",
    "    for i in range(len(img_list)):\n",
    "        try:\n",
    "            img_list[i] = cv2.resize(img_list[i], (c, r))\n",
    "        except Exception as e:\n",
    "            print(\"Reshape Failure On: \" + names[i] + '\\n' + 'With Failure: ' + str(e))\n",
    "    return img_list\n",
    "\n",
    "def find_mean_shape(img_list):\n",
    "    n = len(img_list)\n",
    "    mean_c = 0\n",
    "    mean_r = 0\n",
    "    for i in range(n):\n",
    "        mean_r += img_list[i].shape[0]\n",
    "        mean_c += img_list[i].shape[1]\n",
    "    \n",
    "    return int(np.floor((mean_r/n)/8)*8), int(np.floor((mean_c/n)/8)*8)\n",
    "\n",
    "def find_min_img_size(img_list):\n",
    "    areas = [pic.shape[0] * pic.shape[0] for pic in img_list]\n",
    "    smallest_index = areas.index(min(areas))\n",
    "    smallest_image = img_list[smallest_index]\n",
    "    return smallest_image.shape[0], smallest_image.shape[1]\n",
    "\n",
    "def find_max_img_size(img_list):\n",
    "    areas = [pic.shape[0] * pic.shape[0] for pic in img_list]\n",
    "    highest_index = areas.index(max(areas))\n",
    "    biggest_image = img_list[highest_index]\n",
    "    return biggest_image.shape[0], biggest_image.shape[1]\n",
    "\n",
    "def find_posible_hog(n_collumn, n_rows):  \n",
    "    #i is ppc\n",
    "    #j is cpb\n",
    "    comb = []\n",
    "    for i in range (1, 30):\n",
    "        for j in range (1, 30):\n",
    "            block_size=(i*j)/2\n",
    "            if (block_size % 2 == 0):\n",
    "                half_block_size=int((i*j)/2)\n",
    "            else:\n",
    "                half_block_size=(i*j)/2\n",
    "            \n",
    "            if (n_collumn % half_block_size == 0) and (n_rows % half_block_size == 0):\n",
    "                comb.append((i,j))\n",
    "    return comb"
   ]
  },
  {
   "cell_type": "code",
   "execution_count": 4,
   "metadata": {},
   "outputs": [
    {
     "name": "stdout",
     "output_type": "stream",
     "text": [
      "4915\n"
     ]
    },
    {
     "data": {
      "text/plain": [
       "'cropped_no_resize/160607_Min_92.jpeg'"
      ]
     },
     "execution_count": 4,
     "metadata": {},
     "output_type": "execute_result"
    }
   ],
   "source": [
    "img_list, names = lrne.load_name_and_img('cropped_no_resize/*.jpeg')\n",
    "print(len(img_list))\n",
    "names[0]"
   ]
  },
  {
   "cell_type": "code",
   "execution_count": 5,
   "metadata": {},
   "outputs": [
    {
     "name": "stdout",
     "output_type": "stream",
     "text": [
      "(144, 496)\n",
      "(71, 343)\n",
      "(169, 534)\n"
     ]
    }
   ],
   "source": [
    "print(find_mean_shape(img_list))\n",
    "print(find_min_img_size(img_list))\n",
    "print(find_max_img_size(img_list))"
   ]
  },
  {
   "cell_type": "code",
   "execution_count": 6,
   "metadata": {},
   "outputs": [],
   "source": [
    "list_test = lrne.it_name_extract_labels_from_img_jpeg(names)"
   ]
  },
  {
   "cell_type": "code",
   "execution_count": 7,
   "metadata": {},
   "outputs": [
    {
     "name": "stdout",
     "output_type": "stream",
     "text": [
      "['92', '160607_Min']\n"
     ]
    }
   ],
   "source": [
    "print(list_test[0])"
   ]
  },
  {
   "cell_type": "code",
   "execution_count": 8,
   "metadata": {},
   "outputs": [
    {
     "name": "stdout",
     "output_type": "stream",
     "text": [
      "Images Saved\n"
     ]
    }
   ],
   "source": [
    "def it_process(img_list, names):\n",
    "    #img_list = it_rotate_img(img_list, names)\n",
    "    #img_list = it_crop_img(img_list)\n",
    "    img_list = reshape(img_list, names)\n",
    "    name_list = lrne.it_name_extract_labels_from_img_jpeg(names)\n",
    "    save_img_list(img_list, \"cropped_max/\", name_list)\n",
    "it_process(img_list, names)"
   ]
  },
  {
   "cell_type": "code",
   "execution_count": 9,
   "metadata": {},
   "outputs": [
    {
     "ename": "NameError",
     "evalue": "name 'output' is not defined",
     "output_type": "error",
     "traceback": [
      "\u001b[0;31m---------------------------------------------------------------------------\u001b[0m",
      "\u001b[0;31mNameError\u001b[0m                                 Traceback (most recent call last)",
      "\u001b[0;32m/tmp/ipykernel_117164/3167206392.py\u001b[0m in \u001b[0;36m<cell line: 1>\u001b[0;34m()\u001b[0m\n\u001b[0;32m----> 1\u001b[0;31m \u001b[0moutput\u001b[0m\u001b[0;34m.\u001b[0m\u001b[0mshow\u001b[0m\u001b[0;34m\u001b[0m\u001b[0;34m\u001b[0m\u001b[0m\n\u001b[0m",
      "\u001b[0;31mNameError\u001b[0m: name 'output' is not defined"
     ]
    }
   ],
   "source": [
    "output.show"
   ]
  }
 ],
 "metadata": {
  "kernelspec": {
   "display_name": "Python 3 (ipykernel)",
   "language": "python",
   "name": "python3"
  },
  "language_info": {
   "codemirror_mode": {
    "name": "ipython",
    "version": 3
   },
   "file_extension": ".py",
   "mimetype": "text/x-python",
   "name": "python",
   "nbconvert_exporter": "python",
   "pygments_lexer": "ipython3",
   "version": "3.9.12"
  },
  "vscode": {
   "interpreter": {
    "hash": "951acce4ee2d6eb9fe3565b96e466293146d7f1585a7e067fb08e2ff6ef89eb0"
   }
  }
 },
 "nbformat": 4,
 "nbformat_minor": 4
}
