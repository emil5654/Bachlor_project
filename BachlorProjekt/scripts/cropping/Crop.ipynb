{
 "cells": [
  {
   "cell_type": "code",
   "execution_count": 9,
   "metadata": {},
   "outputs": [],
   "source": [
    "import matplotlib.pyplot as plt\n",
    "from skimage import io\n",
    "from skimage import color\n",
    "from skimage.transform import resize\n",
    "import math\n",
    "from skimage.feature import hog\n",
    "import numpy as np\n",
    "import glob\n",
    "import os\n",
    "#importing required libraries\n",
    "from skimage.io import imread\n",
    "from skimage.transform import resize\n",
    "from skimage.feature import hog\n",
    "from skimage import exposure\n",
    "import matplotlib.pyplot as plt\n",
    "\n",
    "import cv2  # importing cv\n",
    "import imutils\n",
    "\n",
    "import load_read_name_extractor as lrne\n",
    "  \n",
    "  \n"
   ]
  },
  {
   "cell_type": "code",
   "execution_count": 10,
   "metadata": {},
   "outputs": [],
   "source": [
    "\n",
    "def fix_mask(img, n_r, n_c, ign):\n",
    "    for c in range(n_c):\n",
    "        for r in range(n_r):\n",
    "            if (img[r][c][3] < 255):\n",
    "                img[r][c][3] = 0\n",
    "    return img\n",
    "    \n",
    "def top_pix(img, n_r, n_c, ign):\n",
    "    top = 0\n",
    "    for r in range(n_r):\n",
    "        if not(0 in img[r,ign:n_c-ign,3]):\n",
    "            return r\n",
    "    return top\n",
    "def buttom_pix(img, n_r, n_c, ign):\n",
    "    top = 0\n",
    "    for r in range(n_r-1,0,-1):\n",
    "        if not(0 in img[r,ign:n_c-ign,3]):\n",
    "            return r\n",
    "    return top\n",
    "def left_pix(img, n_r, n_c, ignT, ignB):\n",
    "    top = 0\n",
    "    for c in range(n_c):\n",
    "        if not(0 in img[ignT:ignB,c,3]):\n",
    "            return c\n",
    "    return top\n",
    "def right_pix(img, n_r, n_c, ignT, ignB):\n",
    "    top = 0\n",
    "    for c in range(n_c-1, 0, -1):\n",
    "        if not(0 in img[ignT:ignB,c,3]):\n",
    "            return c\n",
    "    return top\n",
    "def instanciate(img, ign):\n",
    "    n_c = len(img[0])\n",
    "    n_r = len(img)\n",
    "    img = fix_mask(img, n_r, n_c, ign)\n",
    "    top = top_pix(img, n_r, n_c, ign)\n",
    "    buttom = buttom_pix(img, n_r, n_c, ign)\n",
    "    right = right_pix(img, n_r, n_c, top + ign, buttom-ign)\n",
    "    left = left_pix(img, n_r, n_c, top + ign, buttom-ign)\n",
    "    return top, buttom, left, right"
   ]
  },
  {
   "cell_type": "code",
   "execution_count": 11,
   "metadata": {},
   "outputs": [],
   "source": [
    "\n",
    "def find_left_corner (img):\n",
    "    n_c = len(img[0])\n",
    "    n_r = len(img)\n",
    "    for c in range(n_c):\n",
    "        for r in range(n_r):\n",
    "            if (img[r][c][3] == 255):\n",
    "                #print(\"r =\" ,r, \"c =\" ,c)\n",
    "                return r, c\n",
    "\n",
    "def find_right_corner (img):\n",
    "    n_c = len(img[0])\n",
    "    n_r = len(img)\n",
    "    for r in range(n_r):\n",
    "        for c in range(n_c):\n",
    "            if (img[r][c][3] == 255):\n",
    "                #print(\"r =\" ,r, \"c =\" ,c)\n",
    "                return r, c\n",
    "def it_rotate_img(img_list, names):\n",
    "    angle = 0\n",
    "    for i in range(len(img_list)):\n",
    "        r1, c1 = find_left_corner (img_list[i])\n",
    "        r2, c2 = find_right_corner (img_list[i])\n",
    "        a = r1 - r2\n",
    "        c = c2 - c1\n",
    "        try:\n",
    "            angle = np.degrees(np.arctan(a/c))\n",
    "        except:\n",
    "            print(names[i])\n",
    "        #Decides wether the picture i tilted to the right or \n",
    "        # to the left and adds 90 degrees if it is tilted to the left\n",
    "        #This statement doesnt work for 170707_Bj so we removed this for that flight\n",
    "        if (c2 < 200):\n",
    "            img_list[i] = imutils.rotate(img_list[i], angle=-angle-90)\n",
    "        else:\n",
    "            img_list[i] = imutils.rotate(img_list[i], angle=-angle)\n",
    "    return img_list\n",
    "\n",
    "def it_crop_img(img_list):\n",
    "    for i in range (len(img_list)):\n",
    "        current_img = img_list[i]\n",
    "        top, buttom, left, right = instanciate(current_img, 20)\n",
    "        print(top, buttom, left, right)\n",
    "        img_list[i] = current_img[top:buttom, left:right]\n",
    "        if (0 in img_list[i][:,:, 3]):\n",
    "            #print (\"CROP FAILURE on \", 166+i, \"RETRIES WITH IGNORE VALUE 0\")\n",
    "            current_img = img_list[i]\n",
    "            top, buttom, left, right = instanciate(current_img, 0)\n",
    "            img_list[i] = current_img[top:buttom, left:right]\n",
    "            if (0 in img_list[i][:,:, 3]):\n",
    "                print (\"CROP FAILURE on \", 166+i)\n",
    "    return img_list\n",
    "\n",
    "def it_hog(img_list):\n",
    "    for i in range (len(img_list)):\n",
    "        fd, hog_image = hog(img_list[i], orientations=9, pixels_per_cell=(8, 8),\n",
    "                        cells_per_block=(2, 2), visualize=True, multichannel=True)\n",
    "        #plt.axis(\"off\")\n",
    "        #plt.imshow(hog_image, cmap=\"gray\")\n",
    "        img_list[i] = hog_image\n",
    "    return img_list\n",
    "\n",
    "def save_img_list(img_list, path, names):\n",
    "    for i in range (len(img_list)):\n",
    "        #swaped the index of names for use after crop. THis might give problems later on\n",
    "        try:\n",
    "            plt.imsave(path + names[i][1] + \"_\" + names[i][0] + '.jpeg', np.ascontiguousarray(img_list[i]))\n",
    "        except Exception as e:\n",
    "                print('Save Failure On: ' + names[i][1] + \"_\" + names[i][0] + '\\n' + 'With Failure: ' + str(e))\n",
    "\n",
    "def reshape(img_list, names):\n",
    "    r,c = find_mean_shape(img_list)\n",
    "    r = int(np.floor(r/2))\n",
    "    c = int(np.floor(c/2))\n",
    "    for i in range(len(img_list)):\n",
    "        try:\n",
    "            img_list[i] = cv2.resize(img_list[i], (c, r))\n",
    "        except Exception as e:\n",
    "            print(\"Reshape Failure On: \" + names[i] + '\\n' + 'With Failure: ' + str(e))\n",
    "    return img_list\n",
    "\n",
    "def find_mean_shape(img_list):\n",
    "    n = len(img_list)\n",
    "    mean_c = 0\n",
    "    mean_r = 0\n",
    "    for i in range(n):\n",
    "        mean_r += img_list[i].shape[0]\n",
    "        mean_c += img_list[i].shape[1]\n",
    "    \n",
    "    return int(np.floor((mean_r/n)/8)*8), int(np.floor((mean_c/n)/8)*8)\n",
    "\n",
    "            \n",
    "    "
   ]
  },
  {
   "cell_type": "code",
   "execution_count": 12,
   "metadata": {},
   "outputs": [],
   "source": [
    "img_list, names = lrne.load_name_and_img('cropped/*.jpeg')\n"
   ]
  },
  {
   "cell_type": "code",
   "execution_count": 13,
   "metadata": {},
   "outputs": [
    {
     "name": "stdout",
     "output_type": "stream",
     "text": [
      "4915\n"
     ]
    },
    {
     "data": {
      "text/plain": [
       "'cropped\\\\160607_Min_100.jpeg'"
      ]
     },
     "execution_count": 13,
     "metadata": {},
     "output_type": "execute_result"
    }
   ],
   "source": [
    "print(len(img_list))\n",
    "names[0]"
   ]
  },
  {
   "cell_type": "code",
   "execution_count": 14,
   "metadata": {},
   "outputs": [],
   "source": [
    "list_test = lrne.it_name_extract_labels_from_img_jpeg(names)"
   ]
  },
  {
   "cell_type": "code",
   "execution_count": 15,
   "metadata": {},
   "outputs": [
    {
     "name": "stdout",
     "output_type": "stream",
     "text": [
      "['100', '160607_Min']\n"
     ]
    }
   ],
   "source": [
    "print(list_test[0])"
   ]
  },
  {
   "cell_type": "code",
   "execution_count": 16,
   "metadata": {},
   "outputs": [],
   "source": [
    "\n",
    "def it_process(img_list, names):\n",
    "    img_list = it_rotate_img(img_list, names)\n",
    "    img_list = it_crop_img(img_list)\n",
    "    #img_list = reshape(img_list, names)\n",
    "    name_list = lrne.it_name_extract_labels_from_img(names)\n",
    "    save_img_list(img_list, \"cropped_72_248/\", name_list)\n",
    "\n",
    "it_process(img_list, names)\n"
   ]
  },
  {
   "cell_type": "code",
   "execution_count": null,
   "metadata": {},
   "outputs": [],
   "source": []
  }
 ],
 "metadata": {
  "kernelspec": {
   "display_name": "Python 3 (ipykernel)",
   "language": "python",
   "name": "python3"
  },
  "language_info": {
   "codemirror_mode": {
    "name": "ipython",
    "version": 3
   },
   "file_extension": ".py",
   "mimetype": "text/x-python",
   "name": "python",
   "nbconvert_exporter": "python",
   "pygments_lexer": "ipython3",
   "version": "3.9.12"
  },
  "vscode": {
   "interpreter": {
    "hash": "951acce4ee2d6eb9fe3565b96e466293146d7f1585a7e067fb08e2ff6ef89eb0"
   }
  }
 },
 "nbformat": 4,
 "nbformat_minor": 4
}
