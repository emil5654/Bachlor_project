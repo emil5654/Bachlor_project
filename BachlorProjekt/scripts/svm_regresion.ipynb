{
 "cells": [
  {
   "cell_type": "code",
   "execution_count": 1,
   "metadata": {},
   "outputs": [],
   "source": [
    "#We need these in this file:\n",
    "import load_read_name_extractor as lrne\n",
    "import SVM_classifier_general as SVM_GENERAL\n",
    "import os\n",
    "import pickle\n",
    "from sklearn.metrics import r2_score,mean_squared_error"
   ]
  },
  {
   "cell_type": "code",
   "execution_count": 3,
   "metadata": {},
   "outputs": [
    {
     "name": "stdout",
     "output_type": "stream",
     "text": [
      "4983\n",
      "4983\n"
     ]
    }
   ],
   "source": [
    "features_load = np.load('features/hog_features_hog_cells_8x8_block_2x2.npy', allow_pickle=True)\n",
    "names_load = np.load('features/img_names_hog_cells_8x8_block_2x2.npy', allow_pickle=True)\n",
    "print(len(features_load))\n",
    "print(len(names_load))"
   ]
  },
  {
   "cell_type": "code",
   "execution_count": 4,
   "metadata": {},
   "outputs": [
    {
     "name": "stdout",
     "output_type": "stream",
     "text": [
      "[0.25384534 0.13523542 0.0568279  ... 0.08940607 0.16619457 0.06113594]\n",
      "(61, 50, '160607_Min', 10.0)\n"
     ]
    }
   ],
   "source": [
    "labels = get_lodging_scores.get_labels(5)\n",
    "#[ROI, Visual SCORE, FLIGHTFolder, BIN]\n",
    "print(features_load[0])\n",
    "print(labels[0])"
   ]
  },
  {
   "cell_type": "code",
   "execution_count": 5,
   "metadata": {},
   "outputs": [],
   "source": [
    "names = lrne.it_name_extract_labels_from_img_jpeg(names_load)"
   ]
  },
  {
   "cell_type": "code",
   "execution_count": 7,
   "metadata": {},
   "outputs": [
    {
     "name": "stdout",
     "output_type": "stream",
     "text": [
      "[ 0.20380611  0.08864094  0.02353812 ...  0.30848572  0.30848572\n",
      " 10.        ]\n"
     ]
    }
   ],
   "source": [
    "clf = svm.SVR(kernel=\"rbf\")\n",
    "features_aar = np.array(features_load)\n",
    "data_frame = SVM_general.match_pic_label(features_load, labels, names)\n",
    "np.random.shuffle(data_frame)\n",
    "data_frame = np.array(data_frame)\n"
   ]
  },
  {
   "cell_type": "code",
   "execution_count": 11,
   "metadata": {},
   "outputs": [
    {
     "name": "stdout",
     "output_type": "stream",
     "text": [
      "[12. 14.  3. ...  1.  5. 14.]\n",
      "[ 2.  9. 14. 12.  1.  1. 15.  4.  1.  2.  1.  1.  1.  6.  7. 14.  1.  1.\n",
      " 16. 11.  1.  1.  8.  1.  8.  1.  3.  7.  1. 12. 10.  6.  1.  4.  1. 16.\n",
      " 13.  1.  1.  1. 15.  4. 16. 15.  1.  4.  3.  3.  1.  2.  1.  1.  1.  3.\n",
      "  4.  1.  9.  1.  3.  1.  1.  7.  2.  1. 15.  8. 13.  2.  1.  8.  4.  1.\n",
      "  1.  1.  1.  7. 10.  4.  2. 16.  5. 13.  1.  1. 12.  6.  1. 12.  6.  1.\n",
      "  1.  1.  7.  1. 11. 12.  1.  1. 12.  9.  1.  3. 12.  1. 15.  1.  1.  1.\n",
      "  1.  1.  1.  1.  3.  1.  1.  1. 13. 13.  1.  1.  1.  1.  1.  1.  1.  1.\n",
      "  1.  5.  1.  2. 16.  1.  1. 10.  4. 14.  1.  1.  5.  1. 14. 16. 13.  1.\n",
      " 11.  1.  1.  6.  1.  1.  1.  2.  1. 14. 13.  1. 10.  1.  1. 10.  7.  5.\n",
      "  1.  9.  1.  1.  1.  2.  2.  1.  1.  7.  1. 15. 14. 14.  1.  2.  1.  1.\n",
      " 12.  1.  1.  2. 10.  1. 14.  2.  1.  4.  1.  3.  2.  6.  1.  3.  5. 14.\n",
      "  1.  3.  2.  7.  2.  3. 11.  1.  1.  8.  1.  1.  1. 11.  4.  8.  1. 11.\n",
      "  2.  3.  4. 11. 12.  5.  1.  1.  1. 10.  1.  2.  1.  1.  1.  1. 13. 15.\n",
      " 15.  1.  1.  8. 14.  2.  1. 12.  1.  1.  1.  6. 15.  1.  6. 14.  3.  3.\n",
      " 16. 15.  9.  7.  2.  9. 13.  1. 12.  1.  1.  1.  8.  1.  6. 10.  1.  5.\n",
      "  4. 11. 15.  1.  8.  1.  1.  1.  1.  1.  1.  8.  8.  1.  1.  1.  1.  1.\n",
      "  2. 14.  4.  1.  1.  2.  9. 15.  6.  1. 16.  5.  1.  1.  3. 12.  1.  1.\n",
      " 14. 11.  5.  1.  3.  3.  2.  5.  6.  1.  1.  1. 10.  5.  3.  7. 14.  1.\n",
      "  1.  1.  1. 12.  1. 10.  2. 12. 10.  7.  1.  1.  1. 12.  8. 14. 16.  2.\n",
      "  2.  1.  8.  1. 10.  6.  6.  4.  1. 16.  1.  5.  1.  7.  1.  1.  1.  3.\n",
      " 13.  8.  1.  1.  1. 11.  1.  6. 16. 12.  1. 14.  1.  1.  1.  1.  3.  1.\n",
      "  1.  6. 14.  7.  1.  2. 11.  2.  1.  1.  1.  8.  6.  1.  1.  5. 11.  1.\n",
      "  1.  1. 15.  1. 13. 16.  3.  1. 14.  4. 13. 11.  1.  1.  1.  1.  1. 10.\n",
      "  2.  1.  1.  1.  7.  1.  1. 10.  1.  1.  1. 11.  1.  2.  8.  3. 13.  3.\n",
      "  1.  6.  1. 14.  8.  1. 13.  5.  1. 14. 14. 13.  4.  1.  1.  2. 14.  1.\n",
      "  1.  1.  8.  2.  1.  2.  1.  4.  2.  7. 13.  1.  1.  1. 15. 15.  8. 12.\n",
      "  1.  8.  8.  2.  7. 15.  6.  7.  6. 10.  3.  2. 15.  5.  1.  1.  1.  8.\n",
      " 15.  1.  1.  1.  2. 13. 15.  8.  5.  1. 13.  6.  1.  1.  2.  1.  4.  1.\n",
      "  8.  1.  1.  1.  1. 15. 13.  7.  4.  1.  1.  3.  1.  1.  5.  1.  1.  2.\n",
      "  1.  1.  6. 13.  1.  1.  2.  4.  1.  1.  4.  1.  1.  1.  1. 13.  5.  1.\n",
      "  1.  8. 14.  1.  3.  3.  1. 15. 12. 11. 15.  1.  3.  7.  4.  2.  7.  3.\n",
      "  1.  1.  2. 10.  6. 12. 10.  2.  1. 12.  4.  1.  1.  1.  7.  7.  3.  3.\n",
      "  1.  1.  1. 12. 14.  1. 14.  1.  1.  1. 13.  4.  6. 12.  1.  1.  1.  1.\n",
      " 13.  1.  5.  1.  1. 13.  6. 13.  1.  2.  1.  1.  1.  1. 13. 10.  1.  1.\n",
      "  1.  1.  1.  1.  1. 15.  5.  1.  1.  1.  1.  6. 10.  3.  1.  2. 10.  3.\n",
      "  1.  6. 16. 13. 11.  1.  1. 13. 13.  8.  1.  1.  1.  1.  1.  1.  6. 12.\n",
      "  1.  1.  6.  5.  2.  1.  1.  1. 13.  1.  1. 10.  1.  1.  1.  6.  8. 15.\n",
      "  4.  1.  1.  1.  1. 13. 15.  1. 12.  6.  4.  6.  4.  1. 10.  1. 11.  1.\n",
      "  7. 12.  1.  1.  1.  1.  8. 10.  1.  1.  6.  4.  3.  2. 14.  1. 11.  2.\n",
      "  2.  7.  4.  8.  1.  1.  5.  1.  1.  3.  3. 15. 15. 12.  9. 12.  4.  6.\n",
      " 13. 13.  1. 15.  8.  1.  2.  1. 16.  1.  1.  8.  3. 13.  6.  1.  5.  3.\n",
      "  1.  2.  4.  2.  3.  2. 13. 10.  1.  1.  6.  1. 13.  7.  6.  2. 15.  1.\n",
      "  3.  1.  4.  8.  1.  8.  7. 15.  1.  6.  2.  4.  1. 16.  7.  3.  1.  1.\n",
      " 13.  1. 16. 12.  1. 13.  1.  4.  1.  1.  1.  5.  1.  6.  1.  1.  1.  1.\n",
      "  1.  8.  6. 12.  5.  1.  4. 13.  1. 10.  1.  3.  1.  1.  1.  1.  1.  1.\n",
      "  1.  5.  1.  1.  1. 14.  1.  2.  1.  1.  1.  1.  1. 13.  1.  1.  1.  1.]\n"
     ]
    }
   ],
   "source": [
    "percentage = 80\n",
    "partition = int(len(features_aar)*percentage/100)\n",
    "x_train, x_test = data_frame[:partition,:-1],  data_frame[partition:,:-1]\n",
    "y_train, y_test = data_frame[:partition,-1:].ravel() , data_frame[partition:,-1:].ravel()"
   ]
  },
  {
   "cell_type": "code",
   "execution_count": null,
   "metadata": {},
   "outputs": [],
   "source": [
    "\n",
    "clf.fit(x_train,y_train)"
   ]
  },
  {
   "cell_type": "code",
   "execution_count": null,
   "metadata": {},
   "outputs": [],
   "source": [
    "y_pred = clf.predict(x_test)"
   ]
  },
  {
   "cell_type": "code",
   "execution_count": null,
   "metadata": {},
   "outputs": [],
   "source": [
    "filename = 'model/SVMR_3bins_cells_8x8_block_2x2.sav'\n",
    "pickle.dump(clf, open(filename, 'wb'))"
   ]
  },
  {
   "cell_type": "code",
   "execution_count": null,
   "metadata": {},
   "outputs": [],
   "source": [
    "#loaded_model = pickle.load(open(filename, 'rb'))\n",
    "#result = loaded_model.score(X_test, Y_test)"
   ]
  },
  {
   "cell_type": "code",
   "execution_count": null,
   "metadata": {},
   "outputs": [],
   "source": [
    "mse = mean_squared_error(y_test, y_pred)\n",
    "rmse = np.sqrt(mse)"
   ]
  },
  {
   "cell_type": "code",
   "execution_count": null,
   "metadata": {},
   "outputs": [
    {
     "name": "stdout",
     "output_type": "stream",
     "text": [
      "MSE 13.624646818040647\n",
      "RMSE 3.6911579237470518\n"
     ]
    }
   ],
   "source": [
    "print(\"MSE \"+str(mse))\n",
    "print(\"RMSE \"+str(rmse))\n",
    "#print(classification_report(y_test, y_pred))"
   ]
  }
 ],
 "metadata": {
  "kernelspec": {
   "display_name": "Python 3.10.9 ('imgp2')",
   "language": "python",
   "name": "python3"
  },
  "language_info": {
   "codemirror_mode": {
    "name": "ipython",
    "version": 3
   },
   "file_extension": ".py",
   "mimetype": "text/x-python",
   "name": "python",
   "nbconvert_exporter": "python",
   "pygments_lexer": "ipython3",
   "version": "3.10.9"
  },
  "orig_nbformat": 4,
  "vscode": {
   "interpreter": {
    "hash": "3a6e5b842e2037657f728d9ad513cfa5a0314365ca8a86cdbfa2f5f3f58bdad7"
   }
  }
 },
 "nbformat": 4,
 "nbformat_minor": 2
}
