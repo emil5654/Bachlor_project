{
 "cells": [
  {
   "cell_type": "code",
   "execution_count": 1,
   "id": "a9befa8b-558c-4122-a1e8-e3337a06a722",
   "metadata": {},
   "outputs": [],
   "source": [
    "#We need these in this file:\n",
    "import numpy as np\n",
    "import pandas as pd\n",
    "from sklearn import svm\n",
    "from sklearn.metrics import classification_report,accuracy_score\n",
    "import numpy as np # linear algebra\n",
    "import get_lodging_scores\n",
    "import SVM_classifier_general as svm_general\n",
    "import pickle\n",
    "from sklearn.metrics import make_scorer\n",
    "from sklearn.model_selection import GridSearchCV\n",
    "import glob\n",
    "import matplotlib.pyplot as plt\n",
    "import sys\n",
    "sys.path.append('cropping')\n",
    "import load_read_name_extractor as lrne\n",
    "from numba import jit, cuda"
   ]
  },
  {
   "cell_type": "code",
   "execution_count": 2,
   "id": "7692a6fd-4117-4e80-bc1c-c4ad07307c2e",
   "metadata": {},
   "outputs": [],
   "source": [
    "def match_pic_label_to_names_new(features, labels, names):\n",
    "    n = len(labels)\n",
    "    m = len(names) \n",
    "    error = []\n",
    "    names_with_match = []\n",
    "    for i in range(n):\n",
    "        matched = False\n",
    "        for j in range(m):\n",
    "            if (str(labels[i][0]) == str(names[j][0]) and labels[i][2] == names[j][1]):\n",
    "                    names_with_match.append(labels[j])\n",
    "                    matched = True\n",
    "        if (matched == False):\n",
    "            error.append(labels[i])\n",
    "    return names_with_match, error"
   ]
  },
  {
   "cell_type": "code",
   "execution_count": 3,
   "id": "a4a90481-25fa-4978-8cb9-86a60f28191b",
   "metadata": {},
   "outputs": [],
   "source": [
    "#create array for hist \n",
    "hist_a = np.zeros(20)\n",
    "\n",
    "#get the the labels\n",
    "bin_size = 5\n",
    "date_ = None\n",
    "labels = svm_general.load_labels(bin_size, date_)\n",
    "\n",
    "#get the features\n",
    "features_load = np.load('Features/hog_features_(169, 534, 3)_cells_(4, 4)_block_(2, 2)_norm_L2_mir_False.npy', allow_pickle=True)\n",
    "features_load = features_load.tolist()\n",
    "\n",
    "#get the names \n",
    "path = 'names/img_names_(169, 534, 3)_cells_(4, 4)_block_(2, 2)_norm_L2_mir_False.npy'\n",
    "names_load =np.load(path, allow_pickle=True)\n",
    "names = lrne.it_name_extract_labels_from_img_jpeg(names_load)\n",
    "\n",
    "#match data with labls. \n",
    "names_with_match, no_match = match_pic_label_to_names_new(features_load, labels, names)\n"
   ]
  },
  {
   "cell_type": "code",
   "execution_count": 4,
   "id": "26352ad1-051f-442b-ac21-ba1d19eaba66",
   "metadata": {},
   "outputs": [
    {
     "data": {
      "text/plain": [
       "4915"
      ]
     },
     "execution_count": 4,
     "metadata": {},
     "output_type": "execute_result"
    }
   ],
   "source": [
    "len(names_with_match)"
   ]
  },
  {
   "cell_type": "code",
   "execution_count": 5,
   "id": "f751e3e9-d596-427b-a607-ceb1984a8838",
   "metadata": {},
   "outputs": [
    {
     "data": {
      "text/plain": [
       "21"
      ]
     },
     "execution_count": 5,
     "metadata": {},
     "output_type": "execute_result"
    }
   ],
   "source": [
    "len(no_match)"
   ]
  },
  {
   "cell_type": "code",
   "execution_count": null,
   "id": "6e9d578a-976e-4ad9-8249-9d203b947da3",
   "metadata": {},
   "outputs": [],
   "source": []
  },
  {
   "cell_type": "code",
   "execution_count": 6,
   "id": "0e066190-f50c-4e0e-a460-609563f2b1f3",
   "metadata": {},
   "outputs": [],
   "source": [
    "hist_a = np.zeros(len(names_with_match))"
   ]
  },
  {
   "cell_type": "code",
   "execution_count": 7,
   "id": "fd712107-8295-408c-9208-53da732e8e1f",
   "metadata": {},
   "outputs": [],
   "source": [
    "for i in range(len(names_with_match)):\n",
    "    hist_a[i] = int(names_with_match[i][3])"
   ]
  },
  {
   "cell_type": "code",
   "execution_count": 8,
   "id": "44ed419f-6052-4539-acef-7c37debe77e1",
   "metadata": {},
   "outputs": [],
   "source": [
    "hist_a = hist_a.astype(int)"
   ]
  },
  {
   "cell_type": "code",
   "execution_count": 9,
   "id": "b7c3c814-c4d8-4e33-98dc-3f6ab2a7270c",
   "metadata": {},
   "outputs": [
    {
     "data": {
      "text/plain": [
       "array([ 0,  1,  5, ..., 12,  1,  4])"
      ]
     },
     "execution_count": 9,
     "metadata": {},
     "output_type": "execute_result"
    }
   ],
   "source": [
    "hist_a"
   ]
  },
  {
   "cell_type": "code",
   "execution_count": 10,
   "id": "64f2d09c-e628-4c21-ad11-d49101409e2b",
   "metadata": {},
   "outputs": [
    {
     "data": {
      "image/png": "[encoded data removed]",
      "text/plain": [
       "<Figure size 432x288 with 1 Axes>"
      ]
     },
     "metadata": {
      "needs_background": "light"
     },
     "output_type": "display_data"
    }
   ],
   "source": [
    "plt.title('Distribution of Data')\n",
    "plt.xlabel('Bin size = 5')\n",
    "plt.ylabel('Number of plots')\n",
    "plt.grid(axis='y', alpha=0.75)\n",
    "plt.legend(['Data'])\n",
    "plt.hist(hist_a, bins=range(min(hist_a), 20, 1))\n",
    "plt.show()"
   ]
  },
  {
   "cell_type": "code",
   "execution_count": null,
   "id": "70e77834-7330-4460-8beb-aa341e2c0760",
   "metadata": {},
   "outputs": [],
   "source": []
  }
 ],
 "metadata": {
  "kernelspec": {
   "display_name": "Python 3 (ipykernel)",
   "language": "python",
   "name": "python3"
  },
  "language_info": {
   "codemirror_mode": {
    "name": "ipython",
    "version": 3
   },
   "file_extension": ".py",
   "mimetype": "text/x-python",
   "name": "python",
   "nbconvert_exporter": "python",
   "pygments_lexer": "ipython3",
   "version": "3.9.12"
  }
 },
 "nbformat": 4,
 "nbformat_minor": 5
}
