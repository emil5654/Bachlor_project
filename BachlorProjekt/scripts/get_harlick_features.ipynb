{
 "cells": [
  {
   "cell_type": "code",
   "execution_count": 1,
   "metadata": {},
   "outputs": [],
   "source": [
    "import load_read_name_extractor as lrne\n",
    "import cv2  # importing cv\n",
    "import mahotas\n",
    "import numpy as np\n",
    "from pylab import imshow, show\n",
    "\n"
   ]
  },
  {
   "cell_type": "code",
   "execution_count": 2,
   "metadata": {},
   "outputs": [],
   "source": [
    "img_list, names = lrne.load_name_and_img(\"cropped_96_192/*.jpeg\")\n",
    "\n",
    "iteration = \"96x192_contrast\"\n",
    "\n"
   ]
  },
  {
   "cell_type": "code",
   "execution_count": 3,
   "metadata": {},
   "outputs": [],
   "source": [
    "def it_harlick(img_list):\n",
    "    harlick_features = []\n",
    "    for i in range (len(img_list)):\n",
    "        img_list[i] = cv2.cvtColor(img_list[i], cv2.COLOR_BGR2GRAY)\n",
    "        # extract Haralick texture features in 4 directions, then take the\n",
    "        # mean of each direction\n",
    "        features = mahotas.features.haralick(img_list[i], ignore_zeros=False).mean(axis=0)\n",
    "\n",
    "        harlick_features.append((features[1], features[6], features[8]))\n",
    "    return harlick_features"
   ]
  },
  {
   "cell_type": "code",
   "execution_count": 4,
   "metadata": {},
   "outputs": [],
   "source": [
    "def it_harlick1(img_list):\n",
    "    harlick_features = []\n",
    "    labelled = []\n",
    "    for i in range(len(img_list)):\n",
    "        img = img_list[i]\n",
    "        img = img[:, :, 0]\n",
    "        gaussian = mahotas.gaussian_filter(img, 15)\n",
    "        gaussian = (gaussian > gaussian.mean())\n",
    "        temp_label, n = mahotas.label(gaussian)\n",
    "        labelled.append(temp_label)\n",
    "\n",
    "        harlick_features.append(mahotas.features.haralick(temp_label))\n",
    "    return harlick_features, labelled\n",
    "    \n"
   ]
  },
  {
   "cell_type": "code",
   "execution_count": 5,
   "metadata": {},
   "outputs": [],
   "source": [
    "harlick_features = it_harlick(img_list)\n",
    "#imshow(labbels[0])\n",
    "#imshow(harlick_features[0])\n",
    "#harlick_features1 = np.mean(harlick_features1, axis=1)"
   ]
  },
  {
   "cell_type": "code",
   "execution_count": null,
   "metadata": {},
   "outputs": [],
   "source": []
  },
  {
   "cell_type": "code",
   "execution_count": 6,
   "metadata": {},
   "outputs": [],
   "source": [
    "lrne.save_in_txt(names, \"Features/img_names_\" + iteration)\n",
    "lrne.save_in_txt(harlick_features, \"Features/harlick_features_\" + iteration)"
   ]
  },
  {
   "cell_type": "code",
   "execution_count": null,
   "metadata": {},
   "outputs": [],
   "source": [
    "\n"
   ]
  },
  {
   "cell_type": "code",
   "execution_count": null,
   "metadata": {},
   "outputs": [],
   "source": []
  },
  {
   "cell_type": "code",
   "execution_count": null,
   "metadata": {},
   "outputs": [],
   "source": []
  }
 ],
 "metadata": {
  "kernelspec": {
   "display_name": "Python 3 (ipykernel)",
   "language": "python",
   "name": "python3"
  },
  "language_info": {
   "codemirror_mode": {
    "name": "ipython",
    "version": 3
   },
   "file_extension": ".py",
   "mimetype": "text/x-python",
   "name": "python",
   "nbconvert_exporter": "python",
   "pygments_lexer": "ipython3",
   "version": "3.9.12"
  }
 },
 "nbformat": 4,
 "nbformat_minor": 4
}
