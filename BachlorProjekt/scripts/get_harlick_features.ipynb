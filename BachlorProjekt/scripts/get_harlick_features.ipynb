{
 "cells": [
  {
   "cell_type": "code",
   "execution_count": 1,
   "metadata": {},
   "outputs": [],
   "source": [
    "\n",
    "import cv2  # importing cv\n",
    "import mahotas\n",
    "import numpy as np\n",
    "from pylab import imshow, show\n",
    "import sys\n",
    "sys.path.append('cropping')\n",
    "import load_read_name_extractor as lrne"
   ]
  },
  {
   "cell_type": "code",
   "execution_count": 17,
   "metadata": {},
   "outputs": [],
   "source": [
    "img_list, names = lrne.load_name_and_img(\"cropped_min/*jpeg\")\n",
    "\n",
    "iteration = (\"cropped_min/*jpeg\")\n",
    "\n"
   ]
  },
  {
   "cell_type": "code",
   "execution_count": null,
   "metadata": {},
   "outputs": [],
   "source": []
  },
  {
   "cell_type": "code",
   "execution_count": 18,
   "metadata": {},
   "outputs": [],
   "source": [
    "def it_harlick(img_list):\n",
    "    harlick_features = []\n",
    "    for i in range (len(img_list)):\n",
    "        img_list[i] = cv2.cvtColor(img_list[i], cv2.COLOR_BGR2GRAY)\n",
    "        # extract Haralick texture features in 4 directions, then take the\n",
    "        # mean of each direction\n",
    "        features = mahotas.features.haralick(img_list[i], ignore_zeros=False).mean(axis=0)\n",
    "\n",
    "        harlick_features.append(features)\n",
    "    return harlick_features"
   ]
  },
  {
   "cell_type": "code",
   "execution_count": null,
   "metadata": {},
   "outputs": [],
   "source": [
    "\n"
   ]
  },
  {
   "cell_type": "code",
   "execution_count": 19,
   "metadata": {},
   "outputs": [],
   "source": [
    "harlick_features = it_harlick(img_list)\n",
    "#imshow(labbels[0])\n",
    "#imshow(harlick_features[0])\n",
    "#harlick_features1 = np.mean(harlick_features1, axis=1)"
   ]
  },
  {
   "cell_type": "code",
   "execution_count": 20,
   "metadata": {},
   "outputs": [
    {
     "name": "stdout",
     "output_type": "stream",
     "text": [
      "[ 5.70438808e-04  1.33249534e+02  7.27300808e-01  2.44541393e+02\n",
      "  1.22873405e-01  2.25340384e+02  8.44916037e+02  6.89868433e+00\n",
      "  1.12724581e+01  2.82058545e-04  4.52937332e+00 -1.24091601e-01\n",
      "  8.59827387e-01]\n"
     ]
    }
   ],
   "source": [
    "print(harlick_features[0])"
   ]
  },
  {
   "cell_type": "code",
   "execution_count": 21,
   "metadata": {},
   "outputs": [],
   "source": [
    "iteration = \"haralick_min_pic\" "
   ]
  },
  {
   "cell_type": "code",
   "execution_count": 22,
   "metadata": {},
   "outputs": [],
   "source": [
    "lrne.save_in_txt(names, \"names/img_names_\" + iteration)\n",
    "lrne.save_in_txt(harlick_features, \"Features_haralick/harlick_features_\" + iteration)"
   ]
  },
  {
   "cell_type": "code",
   "execution_count": null,
   "metadata": {},
   "outputs": [],
   "source": [
    "\n"
   ]
  },
  {
   "cell_type": "code",
   "execution_count": null,
   "metadata": {},
   "outputs": [],
   "source": []
  },
  {
   "cell_type": "code",
   "execution_count": null,
   "metadata": {},
   "outputs": [],
   "source": []
  }
 ],
 "metadata": {
  "kernelspec": {
   "display_name": "Python 3 (ipykernel)",
   "language": "python",
   "name": "python3"
  },
  "language_info": {
   "codemirror_mode": {
    "name": "ipython",
    "version": 3
   },
   "file_extension": ".py",
   "mimetype": "text/x-python",
   "name": "python",
   "nbconvert_exporter": "python",
   "pygments_lexer": "ipython3",
   "version": "3.9.12"
  }
 },
 "nbformat": 4,
 "nbformat_minor": 4
}
