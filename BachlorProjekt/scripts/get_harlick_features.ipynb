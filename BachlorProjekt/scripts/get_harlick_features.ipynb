{
 "cells": [
  {
   "cell_type": "code",
   "execution_count": 19,
   "metadata": {},
   "outputs": [],
   "source": [
    "import load_read_name_extractor as lrne\n",
    "import cv2  # importing cv\n",
    "import mahotas\n"
   ]
  },
  {
   "cell_type": "code",
   "execution_count": 20,
   "metadata": {},
   "outputs": [],
   "source": [
    "img_list, names = lrne.load_name_and_img(\"cropped_64_128/*.jpeg\")\n",
    "\n",
    "iteration = \"64x128\"\n"
   ]
  },
  {
   "cell_type": "code",
   "execution_count": 21,
   "metadata": {},
   "outputs": [],
   "source": [
    "def it_harlick(img_list):\n",
    "    harlick_features = []\n",
    "    for i in range (len(img_list)):\n",
    "        img_list[i] = cv2.cvtColor(img_list[i], cv2.COLOR_BGR2GRAY)\n",
    "        # extract Haralick texture features in 4 directions, then take the\n",
    "        # mean of each directio\n",
    "        features = mahotas.features.haralick(img_list[i], ignore_zeros=False).mean(axis=0)\n",
    "        harlick_features.append(features)\n",
    "    return harlick_features"
   ]
  },
  {
   "cell_type": "code",
   "execution_count": 22,
   "metadata": {},
   "outputs": [
    {
     "ename": "TypeError",
     "evalue": "_mean() got an unexpected keyword argument 'ignore_zeros'",
     "output_type": "error",
     "traceback": [
      "\u001b[1;31m---------------------------------------------------------------------------\u001b[0m",
      "\u001b[1;31mTypeError\u001b[0m                                 Traceback (most recent call last)",
      "Cell \u001b[1;32mIn[22], line 1\u001b[0m\n\u001b[1;32m----> 1\u001b[0m harlick_features \u001b[39m=\u001b[39m it_harlick(img_list)\n",
      "Cell \u001b[1;32mIn[21], line 5\u001b[0m, in \u001b[0;36mit_harlick\u001b[1;34m(img_list)\u001b[0m\n\u001b[0;32m      3\u001b[0m \u001b[39mfor\u001b[39;00m i \u001b[39min\u001b[39;00m \u001b[39mrange\u001b[39m (\u001b[39mlen\u001b[39m(img_list)):\n\u001b[0;32m      4\u001b[0m     img_list[i] \u001b[39m=\u001b[39m cv2\u001b[39m.\u001b[39mcvtColor(img_list[i], cv2\u001b[39m.\u001b[39mCOLOR_BGR2GRAY)\n\u001b[1;32m----> 5\u001b[0m     features \u001b[39m=\u001b[39m mahotas\u001b[39m.\u001b[39;49mfeatures\u001b[39m.\u001b[39;49mharalick(img_list[i])\u001b[39m.\u001b[39;49mmean(axis\u001b[39m=\u001b[39;49m\u001b[39m0\u001b[39;49m, ignore_zeros\u001b[39m=\u001b[39;49m\u001b[39mFalse\u001b[39;49;00m)\n\u001b[0;32m      6\u001b[0m     harlick_features\u001b[39m.\u001b[39mappend(features)\n\u001b[0;32m      7\u001b[0m \u001b[39mreturn\u001b[39;00m harlick_features\n",
      "\u001b[1;31mTypeError\u001b[0m: _mean() got an unexpected keyword argument 'ignore_zeros'"
     ]
    }
   ],
   "source": [
    "harlick_features = it_harlick(img_list)"
   ]
  },
  {
   "cell_type": "code",
   "execution_count": null,
   "metadata": {},
   "outputs": [],
   "source": [
    "lrne.save_in_txt(names, \"features/img_names_\" + iteration)\n",
    "lrne.save_in_txt(harlick_features, \"features/harlick_features_\" + iteration)"
   ]
  },
  {
   "cell_type": "code",
   "execution_count": null,
   "metadata": {},
   "outputs": [],
   "source": [
    "mahotas.features.haralick"
   ]
  }
 ],
 "metadata": {
  "kernelspec": {
   "display_name": "base",
   "language": "python",
   "name": "python3"
  },
  "language_info": {
   "codemirror_mode": {
    "name": "ipython",
    "version": 3
   },
   "file_extension": ".py",
   "mimetype": "text/x-python",
   "name": "python",
   "nbconvert_exporter": "python",
   "pygments_lexer": "ipython3",
   "version": "3.9.12"
  },
  "orig_nbformat": 4
 },
 "nbformat": 4,
 "nbformat_minor": 2
}
