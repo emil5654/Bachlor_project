{
 "cells": [
  {
   "cell_type": "code",
   "execution_count": 23,
   "metadata": {},
   "outputs": [],
   "source": [
    "import load_read_name_extractor as lrne\n",
    "import cv2  # importing cv\n",
    "import mahotas\n"
   ]
  },
  {
   "cell_type": "code",
   "execution_count": 24,
   "metadata": {},
   "outputs": [],
   "source": [
    "img_list, names = lrne.load_name_and_img(\"cropped_64_128/*.jpeg\")\n",
    "\n",
    "iteration = \"64x128\"\n"
   ]
  },
  {
   "cell_type": "code",
   "execution_count": 25,
   "metadata": {},
   "outputs": [],
   "source": [
    "def it_harlick(img_list):\n",
    "    harlick_features = []\n",
    "    for i in range (len(img_list)):\n",
    "        img_list[i] = cv2.cvtColor(img_list[i], cv2.COLOR_BGR2GRAY)\n",
    "        # extract Haralick texture features in 4 directions, then take the\n",
    "        # mean of each direction\n",
    "        features = mahotas.features.haralick(img_list[i], ignore_zeros=False).mean(axis=0)\n",
    "        harlick_features.append(features)\n",
    "    return harlick_features"
   ]
  },
  {
   "cell_type": "code",
   "execution_count": 26,
   "metadata": {},
   "outputs": [],
   "source": [
    "harlick_features = it_harlick(img_list)"
   ]
  },
  {
   "cell_type": "code",
   "execution_count": 27,
   "metadata": {},
   "outputs": [],
   "source": [
    "lrne.save_in_txt(names, \"features/img_names_\" + iteration)\n",
    "lrne.save_in_txt(harlick_features, \"features/harlick_features_\" + iteration)"
   ]
  },
  {
   "cell_type": "code",
   "execution_count": null,
   "metadata": {},
   "outputs": [],
   "source": []
  }
 ],
 "metadata": {
  "kernelspec": {
   "display_name": "base",
   "language": "python",
   "name": "python3"
  },
  "language_info": {
   "codemirror_mode": {
    "name": "ipython",
    "version": 3
   },
   "file_extension": ".py",
   "mimetype": "text/x-python",
   "name": "python",
   "nbconvert_exporter": "python",
   "pygments_lexer": "ipython3",
   "version": "3.9.12"
  },
  "orig_nbformat": 4
 },
 "nbformat": 4,
 "nbformat_minor": 2
}
