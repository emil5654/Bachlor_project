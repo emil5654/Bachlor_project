{
 "cells": [
  {
   "cell_type": "code",
   "execution_count": 1,
   "metadata": {},
   "outputs": [],
   "source": [
    "import cv2  # importing cv\n",
    "import mahotas\n",
    "import numpy as np\n",
    "import sys\n",
    "sys.path.append('cropping')\n",
    "import load_read_name_extractor as lrne"
   ]
  },
  {
   "cell_type": "code",
   "execution_count": 2,
   "metadata": {},
   "outputs": [],
   "source": [
    "img_list, names = lrne.load_name_and_img(\"cropped_mean/*jpeg\")\n",
    "\n",
    "iteration = (\"cropped_mean/*jpeg\")\n",
    "\n"
   ]
  },
  {
   "cell_type": "code",
   "execution_count": null,
   "metadata": {},
   "outputs": [],
   "source": []
  },
  {
   "cell_type": "code",
   "execution_count": 3,
   "metadata": {},
   "outputs": [],
   "source": [
    "def it_harlick(img_list):\n",
    "    harlick_features = []\n",
    "    for i in range (len(img_list)):\n",
    "        img_list[i] = cv2.cvtColor(img_list[i], cv2.COLOR_BGR2GRAY)\n",
    "        # extract Haralick texture features in 4 directions, then take the\n",
    "        # mean of each direction\n",
    "        features = mahotas.features.haralick(img_list[i], ignore_zeros=False).mean(axis=0)\n",
    "\n",
    "        harlick_features.append(features)\n",
    "    return harlick_features"
   ]
  },
  {
   "cell_type": "code",
   "execution_count": null,
   "metadata": {},
   "outputs": [],
   "source": [
    "\n"
   ]
  },
  {
   "cell_type": "code",
   "execution_count": 4,
   "metadata": {},
   "outputs": [],
   "source": [
    "harlick_features = it_harlick(img_list)\n",
    "#imshow(labbels[0])\n",
    "#imshow(harlick_features[0])\n",
    "#harlick_features1 = np.mean(harlick_features1, axis=1)"
   ]
  },
  {
   "cell_type": "code",
   "execution_count": 5,
   "metadata": {},
   "outputs": [
    {
     "name": "stdout",
     "output_type": "stream",
     "text": [
      "[ 3.96360581e-04  1.43001541e+02  9.27021891e-01  9.80873830e+02\n",
      "  1.20801961e-01  1.81181953e+02  3.78049378e+03  7.70267827e+00\n",
      "  1.20827701e+01  2.03376757e-04  4.59852160e+00 -2.08283343e-01\n",
      "  9.66598843e-01]\n"
     ]
    }
   ],
   "source": [
    "print(harlick_features[0])"
   ]
  },
  {
   "cell_type": "code",
   "execution_count": 6,
   "metadata": {},
   "outputs": [],
   "source": [
    "iteration = \"haralick_mean_pic\" "
   ]
  },
  {
   "cell_type": "code",
   "execution_count": 7,
   "metadata": {},
   "outputs": [],
   "source": [
    "lrne.save_in_txt(names, \"names/img_names_\" + iteration)\n",
    "lrne.save_in_txt(harlick_features, \"Features_haralick/harlick_features_\" + iteration)"
   ]
  },
  {
   "cell_type": "code",
   "execution_count": null,
   "metadata": {},
   "outputs": [],
   "source": [
    "\n"
   ]
  },
  {
   "cell_type": "code",
   "execution_count": null,
   "metadata": {},
   "outputs": [],
   "source": []
  },
  {
   "cell_type": "code",
   "execution_count": null,
   "metadata": {},
   "outputs": [],
   "source": []
  }
 ],
 "metadata": {
  "kernelspec": {
   "display_name": "haralick",
   "language": "python",
   "name": "haralick"
  },
  "language_info": {
   "codemirror_mode": {
    "name": "ipython",
    "version": 3
   },
   "file_extension": ".py",
   "mimetype": "text/x-python",
   "name": "python",
   "nbconvert_exporter": "python",
   "pygments_lexer": "ipython3",
   "version": "3.11.3"
  }
 },
 "nbformat": 4,
 "nbformat_minor": 4
}
