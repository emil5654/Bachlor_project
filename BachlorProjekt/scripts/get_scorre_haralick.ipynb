{
 "cells": [
  {
   "cell_type": "code",
   "execution_count": 44,
   "id": "971fee17-1b25-492a-b951-4355f882108c",
   "metadata": {},
   "outputs": [],
   "source": [
    "import os\n",
    "import matplotlib.pyplot as plt\n",
    "import numpy as np\n"
   ]
  },
  {
   "cell_type": "code",
   "execution_count": 69,
   "id": "e25db5ab-9e74-4124-a7e7-2fd822b26687",
   "metadata": {},
   "outputs": [
    {
     "name": "stdout",
     "output_type": "stream",
     "text": [
      "/home/mars/Bachlor_project/BachlorProjekt/scripts/results/SVC_HARALICK_3_balaned\n"
     ]
    }
   ],
   "source": [
    "folder_path = \"/home/mars/Bachlor_project/BachlorProjekt/scripts/results/SVC_HARALICK_3_balaned\"\n",
    "print(folder_path)\n",
    "names = []\n",
    "acc = []\n",
    "for filename in os.listdir(folder_path):\n",
    "    if filename.endswith('.txt'):\n",
    "        with open(os.path.join(folder_path, filename), 'r') as file:\n",
    "            line = file.readline()\n",
    "            number = float(line.split(': ')[1])\n",
    "            \n",
    "            names.append(filename)\n",
    "            acc.append(number)"
   ]
  },
  {
   "cell_type": "code",
   "execution_count": null,
   "id": "85d1aff4-245e-444a-b16e-b3235437a6c1",
   "metadata": {},
   "outputs": [],
   "source": []
  },
  {
   "cell_type": "code",
   "execution_count": 70,
   "id": "dcef73a9-287f-4988-8114-4aa0549913e8",
   "metadata": {},
   "outputs": [
    {
     "name": "stdout",
     "output_type": "stream",
     "text": [
      "SVMC_Kernel_rbf_Nbins_3_ClassWeights_balanced_dateFalse_harlick_features_haralick_max_pic.txt\n",
      "SVMC_Kernel_rbf_Nbins_3_ClassWeights_balanced_dateFalse_harlick_features_haralick_min_pic.txt\n",
      "SVMC_Kernel_rbf_Nbins_3_ClassWeights_balanced_dateFalse_harlick_features_haralick_mean_pic.txt\n"
     ]
    }
   ],
   "source": [
    "for x in names:\n",
    "    print(x)"
   ]
  },
  {
   "cell_type": "code",
   "execution_count": null,
   "id": "700d6015-b1fd-44c8-a786-78b9f0cddc39",
   "metadata": {},
   "outputs": [],
   "source": []
  },
  {
   "cell_type": "code",
   "execution_count": null,
   "id": "c5306100-2e39-4fbf-a002-ba8e16177826",
   "metadata": {},
   "outputs": [],
   "source": [
    "\n"
   ]
  },
  {
   "cell_type": "code",
   "execution_count": 71,
   "id": "f87acc24-2451-4fee-b0ed-a5ddeb04175a",
   "metadata": {},
   "outputs": [],
   "source": [
    "def create_graf_bins(names, acc):\n",
    "    #create list to return\n",
    "    graf_bin = []\n",
    "    #loop trough names\n",
    "    for i in range(len(names)):\n",
    "        size = None\n",
    "        curr_name = names[i]\n",
    "        #find img_size\n",
    "        if(curr_name.find(\"mean\") != -1):\n",
    "            size = \"Mean\"\n",
    "        elif(curr_name.find(\"max\") != -1):\n",
    "            size = \"Max\"\n",
    "        elif(curr_name.find(\"min\") != -1):\n",
    "            size = \"Min\"\n",
    "        else:\n",
    "            size = \"undefined\"\n",
    "        \n",
    "        graf_bin.append((curr_name, acc[i], size))\n",
    "    return graf_bin\n"
   ]
  },
  {
   "cell_type": "code",
   "execution_count": 72,
   "id": "288d39de-0da6-423e-b00b-3903eee90450",
   "metadata": {},
   "outputs": [],
   "source": [
    "Haralick = create_graf_bins(names, acc)\n"
   ]
  },
  {
   "cell_type": "code",
   "execution_count": 73,
   "id": "84838c6a-a4e0-4f79-ae63-a8517a3ae9d4",
   "metadata": {},
   "outputs": [
    {
     "name": "stdout",
     "output_type": "stream",
     "text": [
      "('SVMC_Kernel_rbf_Nbins_3_ClassWeights_balanced_dateFalse_harlick_features_haralick_mean_pic.txt', 0.6561546286876907, 'Mean')\n"
     ]
    }
   ],
   "source": [
    "print(Haralick[2])"
   ]
  },
  {
   "cell_type": "code",
   "execution_count": 74,
   "id": "6fb6dae6-988e-4c5a-905c-3d6ea9bb9005",
   "metadata": {},
   "outputs": [
    {
     "data": {
      "image/png": "[encoded data removed]",
      "text/plain": [
       "<Figure size 432x288 with 1 Axes>"
      ]
     },
     "metadata": {
      "needs_background": "light"
     },
     "output_type": "display_data"
    }
   ],
   "source": [
    "y = [item[1] for item in Haralick]  # extract the second element from each tuple as x values\n",
    "x = [item[2] for item in Haralick]\n",
    "\n",
    "# plot the data on each subplot\n",
    "plt.bar(x, y)\n",
    "plt.title(\"Accuracy for different sizes\")\n",
    "plt.xlabel(\"Haralick features, date = false, bin_size = 3\")\n",
    "plt.ylabel(\"Accuracy score\")\n",
    "\n",
    "for i, j in zip(x[::1], y[::1]):\n",
    "    plt.text(i, j, '{:.4f}'.format(j))\n",
    "    \n",
    "\n",
    "# set the spacing between subplots\n",
    "plt.subplots_adjust(hspace=1, wspace=1)\n",
    "\n",
    "# display the plots\n",
    "plt.show()"
   ]
  },
  {
   "cell_type": "markdown",
   "id": "69cc0b72-9306-47c2-b5df-09a64c89d22c",
   "metadata": {},
   "source": []
  },
  {
   "cell_type": "code",
   "execution_count": null,
   "id": "e3925348-b6a0-482d-a816-d2a6ca51935a",
   "metadata": {},
   "outputs": [],
   "source": []
  }
 ],
 "metadata": {
  "kernelspec": {
   "display_name": "Python 3 (ipykernel)",
   "language": "python",
   "name": "python3"
  },
  "language_info": {
   "codemirror_mode": {
    "name": "ipython",
    "version": 3
   },
   "file_extension": ".py",
   "mimetype": "text/x-python",
   "name": "python",
   "nbconvert_exporter": "python",
   "pygments_lexer": "ipython3",
   "version": "3.9.12"
  }
 },
 "nbformat": 4,
 "nbformat_minor": 5
}
