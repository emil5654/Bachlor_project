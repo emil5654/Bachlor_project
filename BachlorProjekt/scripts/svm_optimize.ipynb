{
 "cells": [
  {
   "cell_type": "code",
   "execution_count": 23,
   "metadata": {},
   "outputs": [],
   "source": [
    "#We need these in this file:\n",
    "import pandas as pd\n",
    "from sklearn import svm\n",
    "from sklearn.metrics import classification_report,accuracy_score\n",
    "import numpy as np # linear algebra\n",
    "import get_lodging_scores\n",
    "import load_read_name_extractor as lrne\n",
    "import SVM_classifier_general as svm_general\n",
    "import pickle\n",
    "from sklearn.metrics import make_scorer\n",
    "from sklearn.model_selection import GridSearchCV\n"
   ]
  },
  {
   "cell_type": "code",
   "execution_count": null,
   "metadata": {},
   "outputs": [],
   "source": []
  },
  {
   "cell_type": "code",
   "execution_count": 24,
   "metadata": {},
   "outputs": [],
   "source": [
    "#Iteration\n",
    "#hog\n",
    "hog_cell = \"8x8\"\n",
    "hog_block = \"2x2\"\n",
    "image_size = \"64_128\"\n",
    "\n",
    "#svm\n",
    "bin_size = 33\n",
    "n_bins = int(np.floor(100/bin_size))\n",
    "class_weights = \"none\" #removed\n",
    "svm_kernel = \"rbf\"\n",
    "scorer_function = \"dist\"\n",
    "\n",
    "# Define parameter grid for grid search\n",
    "param_grid = {'C': np.logspace(-3, 3, 6), 'gamma': np.logspace(-3, 1, 3)}\n",
    "optimize_params = \"C_and_gamma\"\n"
   ]
  },
  {
   "cell_type": "code",
   "execution_count": 25,
   "metadata": {},
   "outputs": [
    {
     "name": "stdout",
     "output_type": "stream",
     "text": [
      "4935\n",
      "4935\n"
     ]
    }
   ],
   "source": [
    "features_load = np.load('features/hog_features_'+image_size+'_hog_cells_'+hog_cell+'_block_'+hog_block+'.npy', allow_pickle=True)\n",
    "names_load = np.load('features/img_names_'+image_size+'_hog_cells_'+hog_cell+'_block_'+hog_block+'.npy', allow_pickle=True)\n",
    "print(len(features_load))\n",
    "print(len(names_load))"
   ]
  },
  {
   "cell_type": "code",
   "execution_count": 26,
   "metadata": {},
   "outputs": [
    {
     "name": "stdout",
     "output_type": "stream",
     "text": [
      "(61, 50, '160607_Min', 1)\n"
     ]
    }
   ],
   "source": [
    "labels = get_lodging_scores.get_labels(bin_size)\n",
    "#[ROI, Visual SCORE, FLIGHTFolder, BIN]\n",
    "print(labels[0])"
   ]
  },
  {
   "cell_type": "code",
   "execution_count": 27,
   "metadata": {},
   "outputs": [],
   "source": [
    "my_set = set(map(tuple, labels))\n",
    "# convert set back to list of arrays\n",
    "labels = list(map(np.array, my_set))"
   ]
  },
  {
   "cell_type": "code",
   "execution_count": 28,
   "metadata": {},
   "outputs": [],
   "source": [
    "names = lrne.it_name_extract_labels_from_img_jpeg(names_load)"
   ]
  },
  {
   "cell_type": "code",
   "execution_count": 29,
   "metadata": {},
   "outputs": [],
   "source": [
    "clf = svm.SVC(kernel=svm_kernel)\n",
    "features_aar = np.array(features_load)\n",
    "data_frame, error = svm_general.match_pic_label_to_names(features_load, labels, names)\n",
    "#data_frame_names, error_names = match_pic_label_names(features_load, labels, names)\n",
    "np.random.shuffle(data_frame)\n",
    "data_frame = np.array(data_frame)\n"
   ]
  },
  {
   "cell_type": "code",
   "execution_count": 30,
   "metadata": {},
   "outputs": [
    {
     "name": "stdout",
     "output_type": "stream",
     "text": [
      "['1' '1' '1' ... '1' '0' '0']\n"
     ]
    }
   ],
   "source": [
    "percentage = 80\n",
    "partition = int(len(features_aar)*percentage/100)\n",
    "x_train, x_test = data_frame[:partition,:-1],  data_frame[partition:,:-1]\n",
    "y_train, y_test = data_frame[:partition,-1:].ravel() , data_frame[partition:,-1:].ravel()\n",
    "print(y_train)\n"
   ]
  },
  {
   "cell_type": "code",
   "execution_count": 31,
   "metadata": {},
   "outputs": [
    {
     "data": {
      "text/html": [
       "<style>#sk-container-id-3 {color: black;background-color: white;}#sk-container-id-3 pre{padding: 0;}#sk-container-id-3 div.sk-toggleable {background-color: white;}#sk-container-id-3 label.sk-toggleable__label {cursor: pointer;display: block;width: 100%;margin-bottom: 0;padding: 0.3em;box-sizing: border-box;text-align: center;}#sk-container-id-3 label.sk-toggleable__label-arrow:before {content: \"▸\";float: left;margin-right: 0.25em;color: #696969;}#sk-container-id-3 label.sk-toggleable__label-arrow:hover:before {color: black;}#sk-container-id-3 div.sk-estimator:hover label.sk-toggleable__label-arrow:before {color: black;}#sk-container-id-3 div.sk-toggleable__content {max-height: 0;max-width: 0;overflow: hidden;text-align: left;background-color: #f0f8ff;}#sk-container-id-3 div.sk-toggleable__content pre {margin: 0.2em;color: black;border-radius: 0.25em;background-color: #f0f8ff;}#sk-container-id-3 input.sk-toggleable__control:checked~div.sk-toggleable__content {max-height: 200px;max-width: 100%;overflow: auto;}#sk-container-id-3 input.sk-toggleable__control:checked~label.sk-toggleable__label-arrow:before {content: \"▾\";}#sk-container-id-3 div.sk-estimator input.sk-toggleable__control:checked~label.sk-toggleable__label {background-color: #d4ebff;}#sk-container-id-3 div.sk-label input.sk-toggleable__control:checked~label.sk-toggleable__label {background-color: #d4ebff;}#sk-container-id-3 input.sk-hidden--visually {border: 0;clip: rect(1px 1px 1px 1px);clip: rect(1px, 1px, 1px, 1px);height: 1px;margin: -1px;overflow: hidden;padding: 0;position: absolute;width: 1px;}#sk-container-id-3 div.sk-estimator {font-family: monospace;background-color: #f0f8ff;border: 1px dotted black;border-radius: 0.25em;box-sizing: border-box;margin-bottom: 0.5em;}#sk-container-id-3 div.sk-estimator:hover {background-color: #d4ebff;}#sk-container-id-3 div.sk-parallel-item::after {content: \"\";width: 100%;border-bottom: 1px solid gray;flex-grow: 1;}#sk-container-id-3 div.sk-label:hover label.sk-toggleable__label {background-color: #d4ebff;}#sk-container-id-3 div.sk-serial::before {content: \"\";position: absolute;border-left: 1px solid gray;box-sizing: border-box;top: 0;bottom: 0;left: 50%;z-index: 0;}#sk-container-id-3 div.sk-serial {display: flex;flex-direction: column;align-items: center;background-color: white;padding-right: 0.2em;padding-left: 0.2em;position: relative;}#sk-container-id-3 div.sk-item {position: relative;z-index: 1;}#sk-container-id-3 div.sk-parallel {display: flex;align-items: stretch;justify-content: center;background-color: white;position: relative;}#sk-container-id-3 div.sk-item::before, #sk-container-id-3 div.sk-parallel-item::before {content: \"\";position: absolute;border-left: 1px solid gray;box-sizing: border-box;top: 0;bottom: 0;left: 50%;z-index: -1;}#sk-container-id-3 div.sk-parallel-item {display: flex;flex-direction: column;z-index: 1;position: relative;background-color: white;}#sk-container-id-3 div.sk-parallel-item:first-child::after {align-self: flex-end;width: 50%;}#sk-container-id-3 div.sk-parallel-item:last-child::after {align-self: flex-start;width: 50%;}#sk-container-id-3 div.sk-parallel-item:only-child::after {width: 0;}#sk-container-id-3 div.sk-dashed-wrapped {border: 1px dashed gray;margin: 0 0.4em 0.5em 0.4em;box-sizing: border-box;padding-bottom: 0.4em;background-color: white;}#sk-container-id-3 div.sk-label label {font-family: monospace;font-weight: bold;display: inline-block;line-height: 1.2em;}#sk-container-id-3 div.sk-label-container {text-align: center;}#sk-container-id-3 div.sk-container {/* jupyter's `normalize.less` sets `[hidden] { display: none; }` but bootstrap.min.css set `[hidden] { display: none !important; }` so we also need the `!important` here to be able to override the default hidden behavior on the sphinx rendered scikit-learn.org. See: https://github.com/scikit-learn/scikit-learn/issues/21755 */display: inline-block !important;position: relative;}#sk-container-id-3 div.sk-text-repr-fallback {display: none;}</style><div id=\"sk-container-id-3\" class=\"sk-top-container\"><div class=\"sk-text-repr-fallback\"><pre>SVC()</pre><b>In a Jupyter environment, please rerun this cell to show the HTML representation or trust the notebook. <br />On GitHub, the HTML representation is unable to render, please try loading this page with nbviewer.org.</b></div><div class=\"sk-container\" hidden><div class=\"sk-item\"><div class=\"sk-estimator sk-toggleable\"><input class=\"sk-toggleable__control sk-hidden--visually\" id=\"sk-estimator-id-5\" type=\"checkbox\" checked><label for=\"sk-estimator-id-5\" class=\"sk-toggleable__label sk-toggleable__label-arrow\">SVC</label><div class=\"sk-toggleable__content\"><pre>SVC()</pre></div></div></div></div></div>"
      ],
      "text/plain": [
       "SVC()"
      ]
     },
     "execution_count": 31,
     "metadata": {},
     "output_type": "execute_result"
    }
   ],
   "source": [
    "clf.fit(x_train,y_train)"
   ]
  },
  {
   "cell_type": "code",
   "execution_count": 32,
   "metadata": {},
   "outputs": [],
   "source": [
    "y_pred = clf.predict(x_test)"
   ]
  },
  {
   "cell_type": "code",
   "execution_count": 33,
   "metadata": {},
   "outputs": [],
   "source": [
    "filename = 'model/SVM_'+svm_kernel+'_'+image_size+'_'+str(n_bins)+'_cells_'+hog_cell+'_block_'+hog_block+'_'+class_weights+'.sav'\n",
    "pickle.dump(clf, open(filename, 'wb'))"
   ]
  },
  {
   "cell_type": "code",
   "execution_count": 34,
   "metadata": {},
   "outputs": [],
   "source": [
    "#loaded_model = pickle.load(open(filename, 'rb'))\n",
    "#result = loaded_model.score(X_test, Y_test)"
   ]
  },
  {
   "cell_type": "code",
   "execution_count": 35,
   "metadata": {},
   "outputs": [
    {
     "name": "stdout",
     "output_type": "stream",
     "text": [
      "Accuracy: 0.6163391933815926\n",
      "\n",
      "\n",
      "              precision    recall  f1-score   support\n",
      "\n",
      "           0       0.53      0.31      0.39       308\n",
      "           1       0.64      0.83      0.72       571\n",
      "           2       0.59      0.31      0.40        88\n",
      "\n",
      "    accuracy                           0.62       967\n",
      "   macro avg       0.59      0.48      0.51       967\n",
      "weighted avg       0.60      0.62      0.59       967\n",
      "\n"
     ]
    }
   ],
   "source": [
    "print(\"Accuracy: \"+str(accuracy_score(y_test, y_pred)))\n",
    "print('\\n')\n",
    "print(classification_report(y_test, y_pred))"
   ]
  },
  {
   "cell_type": "code",
   "execution_count": 36,
   "metadata": {},
   "outputs": [],
   "source": [
    "# Define cost matrix\n",
    "num_classes = n_bins\n",
    "cost_matrix = [[0]*num_classes for i in range(num_classes)]\n",
    "\n",
    "for i in range(num_classes):\n",
    "    for j in range(num_classes):\n",
    "        cost_matrix[i][j] = abs(i-j)\n"
   ]
  },
  {
   "cell_type": "code",
   "execution_count": 37,
   "metadata": {},
   "outputs": [
    {
     "data": {
      "text/plain": [
       "[[0, 1, 2], [1, 0, 1], [2, 1, 0]]"
      ]
     },
     "execution_count": 37,
     "metadata": {},
     "output_type": "execute_result"
    }
   ],
   "source": [
    "cost_matrix\n"
   ]
  },
  {
   "cell_type": "code",
   "execution_count": 38,
   "metadata": {},
   "outputs": [],
   "source": [
    "def custom_scorer(y_true, y_pred):\n",
    "    \"\"\"\n",
    "    Calculates the cost of classifying class i as class j.\n",
    "    :param y_true: true labels\n",
    "    :param y_pred: predicted labels\n",
    "    :return: total cost\n",
    "    \"\"\"\n",
    "    cost = 0\n",
    "    for i in range(len(y_true)):\n",
    "        cost += cost_matrix[int(y_true[i])][int(y_pred[i])]\n",
    "    return cost\n",
    "\n",
    "# Create scorer\n",
    "scorer = make_scorer(custom_scorer, greater_is_better=False)"
   ]
  },
  {
   "cell_type": "code",
   "execution_count": 39,
   "metadata": {},
   "outputs": [
    {
     "data": {
      "text/html": [
       "<style>#sk-container-id-4 {color: black;background-color: white;}#sk-container-id-4 pre{padding: 0;}#sk-container-id-4 div.sk-toggleable {background-color: white;}#sk-container-id-4 label.sk-toggleable__label {cursor: pointer;display: block;width: 100%;margin-bottom: 0;padding: 0.3em;box-sizing: border-box;text-align: center;}#sk-container-id-4 label.sk-toggleable__label-arrow:before {content: \"▸\";float: left;margin-right: 0.25em;color: #696969;}#sk-container-id-4 label.sk-toggleable__label-arrow:hover:before {color: black;}#sk-container-id-4 div.sk-estimator:hover label.sk-toggleable__label-arrow:before {color: black;}#sk-container-id-4 div.sk-toggleable__content {max-height: 0;max-width: 0;overflow: hidden;text-align: left;background-color: #f0f8ff;}#sk-container-id-4 div.sk-toggleable__content pre {margin: 0.2em;color: black;border-radius: 0.25em;background-color: #f0f8ff;}#sk-container-id-4 input.sk-toggleable__control:checked~div.sk-toggleable__content {max-height: 200px;max-width: 100%;overflow: auto;}#sk-container-id-4 input.sk-toggleable__control:checked~label.sk-toggleable__label-arrow:before {content: \"▾\";}#sk-container-id-4 div.sk-estimator input.sk-toggleable__control:checked~label.sk-toggleable__label {background-color: #d4ebff;}#sk-container-id-4 div.sk-label input.sk-toggleable__control:checked~label.sk-toggleable__label {background-color: #d4ebff;}#sk-container-id-4 input.sk-hidden--visually {border: 0;clip: rect(1px 1px 1px 1px);clip: rect(1px, 1px, 1px, 1px);height: 1px;margin: -1px;overflow: hidden;padding: 0;position: absolute;width: 1px;}#sk-container-id-4 div.sk-estimator {font-family: monospace;background-color: #f0f8ff;border: 1px dotted black;border-radius: 0.25em;box-sizing: border-box;margin-bottom: 0.5em;}#sk-container-id-4 div.sk-estimator:hover {background-color: #d4ebff;}#sk-container-id-4 div.sk-parallel-item::after {content: \"\";width: 100%;border-bottom: 1px solid gray;flex-grow: 1;}#sk-container-id-4 div.sk-label:hover label.sk-toggleable__label {background-color: #d4ebff;}#sk-container-id-4 div.sk-serial::before {content: \"\";position: absolute;border-left: 1px solid gray;box-sizing: border-box;top: 0;bottom: 0;left: 50%;z-index: 0;}#sk-container-id-4 div.sk-serial {display: flex;flex-direction: column;align-items: center;background-color: white;padding-right: 0.2em;padding-left: 0.2em;position: relative;}#sk-container-id-4 div.sk-item {position: relative;z-index: 1;}#sk-container-id-4 div.sk-parallel {display: flex;align-items: stretch;justify-content: center;background-color: white;position: relative;}#sk-container-id-4 div.sk-item::before, #sk-container-id-4 div.sk-parallel-item::before {content: \"\";position: absolute;border-left: 1px solid gray;box-sizing: border-box;top: 0;bottom: 0;left: 50%;z-index: -1;}#sk-container-id-4 div.sk-parallel-item {display: flex;flex-direction: column;z-index: 1;position: relative;background-color: white;}#sk-container-id-4 div.sk-parallel-item:first-child::after {align-self: flex-end;width: 50%;}#sk-container-id-4 div.sk-parallel-item:last-child::after {align-self: flex-start;width: 50%;}#sk-container-id-4 div.sk-parallel-item:only-child::after {width: 0;}#sk-container-id-4 div.sk-dashed-wrapped {border: 1px dashed gray;margin: 0 0.4em 0.5em 0.4em;box-sizing: border-box;padding-bottom: 0.4em;background-color: white;}#sk-container-id-4 div.sk-label label {font-family: monospace;font-weight: bold;display: inline-block;line-height: 1.2em;}#sk-container-id-4 div.sk-label-container {text-align: center;}#sk-container-id-4 div.sk-container {/* jupyter's `normalize.less` sets `[hidden] { display: none; }` but bootstrap.min.css set `[hidden] { display: none !important; }` so we also need the `!important` here to be able to override the default hidden behavior on the sphinx rendered scikit-learn.org. See: https://github.com/scikit-learn/scikit-learn/issues/21755 */display: inline-block !important;position: relative;}#sk-container-id-4 div.sk-text-repr-fallback {display: none;}</style><div id=\"sk-container-id-4\" class=\"sk-top-container\"><div class=\"sk-text-repr-fallback\"><pre>GridSearchCV(estimator=SVC(),\n",
       "             param_grid={&#x27;C&#x27;: array([1.00000000e-03, 1.58489319e-02, 2.51188643e-01, 3.98107171e+00,\n",
       "       6.30957344e+01, 1.00000000e+03]),\n",
       "                         &#x27;gamma&#x27;: array([1.e-03, 1.e-01, 1.e+01])},\n",
       "             scoring=make_scorer(custom_scorer, greater_is_better=False))</pre><b>In a Jupyter environment, please rerun this cell to show the HTML representation or trust the notebook. <br />On GitHub, the HTML representation is unable to render, please try loading this page with nbviewer.org.</b></div><div class=\"sk-container\" hidden><div class=\"sk-item sk-dashed-wrapped\"><div class=\"sk-label-container\"><div class=\"sk-label sk-toggleable\"><input class=\"sk-toggleable__control sk-hidden--visually\" id=\"sk-estimator-id-6\" type=\"checkbox\" ><label for=\"sk-estimator-id-6\" class=\"sk-toggleable__label sk-toggleable__label-arrow\">GridSearchCV</label><div class=\"sk-toggleable__content\"><pre>GridSearchCV(estimator=SVC(),\n",
       "             param_grid={&#x27;C&#x27;: array([1.00000000e-03, 1.58489319e-02, 2.51188643e-01, 3.98107171e+00,\n",
       "       6.30957344e+01, 1.00000000e+03]),\n",
       "                         &#x27;gamma&#x27;: array([1.e-03, 1.e-01, 1.e+01])},\n",
       "             scoring=make_scorer(custom_scorer, greater_is_better=False))</pre></div></div></div><div class=\"sk-parallel\"><div class=\"sk-parallel-item\"><div class=\"sk-item\"><div class=\"sk-label-container\"><div class=\"sk-label sk-toggleable\"><input class=\"sk-toggleable__control sk-hidden--visually\" id=\"sk-estimator-id-7\" type=\"checkbox\" ><label for=\"sk-estimator-id-7\" class=\"sk-toggleable__label sk-toggleable__label-arrow\">estimator: SVC</label><div class=\"sk-toggleable__content\"><pre>SVC()</pre></div></div></div><div class=\"sk-serial\"><div class=\"sk-item\"><div class=\"sk-estimator sk-toggleable\"><input class=\"sk-toggleable__control sk-hidden--visually\" id=\"sk-estimator-id-8\" type=\"checkbox\" ><label for=\"sk-estimator-id-8\" class=\"sk-toggleable__label sk-toggleable__label-arrow\">SVC</label><div class=\"sk-toggleable__content\"><pre>SVC()</pre></div></div></div></div></div></div></div></div></div></div>"
      ],
      "text/plain": [
       "GridSearchCV(estimator=SVC(),\n",
       "             param_grid={'C': array([1.00000000e-03, 1.58489319e-02, 2.51188643e-01, 3.98107171e+00,\n",
       "       6.30957344e+01, 1.00000000e+03]),\n",
       "                         'gamma': array([1.e-03, 1.e-01, 1.e+01])},\n",
       "             scoring=make_scorer(custom_scorer, greater_is_better=False))"
      ]
     },
     "execution_count": 39,
     "metadata": {},
     "output_type": "execute_result"
    }
   ],
   "source": [
    "# Define SVM model\n",
    "svm = clf\n",
    "# Perform grid search using custom scorer\n",
    "grid_search = GridSearchCV(svm, param_grid, scoring=scorer)\n",
    "grid_search.fit(x_train,y_train)\n"
   ]
  },
  {
   "cell_type": "code",
   "execution_count": 40,
   "metadata": {},
   "outputs": [
    {
     "name": "stdout",
     "output_type": "stream",
     "text": [
      "              C   gamma  mean_test_score  std_test_score\n",
      "0      0.001000   0.001           -365.6        0.489898\n",
      "1      0.001000   0.100           -365.6        0.489898\n",
      "2      0.001000  10.000           -365.6        0.489898\n",
      "3      0.015849   0.001           -365.6        0.489898\n",
      "4      0.015849   0.100           -365.6        0.489898\n",
      "5      0.015849  10.000           -365.6        0.489898\n",
      "6      0.251189   0.001           -365.6        0.489898\n",
      "7      0.251189   0.100           -365.6        0.489898\n",
      "8      0.251189  10.000           -365.6        0.489898\n",
      "9      3.981072   0.001           -364.4        1.200000\n",
      "10     3.981072   0.100           -338.8        5.564171\n",
      "11     3.981072  10.000           -365.6        0.489898\n",
      "12    63.095734   0.001           -378.8        3.655133\n",
      "13    63.095734   0.100           -338.8        5.564171\n",
      "14    63.095734  10.000           -365.6        0.489898\n",
      "15  1000.000000   0.001           -409.0       11.207141\n",
      "16  1000.000000   0.100           -338.8        5.564171\n",
      "17  1000.000000  10.000           -365.6        0.489898\n"
     ]
    }
   ],
   "source": [
    "results = pd.DataFrame(grid_search.cv_results_)\n",
    "params = results[['params']]\n",
    "params = pd.DataFrame(params['params'].values.tolist())\n",
    "\n",
    "scores = results[['mean_test_score', 'std_test_score']]\n",
    "results_df = pd.concat([params, scores], axis=1)\n",
    "print(results_df)"
   ]
  },
  {
   "cell_type": "code",
   "execution_count": 41,
   "metadata": {},
   "outputs": [
    {
     "name": "stdout",
     "output_type": "stream",
     "text": [
      "{'C': 3.981071705534969, 'gamma': 0.1}\n",
      "-338.8\n"
     ]
    }
   ],
   "source": [
    "\n",
    "# Print best parameters and score\n",
    "print(grid_search.best_params_)\n",
    "print(grid_search.best_score_)"
   ]
  },
  {
   "cell_type": "code",
   "execution_count": 42,
   "metadata": {},
   "outputs": [],
   "source": [
    "filename = 'model/SVM_'+svm_kernel+'_'+image_size+'_'+str(n_bins)+'_cells_'+hog_cell+'_block_'+hog_block+'_'+class_weights+'_scorer_'+scorer_function+'_'+optimize_params+'_.sav'\n",
    "\n",
    "pickle.dump(grid_search, open(filename, 'wb'))"
   ]
  },
  {
   "cell_type": "code",
   "execution_count": 43,
   "metadata": {},
   "outputs": [
    {
     "name": "stdout",
     "output_type": "stream",
     "text": [
      "Accuracy: 0.6132368148914168\n",
      "\n",
      "\n",
      "              precision    recall  f1-score   support\n",
      "\n",
      "           0       0.52      0.37      0.43       308\n",
      "           1       0.65      0.79      0.71       571\n",
      "           2       0.59      0.30      0.39        88\n",
      "\n",
      "    accuracy                           0.61       967\n",
      "   macro avg       0.58      0.49      0.51       967\n",
      "weighted avg       0.60      0.61      0.59       967\n",
      "\n"
     ]
    }
   ],
   "source": [
    "y_pred = grid_search.predict(x_test)\n",
    "print(\"Accuracy: \"+str(accuracy_score(y_test, y_pred)))\n",
    "print('\\n')\n",
    "print(classification_report(y_test, y_pred))"
   ]
  },
  {
   "cell_type": "code",
   "execution_count": 44,
   "metadata": {},
   "outputs": [
    {
     "name": "stdout",
     "output_type": "stream",
     "text": [
      "['2' '1' '0' '0' '0' '0' '1' '1' '1' '1' '1' '1' '1' '1' '1' '0' '1' '0'\n",
      " '1' '0' '1' '1' '1' '1' '1' '0' '0' '1' '0' '1' '0' '0' '0' '0' '2' '1'\n",
      " '0' '1' '1' '0' '0' '1' '1' '0' '0' '1' '1' '1' '1' '1' '1' '0' '1' '1'\n",
      " '1' '1' '1' '0' '1' '1' '1' '1' '1' '1' '1' '1' '1' '1' '0' '1' '1' '1'\n",
      " '1' '1' '1' '1' '1' '1' '1' '1' '1' '0' '1' '1' '1' '1' '0' '1' '1' '1'\n",
      " '1' '1' '0' '1' '0' '1' '1' '1' '1' '0' '1' '0' '1' '0' '1' '1' '0' '1'\n",
      " '1' '0' '1' '1' '1' '1' '1' '1' '1' '1' '2' '1' '1' '1' '1' '0' '2' '1'\n",
      " '1' '1' '0' '1' '0' '1' '1' '2' '1' '1' '1' '1' '1' '2' '0' '0' '1' '2'\n",
      " '0' '1' '1' '1' '1' '1' '1' '1' '1' '1' '0' '1' '1' '1' '1' '1' '1' '1'\n",
      " '1' '1' '1' '2' '0' '1' '1' '1' '2' '1' '1' '1' '1' '1' '0' '1' '1' '0'\n",
      " '1' '1' '1' '1' '2' '1' '1' '2' '1' '1' '1' '0' '1' '1' '1' '1' '1' '1'\n",
      " '0' '1' '1' '1' '1' '1' '1' '1' '1' '0' '1' '2' '0' '1' '1' '1' '1' '1'\n",
      " '1' '1' '1' '1' '1' '1' '1' '1' '1' '1' '1' '1' '0' '1' '1' '0' '1' '1'\n",
      " '0' '1' '1' '1' '0' '1' '1' '1' '1' '1' '1' '1' '1' '0' '1' '1' '1' '1'\n",
      " '0' '1' '1' '1' '2' '1' '0' '1' '1' '1' '1' '1' '1' '0' '1' '1' '1' '0'\n",
      " '1' '1' '1' '0' '1' '1' '2' '1' '0' '1' '1' '1' '1' '1' '1' '1' '1' '0'\n",
      " '1' '1' '1' '1' '1' '1' '0' '1' '1' '1' '1' '1' '1' '0' '1' '1' '1' '0'\n",
      " '1' '1' '1' '1' '1' '1' '1' '0' '1' '0' '1' '1' '2' '0' '0' '1' '1' '1'\n",
      " '1' '1' '1' '1' '1' '0' '1' '1' '1' '1' '1' '1' '1' '1' '1' '2' '1' '1'\n",
      " '1' '2' '1' '0' '1' '1' '1' '1' '1' '1' '1' '0' '1' '1' '1' '1' '1' '0'\n",
      " '0' '1' '1' '0' '0' '1' '1' '0' '0' '1' '0' '1' '1' '1' '0' '1' '1' '1'\n",
      " '1' '1' '1' '0' '1' '1' '1' '0' '0' '1' '1' '1' '1' '1' '1' '2' '0' '1'\n",
      " '1' '1' '1' '1' '1' '0' '1' '1' '1' '1' '1' '1' '0' '1' '0' '1' '1' '1'\n",
      " '1' '2' '1' '1' '1' '0' '1' '1' '1' '1' '1' '1' '1' '0' '1' '0' '1' '1'\n",
      " '1' '1' '1' '1' '1' '1' '1' '0' '1' '1' '1' '1' '1' '1' '0' '1' '1' '1'\n",
      " '1' '0' '1' '1' '1' '1' '0' '1' '1' '0' '1' '1' '0' '1' '1' '1' '1' '1'\n",
      " '1' '0' '1' '1' '0' '1' '1' '1' '1' '1' '1' '1' '0' '1' '1' '1' '1' '0'\n",
      " '1' '1' '1' '1' '1' '1' '1' '1' '1' '1' '1' '1' '1' '1' '1' '1' '1' '1'\n",
      " '1' '1' '1' '0' '0' '1' '0' '1' '0' '0' '1' '2' '0' '1' '2' '1' '1' '1'\n",
      " '0' '1' '1' '0' '1' '1' '1' '1' '1' '1' '1' '1' '1' '1' '1' '1' '2' '1'\n",
      " '0' '1' '1' '1' '0' '1' '1' '1' '1' '1' '2' '1' '1' '1' '1' '0' '1' '1'\n",
      " '0' '1' '1' '1' '1' '1' '1' '1' '0' '1' '1' '1' '0' '1' '2' '1' '1' '0'\n",
      " '2' '0' '0' '1' '1' '1' '1' '1' '1' '1' '1' '1' '1' '0' '1' '1' '0' '0'\n",
      " '1' '1' '1' '1' '0' '1' '1' '1' '1' '1' '1' '1' '0' '1' '1' '1' '0' '0'\n",
      " '0' '0' '1' '0' '1' '1' '1' '1' '1' '1' '0' '0' '1' '1' '1' '0' '1' '1'\n",
      " '1' '0' '1' '1' '1' '1' '1' '1' '1' '1' '0' '1' '1' '1' '0' '1' '0' '0'\n",
      " '0' '1' '1' '0' '0' '1' '1' '1' '1' '0' '1' '0' '0' '0' '1' '1' '1' '1'\n",
      " '1' '1' '1' '1' '1' '2' '1' '1' '1' '0' '1' '1' '1' '0' '1' '0' '0' '1'\n",
      " '1' '1' '0' '1' '1' '0' '0' '1' '1' '1' '0' '1' '0' '2' '1' '1' '1' '1'\n",
      " '1' '1' '0' '1' '1' '1' '0' '0' '1' '1' '1' '0' '1' '1' '1' '1' '1' '1'\n",
      " '0' '0' '1' '1' '1' '0' '0' '1' '1' '1' '1' '1' '1' '0' '1' '1' '1' '1'\n",
      " '2' '1' '1' '1' '1' '2' '1' '1' '1' '1' '0' '0' '0' '0' '1' '1' '1' '1'\n",
      " '1' '1' '0' '1' '0' '1' '2' '1' '1' '0' '1' '1' '1' '1' '2' '1' '0' '1'\n",
      " '0' '0' '1' '1' '0' '1' '0' '1' '0' '1' '1' '1' '1' '1' '0' '1' '0' '0'\n",
      " '1' '1' '1' '0' '1' '1' '1' '0' '1' '1' '1' '1' '2' '1' '1' '2' '0' '1'\n",
      " '1' '0' '2' '1' '1' '1' '1' '1' '2' '1' '1' '1' '1' '1' '0' '1' '1' '1'\n",
      " '1' '0' '1' '0' '1' '1' '0' '0' '1' '0' '0' '1' '1' '0' '1' '0' '1' '2'\n",
      " '1' '1' '1' '1' '1' '0' '0' '0' '1' '1' '1' '1' '0' '1' '1' '0' '0' '0'\n",
      " '0' '0' '0' '1' '1' '2' '1' '1' '0' '1' '2' '1' '1' '1' '0' '1' '1' '1'\n",
      " '0' '1' '2' '0' '1' '1' '0' '0' '1' '1' '1' '1' '1' '0' '1' '1' '1' '1'\n",
      " '1' '0' '0' '0' '0' '1' '0' '1' '1' '1' '0' '0' '1' '0' '1' '0' '0' '0'\n",
      " '0' '1' '2' '1' '1' '1' '1' '1' '1' '1' '1' '1' '1' '1' '1' '1' '1' '2'\n",
      " '1' '1' '1' '1' '1' '1' '1' '1' '0' '0' '2' '1' '0' '1' '1' '1' '1' '0'\n",
      " '0' '1' '0' '0' '1' '2' '1' '1' '1' '2' '1' '1' '0']\n"
     ]
    }
   ],
   "source": [
    "print(y_pred)"
   ]
  }
 ],
 "metadata": {
  "kernelspec": {
   "display_name": "Python 3 (ipykernel)",
   "language": "python",
   "name": "python3"
  },
  "language_info": {
   "codemirror_mode": {
    "name": "ipython",
    "version": 3
   },
   "file_extension": ".py",
   "mimetype": "text/x-python",
   "name": "python",
   "nbconvert_exporter": "python",
   "pygments_lexer": "ipython3",
   "version": "3.9.12"
  },
  "vscode": {
   "interpreter": {
    "hash": "3a6e5b842e2037657f728d9ad513cfa5a0314365ca8a86cdbfa2f5f3f58bdad7"
   }
  }
 },
 "nbformat": 4,
 "nbformat_minor": 4
}
