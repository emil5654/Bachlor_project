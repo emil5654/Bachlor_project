{
 "cells": [
  {
   "cell_type": "code",
   "execution_count": 6,
   "metadata": {},
   "outputs": [],
   "source": [
    "#We need these in this file:\n",
    "import load_read_name_extractor as lrne\n",
    "import SVM_classifier_general as SVM_GENERAL\n",
    "import os\n",
    "import pickle"
   ]
  },
  {
   "cell_type": "code",
   "execution_count": 8,
   "metadata": {},
   "outputs": [
    {
     "name": "stdout",
     "output_type": "stream",
     "text": [
      "4935\n",
      "4935\n"
     ]
    }
   ],
   "source": [
    "features_load = np.load('features/hog_features_64_128_hog_cells_8x8_block_2x2.npy', allow_pickle=True)\n",
    "names_load = np.load('features/img_names_64_128_hog_cells_8x8_block_2x2.npy', allow_pickle=True)\n",
    "print(len(features_load))\n",
    "print(len(names_load))"
   ]
  },
  {
   "cell_type": "code",
   "execution_count": 9,
   "metadata": {},
   "outputs": [
    {
     "name": "stdout",
     "output_type": "stream",
     "text": [
      "[0.20888097 0.16330611 0.04696022 ... 0.06301632 0.05749686 0.03150874]\n",
      "(61, 50, '160607_Min', 2.0)\n"
     ]
    }
   ],
   "source": [
    "labels = get_lodging_scores.get_labels(5)\n",
    "#[ROI, Visual SCORE, FLIGHTFolder, BIN]\n",
    "print(features_load[0])\n",
    "ht_mean = features_load[0].mean(axis=0)\n",
    "ht_mean\n",
    "\n",
    "print(labels[0])"
   ]
  },
  {
   "cell_type": "code",
   "execution_count": 10,
   "metadata": {},
   "outputs": [],
   "source": [
    "my_set = set(map(tuple, labels))\n",
    "# convert set back to list of arrays\n",
    "labels = list(map(np.array, my_set))"
   ]
  },
  {
   "cell_type": "code",
   "execution_count": 12,
   "metadata": {},
   "outputs": [],
   "source": [
    "names = lrne.it_name_extract_labels_from_img_jpeg(names_load)"
   ]
  },
  {
   "cell_type": "code",
   "execution_count": 15,
   "metadata": {},
   "outputs": [
    {
     "ename": "KeyboardInterrupt",
     "evalue": "",
     "output_type": "error",
     "traceback": [
      "\u001b[1;31m---------------------------------------------------------------------------\u001b[0m",
      "\u001b[1;31mKeyboardInterrupt\u001b[0m                         Traceback (most recent call last)",
      "Cell \u001b[1;32mIn [15], line 3\u001b[0m\n\u001b[0;32m      1\u001b[0m clf \u001b[39m=\u001b[39m svm\u001b[39m.\u001b[39mSVC(kernel\u001b[39m=\u001b[39m\u001b[39m\"\u001b[39m\u001b[39mrbf\u001b[39m\u001b[39m\"\u001b[39m, class_weight\u001b[39m=\u001b[39m\u001b[39m\"\u001b[39m\u001b[39mbalanced\u001b[39m\u001b[39m\"\u001b[39m)\n\u001b[0;32m      2\u001b[0m features_aar \u001b[39m=\u001b[39m np\u001b[39m.\u001b[39marray(features_load)\n\u001b[1;32m----> 3\u001b[0m data_frame, error \u001b[39m=\u001b[39m match_pic_label(features_load, labels, names)\n\u001b[0;32m      4\u001b[0m data_frame_names, error_names \u001b[39m=\u001b[39m match_pic_label_names(features_load, labels, names)\n\u001b[0;32m      5\u001b[0m \u001b[39mprint\u001b[39m(data_frame[\u001b[39m0\u001b[39m])\n",
      "Cell \u001b[1;32mIn [13], line 10\u001b[0m, in \u001b[0;36mmatch_pic_label\u001b[1;34m(features, labels, names)\u001b[0m\n\u001b[0;32m      8\u001b[0m \u001b[39mfor\u001b[39;00m j \u001b[39min\u001b[39;00m \u001b[39mrange\u001b[39m(m):\n\u001b[0;32m      9\u001b[0m     \u001b[39mif\u001b[39;00m (\u001b[39mstr\u001b[39m(labels[i][\u001b[39m0\u001b[39m]) \u001b[39m==\u001b[39m \u001b[39mstr\u001b[39m(names[j][\u001b[39m0\u001b[39m]) \u001b[39mand\u001b[39;00m labels[i][\u001b[39m2\u001b[39m] \u001b[39m==\u001b[39m names[j][\u001b[39m1\u001b[39m]):\n\u001b[1;32m---> 10\u001b[0m         data_frame\u001b[39m.\u001b[39mappend(np\u001b[39m.\u001b[39;49mhstack((features[j], labels[i][\u001b[39m3\u001b[39;49m])))\n\u001b[0;32m     11\u001b[0m         matched \u001b[39m=\u001b[39m \u001b[39mTrue\u001b[39;00m\n\u001b[0;32m     12\u001b[0m \u001b[39mif\u001b[39;00m (matched \u001b[39m==\u001b[39m \u001b[39mFalse\u001b[39;00m):\n",
      "File \u001b[1;32m<__array_function__ internals>:180\u001b[0m, in \u001b[0;36mhstack\u001b[1;34m(*args, **kwargs)\u001b[0m\n",
      "File \u001b[1;32mc:\\Users\\marti\\miniconda3\\envs\\imgp2\\lib\\site-packages\\numpy\\core\\shape_base.py:343\u001b[0m, in \u001b[0;36mhstack\u001b[1;34m(tup)\u001b[0m\n\u001b[0;32m    341\u001b[0m \u001b[39m# As a special case, dimension 0 of 1-dimensional arrays is \"horizontal\"\u001b[39;00m\n\u001b[0;32m    342\u001b[0m \u001b[39mif\u001b[39;00m arrs \u001b[39mand\u001b[39;00m arrs[\u001b[39m0\u001b[39m]\u001b[39m.\u001b[39mndim \u001b[39m==\u001b[39m \u001b[39m1\u001b[39m:\n\u001b[1;32m--> 343\u001b[0m     \u001b[39mreturn\u001b[39;00m _nx\u001b[39m.\u001b[39;49mconcatenate(arrs, \u001b[39m0\u001b[39;49m)\n\u001b[0;32m    344\u001b[0m \u001b[39melse\u001b[39;00m:\n\u001b[0;32m    345\u001b[0m     \u001b[39mreturn\u001b[39;00m _nx\u001b[39m.\u001b[39mconcatenate(arrs, \u001b[39m1\u001b[39m)\n",
      "File \u001b[1;32m<__array_function__ internals>:180\u001b[0m, in \u001b[0;36mconcatenate\u001b[1;34m(*args, **kwargs)\u001b[0m\n",
      "\u001b[1;31mKeyboardInterrupt\u001b[0m: "
     ]
    }
   ],
   "source": [
    "clf = svm.SVC(kernel=\"rbf\", class_weight=\"balanced\")\n",
    "features_aar = np.array(features_load)\n",
    "data_frame, error = svm_general.match_pic_label(features_load, labels, names)\n",
    "#data_frame_names, error_names = match_pic_label_names(features_load, labels, names)\n",
    "np.random.shuffle(data_frame)\n",
    "data_frame = np.array(data_frame)\n"
   ]
  },
  {
   "cell_type": "code",
   "execution_count": null,
   "metadata": {},
   "outputs": [],
   "source": [
    "percentage = 80\n",
    "partition = int(len(features_aar)*percentage/100)\n",
    "x_train, x_test = data_frame[:partition,:-1],  data_frame[partition:,:-1]\n",
    "y_train, y_test = data_frame[:partition,-1:].ravel() , data_frame[partition:,-1:].ravel()\n",
    "print(y_train)\n",
    "clf.fit(x_train,y_train)"
   ]
  },
  {
   "cell_type": "code",
   "execution_count": null,
   "metadata": {},
   "outputs": [],
   "source": [
    "y_pred = clf.predict(x_test)"
   ]
  },
  {
   "cell_type": "code",
   "execution_count": null,
   "metadata": {},
   "outputs": [],
   "source": [
    "filename = 'SVM_linear_64_128_3bins_cells_8x8_block_2x2_balanced.sav'\n",
    "pickle.dump(clf, open(filename, 'wb'))"
   ]
  },
  {
   "cell_type": "code",
   "execution_count": null,
   "metadata": {},
   "outputs": [],
   "source": [
    "#loaded_model = pickle.load(open(filename, 'rb'))\n",
    "#result = loaded_model.score(X_test, Y_test)"
   ]
  },
  {
   "cell_type": "code",
   "execution_count": null,
   "metadata": {},
   "outputs": [
    {
     "name": "stdout",
     "output_type": "stream",
     "text": [
      "Accuracy: 0.7197518097207859\n",
      "\n",
      "\n",
      "              precision    recall  f1-score   support\n",
      "\n",
      "         1.0       0.85      0.83      0.84       684\n",
      "         2.0       0.38      0.46      0.41       193\n",
      "         3.0       0.59      0.46      0.52        90\n",
      "\n",
      "    accuracy                           0.72       967\n",
      "   macro avg       0.61      0.58      0.59       967\n",
      "weighted avg       0.73      0.72      0.73       967\n",
      "\n"
     ]
    }
   ],
   "source": [
    "print(\"Accuracy: \"+str(accuracy_score(y_test, y_pred)))\n",
    "print('\\n')\n",
    "print(classification_report(y_test, y_pred))"
   ]
  },
  {
   "cell_type": "code",
   "execution_count": null,
   "metadata": {},
   "outputs": [],
   "source": [
    "# Define cost matrix\n",
    "num_classes = 20\n",
    "cost_matrix = [[0]*num_classes for i in range(num_classes)]\n",
    "\n",
    "for i in range(num_classes):\n",
    "    for j in range(num_classes):\n",
    "        cost_matrix[i][j] = abs(i-j)\n",
    "cost_matrix"
   ]
  },
  {
   "cell_type": "code",
   "execution_count": null,
   "metadata": {},
   "outputs": [],
   "source": [
    "def custom_scorer(y_true, y_pred):\n",
    "    \"\"\"\n",
    "    Calculates the cost of classifying class i as class j.\n",
    "    :param y_true: true labels\n",
    "    :param y_pred: predicted labels\n",
    "    :return: total cost\n",
    "    \"\"\"\n",
    "    cost = 0\n",
    "    for i in range(len(y_true)):\n",
    "        cost += cost_matrix[int(y_true[i])][int(y_pred[i])]\n",
    "    return cost\n",
    "\n",
    "# Create scorer\n",
    "scorer = make_scorer(custom_scorer, greater_is_better=False)"
   ]
  },
  {
   "cell_type": "code",
   "execution_count": null,
   "metadata": {},
   "outputs": [],
   "source": [
    "# Define SVM model\n",
    "svm = clf\n",
    "\n",
    "# Define parameter grid for grid search\n",
    "param_grid = {'C': np.logspace(-3, 3, 6)}\n",
    "\n",
    "# Perform grid search using custom scorer\n",
    "grid_search = GridSearchCV(svm, param_grid, scoring=scorer)\n",
    "grid_search.fit(x_train,y_train)\n",
    "\n",
    "# Print best parameters and score\n",
    "print(grid_search.best_params_)\n",
    "print(grid_search.best_score_)"
   ]
  },
  {
   "cell_type": "code",
   "execution_count": null,
   "metadata": {},
   "outputs": [],
   "source": [
    "y_pred = grid_search.predict(x_test)\n",
    "print(\"Accuracy: \"+str(accuracy_score(y_test, y_pred)))\n",
    "print('\\n')\n",
    "print(classification_report(y_test, y_pred))"
   ]
  }
 ],
 "metadata": {
  "kernelspec": {
   "display_name": "Python 3.10.9 ('imgp2')",
   "language": "python",
   "name": "python3"
  },
  "language_info": {
   "codemirror_mode": {
    "name": "ipython",
    "version": 3
   },
   "file_extension": ".py",
   "mimetype": "text/x-python",
   "name": "python",
   "nbconvert_exporter": "python",
   "pygments_lexer": "ipython3",
   "version": "3.10.9"
  },
  "orig_nbformat": 4,
  "vscode": {
   "interpreter": {
    "hash": "3a6e5b842e2037657f728d9ad513cfa5a0314365ca8a86cdbfa2f5f3f58bdad7"
   }
  }
 },
 "nbformat": 4,
 "nbformat_minor": 2
}
