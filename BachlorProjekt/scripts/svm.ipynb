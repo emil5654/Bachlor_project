{
 "cells": [
  {
   "cell_type": "code",
   "execution_count": 1,
   "metadata": {},
   "outputs": [],
   "source": [
    "#We need these in this file:\n",
    "import pandas as pd\n",
    "from sklearn import svm\n",
    "from sklearn.metrics import classification_report,accuracy_score\n",
    "import numpy as np # linear algebra\n",
    "import get_lodging_scores\n",
    "import SVM_classifier_general as svm_general\n",
    "import pickle\n",
    "from sklearn.metrics import make_scorer\n",
    "from sklearn.model_selection import GridSearchCV\n",
    "import glob\n",
    "\n",
    "import sys\n",
    "sys.path.append('cropping')\n",
    "import load_read_name_extractor as lrne\n"
   ]
  },
  {
   "cell_type": "code",
   "execution_count": 2,
   "metadata": {},
   "outputs": [],
   "source": [
    "data_paths_auto = glob.glob(\"Features/*npy\")\n",
    "size = int(len(data_paths_auto)/2)\n",
    "features_paths = data_paths_auto[0:size]\n",
    "names_paths = data_paths_auto[size:len(data_paths_auto)]"
   ]
  },
  {
   "cell_type": "code",
   "execution_count": 3,
   "metadata": {},
   "outputs": [
    {
     "data": {
      "text/plain": [
       "['Features\\\\hog_features_(64, 128, 3)_cells_(10, 10)_block_(4, 4)_norm_L2.npy',\n",
       " 'Features\\\\hog_features_(64, 128, 3)_cells_(12, 12)_block_(4, 4)_norm_L2.npy',\n",
       " 'Features\\\\hog_features_(64, 128, 3)_cells_(14, 14)_block_(4, 4)_norm_L2.npy',\n",
       " 'Features\\\\hog_features_(64, 128, 3)_cells_(16, 16)_block_(4, 4)_norm_L2.npy',\n",
       " 'Features\\\\hog_features_(64, 128, 3)_cells_(8, 8)_block_(1, 1)_norm_L2.npy',\n",
       " 'Features\\\\hog_features_(64, 128, 3)_cells_(8, 8)_block_(2, 2)_norm_L2.npy',\n",
       " 'Features\\\\hog_features_(64, 128, 3)_cells_(8, 8)_block_(3, 3)_norm_L2.npy',\n",
       " 'Features\\\\hog_features_(64, 128, 3)_cells_(8, 8)_block_(4, 4)_norm_L2.npy',\n",
       " 'Features\\\\hog_features_(64, 128, 3)_cells_(8, 8)_block_(5, 5)_norm_L2.npy',\n",
       " 'Features\\\\hog_features_(64, 128, 3)_cells_(8, 8)_block_(6, 6)_norm_L2.npy',\n",
       " 'Features\\\\hog_features_(72, 248, 3)_cells_(8, 8)_block_(1, 1)_norm_L2.npy',\n",
       " 'Features\\\\hog_features_(72, 248, 3)_cells_(8, 8)_block_(2, 2)_norm_L2.npy',\n",
       " 'Features\\\\hog_features_(72, 248, 3)_cells_(8, 8)_block_(3, 3)_norm_L2.npy',\n",
       " 'Features\\\\hog_features_(72, 248, 3)_cells_(8, 8)_block_(4, 4)_norm_L2.npy',\n",
       " 'Features\\\\hog_features_(72, 248, 3)_cells_(8, 8)_block_(5, 5)_norm_L2.npy',\n",
       " 'Features\\\\hog_features_(72, 248, 3)_cells_(8, 8)_block_(6, 6)_norm_L2.npy',\n",
       " 'Features\\\\hog_features_(96, 192, 3)_cells_(10, 10)_block_(4, 4)_norm_L2.npy',\n",
       " 'Features\\\\hog_features_(96, 192, 3)_cells_(12, 12)_block_(4, 4)_norm_L2.npy',\n",
       " 'Features\\\\hog_features_(96, 192, 3)_cells_(14, 14)_block_(4, 4)_norm_L2.npy',\n",
       " 'Features\\\\hog_features_(96, 192, 3)_cells_(16, 16)_block_(4, 4)_norm_L2.npy',\n",
       " 'Features\\\\hog_features_(96, 192, 3)_cells_(8, 8)_block_(1, 1)_norm_L2.npy',\n",
       " 'Features\\\\hog_features_(96, 192, 3)_cells_(8, 8)_block_(2, 2)_norm_L2.npy',\n",
       " 'Features\\\\hog_features_(96, 192, 3)_cells_(8, 8)_block_(3, 3)_norm_L2.npy',\n",
       " 'Features\\\\hog_features_(96, 192, 3)_cells_(8, 8)_block_(4, 4)_norm_L2.npy',\n",
       " 'Features\\\\hog_features_(96, 192, 3)_cells_(8, 8)_block_(5, 5)_norm_L2.npy',\n",
       " 'Features\\\\hog_features_(96, 192, 3)_cells_(8, 8)_block_(6, 6)_norm_L2.npy']"
      ]
     },
     "execution_count": 3,
     "metadata": {},
     "output_type": "execute_result"
    }
   ],
   "source": [
    "features_paths\n"
   ]
  },
  {
   "cell_type": "code",
   "execution_count": 4,
   "metadata": {},
   "outputs": [
    {
     "data": {
      "text/plain": [
       "['Features\\\\img_names_(64, 128, 3)_cells_(10, 10)_block_(4, 4)_norm_L2.npy',\n",
       " 'Features\\\\img_names_(64, 128, 3)_cells_(12, 12)_block_(4, 4)_norm_L2.npy',\n",
       " 'Features\\\\img_names_(64, 128, 3)_cells_(14, 14)_block_(4, 4)_norm_L2.npy',\n",
       " 'Features\\\\img_names_(64, 128, 3)_cells_(16, 16)_block_(4, 4)_norm_L2.npy',\n",
       " 'Features\\\\img_names_(64, 128, 3)_cells_(8, 8)_block_(1, 1)_norm_L2.npy',\n",
       " 'Features\\\\img_names_(64, 128, 3)_cells_(8, 8)_block_(2, 2)_norm_L2.npy',\n",
       " 'Features\\\\img_names_(64, 128, 3)_cells_(8, 8)_block_(3, 3)_norm_L2.npy',\n",
       " 'Features\\\\img_names_(64, 128, 3)_cells_(8, 8)_block_(4, 4)_norm_L2.npy',\n",
       " 'Features\\\\img_names_(64, 128, 3)_cells_(8, 8)_block_(5, 5)_norm_L2.npy',\n",
       " 'Features\\\\img_names_(64, 128, 3)_cells_(8, 8)_block_(6, 6)_norm_L2.npy',\n",
       " 'Features\\\\img_names_(72, 248, 3)_cells_(8, 8)_block_(1, 1)_norm_L2.npy',\n",
       " 'Features\\\\img_names_(72, 248, 3)_cells_(8, 8)_block_(2, 2)_norm_L2.npy',\n",
       " 'Features\\\\img_names_(72, 248, 3)_cells_(8, 8)_block_(3, 3)_norm_L2.npy',\n",
       " 'Features\\\\img_names_(72, 248, 3)_cells_(8, 8)_block_(4, 4)_norm_L2.npy',\n",
       " 'Features\\\\img_names_(72, 248, 3)_cells_(8, 8)_block_(5, 5)_norm_L2.npy',\n",
       " 'Features\\\\img_names_(72, 248, 3)_cells_(8, 8)_block_(6, 6)_norm_L2.npy',\n",
       " 'Features\\\\img_names_(96, 192, 3)_cells_(10, 10)_block_(4, 4)_norm_L2.npy',\n",
       " 'Features\\\\img_names_(96, 192, 3)_cells_(12, 12)_block_(4, 4)_norm_L2.npy',\n",
       " 'Features\\\\img_names_(96, 192, 3)_cells_(14, 14)_block_(4, 4)_norm_L2.npy',\n",
       " 'Features\\\\img_names_(96, 192, 3)_cells_(16, 16)_block_(4, 4)_norm_L2.npy',\n",
       " 'Features\\\\img_names_(96, 192, 3)_cells_(8, 8)_block_(1, 1)_norm_L2.npy',\n",
       " 'Features\\\\img_names_(96, 192, 3)_cells_(8, 8)_block_(2, 2)_norm_L2.npy',\n",
       " 'Features\\\\img_names_(96, 192, 3)_cells_(8, 8)_block_(3, 3)_norm_L2.npy',\n",
       " 'Features\\\\img_names_(96, 192, 3)_cells_(8, 8)_block_(4, 4)_norm_L2.npy',\n",
       " 'Features\\\\img_names_(96, 192, 3)_cells_(8, 8)_block_(5, 5)_norm_L2.npy',\n",
       " 'Features\\\\img_names_(96, 192, 3)_cells_(8, 8)_block_(6, 6)_norm_L2.npy']"
      ]
     },
     "execution_count": 4,
     "metadata": {},
     "output_type": "execute_result"
    }
   ],
   "source": [
    "names_paths"
   ]
  },
  {
   "cell_type": "code",
   "execution_count": 5,
   "metadata": {},
   "outputs": [],
   "source": [
    "features_paths = [\n",
    "'Features\\\\hog_features_(64, 128, 3)_cells_(8, 8)_block_(4, 4)_norm_L2.npy']"
   ]
  },
  {
   "cell_type": "code",
   "execution_count": 6,
   "metadata": {},
   "outputs": [],
   "source": [
    "names_paths = [\n",
    " 'Features\\\\img_names_(64, 128, 3)_cells_(8, 8)_block_(4, 4)_norm_L2.npy']"
   ]
  },
  {
   "cell_type": "code",
   "execution_count": 7,
   "metadata": {},
   "outputs": [
    {
     "data": {
      "text/plain": [
       "(3780,)"
      ]
     },
     "execution_count": 7,
     "metadata": {},
     "output_type": "execute_result"
    }
   ],
   "source": [
    "features_load = np.load(features_paths[0], allow_pickle=True)\n",
    "features_load[1000].shape"
   ]
  },
  {
   "cell_type": "code",
   "execution_count": 8,
   "metadata": {},
   "outputs": [
    {
     "data": {
      "text/plain": [
       "(3780,)"
      ]
     },
     "execution_count": 8,
     "metadata": {},
     "output_type": "execute_result"
    }
   ],
   "source": [
    "features_load[3000].shape"
   ]
  },
  {
   "cell_type": "code",
   "execution_count": 9,
   "metadata": {},
   "outputs": [],
   "source": [
    "def save_results(results, path):\n",
    "    path = path.replace(\"Features\\\\\", \"\")\n",
    "    path = \"results/\" + path.replace(\".npy\", \".txt\")\n",
    "    with open(path, 'a') as f:\n",
    "        f.write(results)\n",
    "        f.write(\"\\n\")"
   ]
  },
  {
   "cell_type": "code",
   "execution_count": 10,
   "metadata": {},
   "outputs": [],
   "source": [
    "def load_labels(bin_size):\n",
    "    labels = get_lodging_scores.get_labels(bin_size)\n",
    "    #COnverts into set (no dublicates in set)\n",
    "    my_set = set(map(tuple, labels))\n",
    "    # convert set back to list of arrays\n",
    "    labels = list(map(np.array, my_set))\n",
    "    return labels"
   ]
  },
  {
   "cell_type": "code",
   "execution_count": 11,
   "metadata": {},
   "outputs": [],
   "source": [
    "def partition_data(data_frame, percentage):\n",
    "    partition = int(len(data_frame)*percentage/100)\n",
    "    print(len(data_frame.shape), 2)\n",
    "    print(len(data_frame[0].shape), 2)\n",
    "    x_train, x_test = data_frame[:partition,:-1],  data_frame[partition:,:-1]\n",
    "    y_train, y_test = data_frame[:partition,-1:].ravel() , data_frame[partition:,-1:].ravel()\n",
    "    return x_train, x_test, y_train, y_test"
   ]
  },
  {
   "cell_type": "code",
   "execution_count": 12,
   "metadata": {},
   "outputs": [],
   "source": [
    "def save_model(filename, clf):\n",
    "    filename = filename.replace(\"Features\\\\\", \"\")\n",
    "    filename = \"model/\" + filename.replace(\".npy\", \".sav\")\n",
    "    pickle.dump(clf, open(filename, 'wb'))"
   ]
  },
  {
   "cell_type": "code",
   "execution_count": 13,
   "metadata": {},
   "outputs": [],
   "source": [
    "def run_mult_models(features_paths, names_paths, bin_size = 10, svm_kernel=\"rbf\", class_weights = None):\n",
    "    for i in range (len(features_paths)):\n",
    "        #laod features and names\n",
    "        features_load = np.load(features_paths[i], allow_pickle=True)\n",
    "        names_load = np.load(names_paths[i], allow_pickle=True)\n",
    "\n",
    "        print(1)\n",
    "        #load labels\n",
    "        labels = load_labels(bin_size)\n",
    "\n",
    "        #convert names into [flight_folder, ROI]\n",
    "        names = lrne.it_name_extract_labels_from_img_jpeg(names_load)\n",
    "        names_load = None\n",
    "        print(2)\n",
    "        #match labels with feature names\n",
    "        data_frame = svm_general.match_pic_label_to_names_old(features_load, labels, names)\n",
    "        print(3)\n",
    "        features_load = None\n",
    "        labels = None\n",
    "        names = None\n",
    "        print(data_frame)\n",
    "        #shuffle data and convert to array\n",
    "        np.random.shuffle(data_frame)\n",
    "\n",
    "        #partition data\n",
    "        percentage = 80\n",
    "        data_frame = np.array(data_frame)\n",
    "        x_train, x_test, y_train, y_test = partition_data(data_frame, percentage)\n",
    "        data_frame = None\n",
    "        features_aar = None\n",
    "\n",
    "        #create svm\n",
    "        clf = svm.SVC(kernel=svm_kernel, class_weight=class_weights)\n",
    "        #fit model with training data\n",
    "        clf.fit(x_train,y_train)\n",
    "        #predict data\n",
    "        y_pred = clf.predict(x_test)\n",
    "\n",
    "        #Save the found model\n",
    "        n_bins = int(np.floor(100/bin_size))\n",
    "        print(features_paths[i])\n",
    "        print(len(features_paths))\n",
    "        path = \"SVMC_\" + \"Kernel_\" + svm_kernel + \"_Nbins_\" + str(n_bins) + \"_ClassWeights_\" + str(class_weights) + \"_\" + features_paths[i]\n",
    "        save_model(path, clf)\n",
    "\n",
    "        #Save the results\n",
    "        results = \"Accuracy: \"+str(accuracy_score(y_test, y_pred)) + \"\\n\" + classification_report(y_test, y_pred)\n",
    "        save_results(results, path)"
   ]
  },
  {
   "cell_type": "code",
   "execution_count": 14,
   "metadata": {},
   "outputs": [
    {
     "ename": "KeyboardInterrupt",
     "evalue": "",
     "output_type": "error",
     "traceback": [
      "\u001b[1;31m---------------------------------------------------------------------------\u001b[0m",
      "\u001b[1;31mKeyboardInterrupt\u001b[0m                         Traceback (most recent call last)",
      "Cell \u001b[1;32mIn [14], line 1\u001b[0m\n\u001b[1;32m----> 1\u001b[0m run_mult_models(features_paths, names_paths, bin_size \u001b[39m=\u001b[39m \u001b[39m10\u001b[39m, svm_kernel\u001b[39m=\u001b[39m\u001b[39m\"\u001b[39m\u001b[39mrbf\u001b[39m\u001b[39m\"\u001b[39m)\n",
      "Cell \u001b[1;32mIn [13], line 15\u001b[0m, in \u001b[0;36mrun_mult_models\u001b[1;34m(features_paths, names_paths, bin_size, svm_kernel, class_weights)\u001b[0m\n\u001b[0;32m     12\u001b[0m names_load \u001b[39m=\u001b[39m \u001b[39mNone\u001b[39;00m\n\u001b[0;32m     14\u001b[0m \u001b[39m#match labels with feature names\u001b[39;00m\n\u001b[1;32m---> 15\u001b[0m data_frame \u001b[39m=\u001b[39m svm_general\u001b[39m.\u001b[39;49mmatch_pic_label_to_names_old(features_load, labels, names)\n\u001b[0;32m     16\u001b[0m features_load \u001b[39m=\u001b[39m \u001b[39mNone\u001b[39;00m\n\u001b[0;32m     17\u001b[0m labels \u001b[39m=\u001b[39m \u001b[39mNone\u001b[39;00m\n",
      "File \u001b[1;32me:\\Bachelor\\Bachlor_project\\BachlorProjekt\\scripts\\SVM_classifier_general.py:36\u001b[0m, in \u001b[0;36mmatch_pic_label_to_names_old\u001b[1;34m(features, labels, names)\u001b[0m\n\u001b[0;32m     34\u001b[0m \u001b[39mfor\u001b[39;00m j \u001b[39min\u001b[39;00m \u001b[39mrange\u001b[39m(m):\n\u001b[0;32m     35\u001b[0m     \u001b[39mif\u001b[39;00m (\u001b[39mstr\u001b[39m(labels[i][\u001b[39m0\u001b[39m]) \u001b[39m==\u001b[39m \u001b[39mstr\u001b[39m(names[j][\u001b[39m0\u001b[39m]) \u001b[39mand\u001b[39;00m labels[i][\u001b[39m2\u001b[39m] \u001b[39m==\u001b[39m names[j][\u001b[39m1\u001b[39m]):\n\u001b[1;32m---> 36\u001b[0m         data_frame\u001b[39m.\u001b[39mappend(np\u001b[39m.\u001b[39;49mhstack((features[j], labels[i][\u001b[39m3\u001b[39;49m])))\n\u001b[0;32m     37\u001b[0m         matched \u001b[39m=\u001b[39m \u001b[39mTrue\u001b[39;00m\n\u001b[0;32m     38\u001b[0m         \u001b[39mbreak\u001b[39;00m\n",
      "File \u001b[1;32m<__array_function__ internals>:180\u001b[0m, in \u001b[0;36mhstack\u001b[1;34m(*args, **kwargs)\u001b[0m\n",
      "File \u001b[1;32mc:\\Users\\marti\\miniconda3\\envs\\imgp2\\lib\\site-packages\\numpy\\core\\shape_base.py:343\u001b[0m, in \u001b[0;36mhstack\u001b[1;34m(tup)\u001b[0m\n\u001b[0;32m    341\u001b[0m \u001b[39m# As a special case, dimension 0 of 1-dimensional arrays is \"horizontal\"\u001b[39;00m\n\u001b[0;32m    342\u001b[0m \u001b[39mif\u001b[39;00m arrs \u001b[39mand\u001b[39;00m arrs[\u001b[39m0\u001b[39m]\u001b[39m.\u001b[39mndim \u001b[39m==\u001b[39m \u001b[39m1\u001b[39m:\n\u001b[1;32m--> 343\u001b[0m     \u001b[39mreturn\u001b[39;00m _nx\u001b[39m.\u001b[39;49mconcatenate(arrs, \u001b[39m0\u001b[39;49m)\n\u001b[0;32m    344\u001b[0m \u001b[39melse\u001b[39;00m:\n\u001b[0;32m    345\u001b[0m     \u001b[39mreturn\u001b[39;00m _nx\u001b[39m.\u001b[39mconcatenate(arrs, \u001b[39m1\u001b[39m)\n",
      "File \u001b[1;32m<__array_function__ internals>:180\u001b[0m, in \u001b[0;36mconcatenate\u001b[1;34m(*args, **kwargs)\u001b[0m\n",
      "\u001b[1;31mKeyboardInterrupt\u001b[0m: "
     ]
    }
   ],
   "source": [
    "run_mult_models(features_paths, names_paths, bin_size = 10, svm_kernel=\"rbf\")"
   ]
  },
  {
   "cell_type": "code",
   "execution_count": null,
   "metadata": {},
   "outputs": [
    {
     "name": "stdout",
     "output_type": "stream",
     "text": [
      "Features\\hog_features_(96, 192, 3)_cells_(8, 8)_block_(4, 4)_norm_L2.npy\n",
      "1\n"
     ]
    }
   ],
   "source": [
    "print(features_paths[0])\n",
    "print(len(features_paths))"
   ]
  }
 ],
 "metadata": {
  "kernelspec": {
   "display_name": "Python 3.10.9 ('imgp2')",
   "language": "python",
   "name": "python3"
  },
  "language_info": {
   "codemirror_mode": {
    "name": "ipython",
    "version": 3
   },
   "file_extension": ".py",
   "mimetype": "text/x-python",
   "name": "python",
   "nbconvert_exporter": "python",
   "pygments_lexer": "ipython3",
   "version": "3.10.9"
  },
  "orig_nbformat": 4,
  "vscode": {
   "interpreter": {
    "hash": "3a6e5b842e2037657f728d9ad513cfa5a0314365ca8a86cdbfa2f5f3f58bdad7"
   }
  }
 },
 "nbformat": 4,
 "nbformat_minor": 2
}
