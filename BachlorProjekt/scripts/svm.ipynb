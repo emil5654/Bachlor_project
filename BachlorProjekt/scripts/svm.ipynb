{
 "cells": [
  {
   "cell_type": "code",
   "execution_count": 1,
   "metadata": {},
   "outputs": [],
   "source": [
    "#We need these in this file:\n",
    "import pandas as pd\n",
    "from sklearn import svm\n",
    "from sklearn.metrics import classification_report,accuracy_score\n",
    "import numpy as np # linear algebra\n",
    "import get_lodging_scores\n",
    "import SVM_classifier_general as svm_general\n",
    "import pickle\n",
    "from sklearn.metrics import make_scorer\n",
    "from sklearn.model_selection import GridSearchCV\n",
    "import glob\n",
    "\n",
    "import sys\n",
    "sys.path.append('cropping')\n",
    "import load_read_name_extractor as lrne\n"
   ]
  },
  {
   "cell_type": "code",
   "execution_count": 2,
   "metadata": {},
   "outputs": [],
   "source": [
    "data_paths_auto = glob.glob(\"Features/*npy\")\n",
    "size = int(len(data_paths_auto)/2)\n",
    "features_paths = data_paths_auto[0:size]\n",
    "names_paths = data_paths_auto[size:len(data_paths_auto)]"
   ]
  },
  {
   "cell_type": "code",
   "execution_count": 3,
   "metadata": {},
   "outputs": [
    {
     "data": {
      "text/plain": [
       "['Features\\\\hog_features_(64, 128, 3)_cells_(10, 10)_block_(4, 4)_norm_L2.npy',\n",
       " 'Features\\\\hog_features_(64, 128, 3)_cells_(12, 12)_block_(4, 4)_norm_L2.npy',\n",
       " 'Features\\\\hog_features_(64, 128, 3)_cells_(14, 14)_block_(4, 4)_norm_L2.npy',\n",
       " 'Features\\\\hog_features_(64, 128, 3)_cells_(16, 16)_block_(4, 4)_norm_L2.npy',\n",
       " 'Features\\\\hog_features_(64, 128, 3)_cells_(8, 8)_block_(1, 1)_norm_L2.npy',\n",
       " 'Features\\\\hog_features_(64, 128, 3)_cells_(8, 8)_block_(2, 2)_norm_L2.npy',\n",
       " 'Features\\\\hog_features_(64, 128, 3)_cells_(8, 8)_block_(3, 3)_norm_L2.npy',\n",
       " 'Features\\\\hog_features_(64, 128, 3)_cells_(8, 8)_block_(4, 4)_norm_L2.npy',\n",
       " 'Features\\\\hog_features_(64, 128, 3)_cells_(8, 8)_block_(5, 5)_norm_L2.npy',\n",
       " 'Features\\\\hog_features_(64, 128, 3)_cells_(8, 8)_block_(6, 6)_norm_L2.npy',\n",
       " 'Features\\\\hog_features_(72, 248, 3)_cells_(8, 8)_block_(1, 1)_norm_L2.npy',\n",
       " 'Features\\\\hog_features_(72, 248, 3)_cells_(8, 8)_block_(2, 2)_norm_L2.npy',\n",
       " 'Features\\\\hog_features_(72, 248, 3)_cells_(8, 8)_block_(3, 3)_norm_L2.npy',\n",
       " 'Features\\\\hog_features_(72, 248, 3)_cells_(8, 8)_block_(4, 4)_norm_L2.npy',\n",
       " 'Features\\\\hog_features_(72, 248, 3)_cells_(8, 8)_block_(4, 4)_norm_L2_mir_True.npy',\n",
       " 'Features\\\\hog_features_(72, 248, 3)_cells_(8, 8)_block_(5, 5)_norm_L2.npy',\n",
       " 'Features\\\\hog_features_(72, 248, 3)_cells_(8, 8)_block_(6, 6)_norm_L2.npy',\n",
       " 'Features\\\\hog_features_(96, 192, 3)_cells_(10, 10)_block_(4, 4)_norm_L2.npy',\n",
       " 'Features\\\\hog_features_(96, 192, 3)_cells_(12, 12)_block_(4, 4)_norm_L2.npy',\n",
       " 'Features\\\\hog_features_(96, 192, 3)_cells_(14, 14)_block_(4, 4)_norm_L2.npy',\n",
       " 'Features\\\\hog_features_(96, 192, 3)_cells_(16, 16)_block_(4, 4)_norm_L2.npy',\n",
       " 'Features\\\\hog_features_(96, 192, 3)_cells_(8, 8)_block_(1, 1)_norm_L2.npy',\n",
       " 'Features\\\\hog_features_(96, 192, 3)_cells_(8, 8)_block_(2, 2)_norm_L2.npy',\n",
       " 'Features\\\\hog_features_(96, 192, 3)_cells_(8, 8)_block_(3, 3)_norm_L2.npy',\n",
       " 'Features\\\\hog_features_(96, 192, 3)_cells_(8, 8)_block_(4, 4)_norm_L2.npy',\n",
       " 'Features\\\\hog_features_(96, 192, 3)_cells_(8, 8)_block_(5, 5)_norm_L2.npy',\n",
       " 'Features\\\\hog_features_(96, 192, 3)_cells_(8, 8)_block_(6, 6)_norm_L2.npy']"
      ]
     },
     "execution_count": 3,
     "metadata": {},
     "output_type": "execute_result"
    }
   ],
   "source": [
    "features_paths\n"
   ]
  },
  {
   "cell_type": "code",
   "execution_count": 4,
   "metadata": {},
   "outputs": [
    {
     "data": {
      "text/plain": [
       "['Features\\\\img_names_(64, 128, 3)_cells_(10, 10)_block_(4, 4)_norm_L2.npy',\n",
       " 'Features\\\\img_names_(64, 128, 3)_cells_(12, 12)_block_(4, 4)_norm_L2.npy',\n",
       " 'Features\\\\img_names_(64, 128, 3)_cells_(14, 14)_block_(4, 4)_norm_L2.npy',\n",
       " 'Features\\\\img_names_(64, 128, 3)_cells_(16, 16)_block_(4, 4)_norm_L2.npy',\n",
       " 'Features\\\\img_names_(64, 128, 3)_cells_(8, 8)_block_(1, 1)_norm_L2.npy',\n",
       " 'Features\\\\img_names_(64, 128, 3)_cells_(8, 8)_block_(2, 2)_norm_L2.npy',\n",
       " 'Features\\\\img_names_(64, 128, 3)_cells_(8, 8)_block_(3, 3)_norm_L2.npy',\n",
       " 'Features\\\\img_names_(64, 128, 3)_cells_(8, 8)_block_(4, 4)_norm_L2.npy',\n",
       " 'Features\\\\img_names_(64, 128, 3)_cells_(8, 8)_block_(5, 5)_norm_L2.npy',\n",
       " 'Features\\\\img_names_(64, 128, 3)_cells_(8, 8)_block_(6, 6)_norm_L2.npy',\n",
       " 'Features\\\\img_names_(72, 248, 3)_cells_(8, 8)_block_(1, 1)_norm_L2.npy',\n",
       " 'Features\\\\img_names_(72, 248, 3)_cells_(8, 8)_block_(2, 2)_norm_L2.npy',\n",
       " 'Features\\\\img_names_(72, 248, 3)_cells_(8, 8)_block_(3, 3)_norm_L2.npy',\n",
       " 'Features\\\\img_names_(72, 248, 3)_cells_(8, 8)_block_(4, 4)_norm_L2.npy',\n",
       " 'Features\\\\img_names_(72, 248, 3)_cells_(8, 8)_block_(4, 4)_norm_L2_mir_True.npy',\n",
       " 'Features\\\\img_names_(72, 248, 3)_cells_(8, 8)_block_(5, 5)_norm_L2.npy',\n",
       " 'Features\\\\img_names_(72, 248, 3)_cells_(8, 8)_block_(6, 6)_norm_L2.npy',\n",
       " 'Features\\\\img_names_(96, 192, 3)_cells_(10, 10)_block_(4, 4)_norm_L2.npy',\n",
       " 'Features\\\\img_names_(96, 192, 3)_cells_(12, 12)_block_(4, 4)_norm_L2.npy',\n",
       " 'Features\\\\img_names_(96, 192, 3)_cells_(14, 14)_block_(4, 4)_norm_L2.npy',\n",
       " 'Features\\\\img_names_(96, 192, 3)_cells_(16, 16)_block_(4, 4)_norm_L2.npy',\n",
       " 'Features\\\\img_names_(96, 192, 3)_cells_(8, 8)_block_(1, 1)_norm_L2.npy',\n",
       " 'Features\\\\img_names_(96, 192, 3)_cells_(8, 8)_block_(2, 2)_norm_L2.npy',\n",
       " 'Features\\\\img_names_(96, 192, 3)_cells_(8, 8)_block_(3, 3)_norm_L2.npy',\n",
       " 'Features\\\\img_names_(96, 192, 3)_cells_(8, 8)_block_(4, 4)_norm_L2.npy',\n",
       " 'Features\\\\img_names_(96, 192, 3)_cells_(8, 8)_block_(5, 5)_norm_L2.npy',\n",
       " 'Features\\\\img_names_(96, 192, 3)_cells_(8, 8)_block_(6, 6)_norm_L2.npy']"
      ]
     },
     "execution_count": 4,
     "metadata": {},
     "output_type": "execute_result"
    }
   ],
   "source": [
    "names_paths"
   ]
  },
  {
   "cell_type": "code",
   "execution_count": 5,
   "metadata": {},
   "outputs": [],
   "source": [
    "features_paths = [\n",
    "'Features\\\\hog_features_(72, 248, 3)_cells_(8, 8)_block_(4, 4)_norm_L2_mir_True.npy']"
   ]
  },
  {
   "cell_type": "code",
   "execution_count": 6,
   "metadata": {},
   "outputs": [],
   "source": [
    "names_paths = [\n",
    "  'Features\\\\img_names_(72, 248, 3)_cells_(8, 8)_block_(4, 4)_norm_L2_mir_True.npy']"
   ]
  },
  {
   "cell_type": "code",
   "execution_count": 7,
   "metadata": {},
   "outputs": [],
   "source": [
    "#features_load = np.load(features_paths[0], allow_pickle=True)\n",
    "#print(features_load.shape)\n",
    "#print(features_load[0])\n",
    "#features_paths[0]"
   ]
  },
  {
   "cell_type": "code",
   "execution_count": 8,
   "metadata": {},
   "outputs": [],
   "source": [
    "#np.load(names_paths[0], allow_pickle=True) == np.load(names_paths[1], allow_pickle=True)"
   ]
  },
  {
   "cell_type": "code",
   "execution_count": 9,
   "metadata": {},
   "outputs": [],
   "source": [
    "#features_load[3000].shape"
   ]
  },
  {
   "cell_type": "code",
   "execution_count": 10,
   "metadata": {},
   "outputs": [],
   "source": [
    "def run_mult_models(features_paths, names_paths, bin_size = 10, svm_kernel=\"rbf\", class_weights = None):\n",
    "    for i in range (len(features_paths)):\n",
    "                #laod features and names\n",
    "        features_load = np.load(features_paths[0], allow_pickle=True)\n",
    "        names_load = np.load(names_paths[0], allow_pickle=True)\n",
    "        \n",
    "        features_load = features_load.tolist()\n",
    "\n",
    "        print(1)\n",
    "        #load labels\n",
    "        bin_size = 10\n",
    "        labels = svm_general.load_labels(bin_size)\n",
    "\n",
    "        #convert names into [flight_folder, ROI]\n",
    "        names = lrne.it_name_extract_labels_from_img_jpeg(names_load)\n",
    "        names_load = None\n",
    "        print(2)\n",
    "        #match labels with feature names\n",
    "        features_load = svm_general.match_pic_label_to_names_new(features_load, labels, names)\n",
    "        data_frame = features_load\n",
    "        features_load = None\n",
    "        labels = None\n",
    "        names = None\n",
    "        print(3)\n",
    "        #shuffle data and convert to array\n",
    "        np.random.shuffle(data_frame)\n",
    "\n",
    "        #partition data\n",
    "        percentage = 80\n",
    "        #data_frame = np.array(data_frame)\n",
    "        x_train, x_test, y_train, y_test = svm_general.partition_data_list(data_frame, percentage)\n",
    "        data_frame = None\n",
    "        features_aar = None\n",
    "\n",
    "        #create svm\n",
    "        clf = svm.SVC(kernel=svm_kernel, class_weight=class_weights, verbose=True)\n",
    "        #fit model with training data\n",
    "        clf.fit(x_train,y_train)\n",
    "        #predict data\n",
    "        y_pred = clf.predict(x_test)\n",
    "\n",
    "        #Save the found model\n",
    "        n_bins = int(np.floor(100/bin_size))\n",
    "        path = \"SVMC_\" + \"Kernel_\" + svm_kernel + \"_Nbins_\" + str(n_bins) + \"_ClassWeights_\" + str(class_weights) + \"_\" + features_paths[i]\n",
    "        svm_general.save_model(clf, path)\n",
    "\n",
    "        #Save the results\n",
    "        results = \"Accuracy: \"+str(accuracy_score(y_test, y_pred)) + \"\\n\" + classification_report(y_test, y_pred)\n",
    "        svm_general.save_results(results, path)"
   ]
  },
  {
   "cell_type": "code",
   "execution_count": 11,
   "metadata": {},
   "outputs": [
    {
     "name": "stdout",
     "output_type": "stream",
     "text": [
      "1\n",
      "2\n",
      "3\n",
      "Data Partitioned Successfully\n",
      "Model Saved Succesfull\n",
      "Results Saved Succesfull\n"
     ]
    },
    {
     "name": "stderr",
     "output_type": "stream",
     "text": [
      "c:\\Users\\marti\\miniconda3\\envs\\imgp2\\lib\\site-packages\\sklearn\\metrics\\_classification.py:1344: UndefinedMetricWarning: Precision and F-score are ill-defined and being set to 0.0 in labels with no predicted samples. Use `zero_division` parameter to control this behavior.\n",
      "  _warn_prf(average, modifier, msg_start, len(result))\n",
      "c:\\Users\\marti\\miniconda3\\envs\\imgp2\\lib\\site-packages\\sklearn\\metrics\\_classification.py:1344: UndefinedMetricWarning: Precision and F-score are ill-defined and being set to 0.0 in labels with no predicted samples. Use `zero_division` parameter to control this behavior.\n",
      "  _warn_prf(average, modifier, msg_start, len(result))\n",
      "c:\\Users\\marti\\miniconda3\\envs\\imgp2\\lib\\site-packages\\sklearn\\metrics\\_classification.py:1344: UndefinedMetricWarning: Precision and F-score are ill-defined and being set to 0.0 in labels with no predicted samples. Use `zero_division` parameter to control this behavior.\n",
      "  _warn_prf(average, modifier, msg_start, len(result))\n"
     ]
    }
   ],
   "source": [
    "run_mult_models(features_paths, names_paths, bin_size = 10, svm_kernel=\"rbf\")"
   ]
  },
  {
   "cell_type": "code",
   "execution_count": null,
   "metadata": {},
   "outputs": [],
   "source": [
    "print(features_paths[0])\n",
    "print(len(features_paths))"
   ]
  }
 ],
 "metadata": {
  "kernelspec": {
   "display_name": "Python 3.10.9 ('imgp2')",
   "language": "python",
   "name": "python3"
  },
  "language_info": {
   "codemirror_mode": {
    "name": "ipython",
    "version": 3
   },
   "file_extension": ".py",
   "mimetype": "text/x-python",
   "name": "python",
   "nbconvert_exporter": "python",
   "pygments_lexer": "ipython3",
   "version": "3.10.9"
  },
  "orig_nbformat": 4,
  "vscode": {
   "interpreter": {
    "hash": "3a6e5b842e2037657f728d9ad513cfa5a0314365ca8a86cdbfa2f5f3f58bdad7"
   }
  }
 },
 "nbformat": 4,
 "nbformat_minor": 2
}
