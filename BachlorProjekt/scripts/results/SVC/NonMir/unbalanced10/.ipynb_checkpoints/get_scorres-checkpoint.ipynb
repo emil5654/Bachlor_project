{
 "cells": [
  {
   "cell_type": "code",
   "execution_count": 1,
   "id": "971fee17-1b25-492a-b951-4355f882108c",
   "metadata": {},
   "outputs": [],
   "source": [
    "import os\n",
    "import matplotlib.pyplot as plt\n",
    "import numpy as np\n"
   ]
  },
  {
   "cell_type": "code",
   "execution_count": 2,
   "id": "e25db5ab-9e74-4124-a7e7-2fd822b26687",
   "metadata": {},
   "outputs": [
    {
     "name": "stdout",
     "output_type": "stream",
     "text": [
      "/home/mars/Bachlor_project/BachlorProjekt/scripts/results/SVC/NonMir/unbalanced10\n"
     ]
    }
   ],
   "source": [
    "folder_path = os.getcwd()\n",
    "print(folder_path)\n",
    "names = []\n",
    "acc = []\n",
    "for filename in os.listdir(folder_path):\n",
    "    if filename.endswith('.txt'):\n",
    "        with open(os.path.join(folder_path, filename), 'r') as file:\n",
    "            line = file.readline()\n",
    "            number = float(line.split(': ')[1])\n",
    "            \n",
    "            names.append(filename)\n",
    "            acc.append(number)"
   ]
  },
  {
   "cell_type": "code",
   "execution_count": 3,
   "id": "85d1aff4-245e-444a-b16e-b3235437a6c1",
   "metadata": {},
   "outputs": [],
   "source": [
    "def find_substring(sting):\n",
    "    start_index = sting.find(\"hog_features\")\n",
    "    end_index = sting.find(\"_norm\")\n",
    "\n",
    "    if start_index != -1 and end_index != -1:\n",
    "        substring = sting[start_index:end_index]\n",
    "        return(substring)\n",
    "    else:\n",
    "        print(\"Substring not found\")"
   ]
  },
  {
   "cell_type": "code",
   "execution_count": 4,
   "id": "dcef73a9-287f-4988-8114-4aa0549913e8",
   "metadata": {},
   "outputs": [
    {
     "name": "stdout",
     "output_type": "stream",
     "text": [
      "SVMC_Kernel_rbf_Nbins_10_ClassWeights_None_dateFalse_hog_features_(169, 534, 3)_cells_(4, 4)_block_(2, 2)_norm_L2_mir_False.txt\n",
      "SVMC_Kernel_rbf_Nbins_10_ClassWeights_None_dateFalse_hog_features_(144, 496, 3)_cells_(16, 16)_block_(2, 2)_norm_L2_mir_False.txt\n",
      "SVMC_Kernel_rbf_Nbins_10_ClassWeights_None_dateFalse_hog_features_(144, 496, 3)_cells_(8, 8)_block_(2, 2)_norm_L2_mir_False.txt\n",
      "SVMC_Kernel_rbf_Nbins_10_ClassWeights_None_dateFalse_hog_features_(169, 534, 3)_cells_(8, 8)_block_(2, 2)_norm_L2_mir_False.txt\n",
      "SVMC_Kernel_rbf_Nbins_10_ClassWeights_None_dateFalse_hog_features_(144, 496, 3)_cells_(4, 4)_block_(2, 2)_norm_L2_mir_False.txt\n",
      "SVMC_Kernel_rbf_Nbins_10_ClassWeights_None_dateFalse_hog_features_(169, 534, 3)_cells_(16, 16)_block_(2, 2)_norm_L2_mir_False.txt\n",
      "SVMC_Kernel_rbf_Nbins_10_ClassWeights_None_dateFalse_hog_features_(144, 496, 3)_cells_(8, 8)_block_(4, 4)_norm_L2_mir_False.txt\n",
      "SVMC_Kernel_rbf_Nbins_10_ClassWeights_None_dateFalse_hog_features_(169, 534, 3)_cells_(8, 8)_block_(4, 4)_norm_L2_mir_False.txt\n"
     ]
    }
   ],
   "source": [
    "for x in names:\n",
    "    print(x)"
   ]
  },
  {
   "cell_type": "code",
   "execution_count": 5,
   "id": "700d6015-b1fd-44c8-a786-78b9f0cddc39",
   "metadata": {},
   "outputs": [
    {
     "name": "stdout",
     "output_type": "stream",
     "text": [
      "hog_features_(169, 534, 3)_cells_(4, 4)_block_(2, 2)\n",
      "hog_features_(144, 496, 3)_cells_(16, 16)_block_(2, 2)\n",
      "hog_features_(144, 496, 3)_cells_(8, 8)_block_(2, 2)\n",
      "hog_features_(169, 534, 3)_cells_(8, 8)_block_(2, 2)\n",
      "hog_features_(144, 496, 3)_cells_(4, 4)_block_(2, 2)\n",
      "hog_features_(169, 534, 3)_cells_(16, 16)_block_(2, 2)\n",
      "hog_features_(144, 496, 3)_cells_(8, 8)_block_(4, 4)\n",
      "hog_features_(169, 534, 3)_cells_(8, 8)_block_(4, 4)\n"
     ]
    }
   ],
   "source": [
    "for i in range(len(names)):\n",
    "    names[i] = find_substring(names[i])\n",
    "    print(names[i])"
   ]
  },
  {
   "cell_type": "code",
   "execution_count": 6,
   "id": "c5306100-2e39-4fbf-a002-ba8e16177826",
   "metadata": {},
   "outputs": [],
   "source": [
    "def create_graf_bins(names, block_size, cell_size, acc):\n",
    "    #create list to return\n",
    "    graf_bin = []\n",
    "    size = None\n",
    "    #loop trough names\n",
    "    for i in range(len(names)):\n",
    "        curr_name = names[i]\n",
    "        #find img_size\n",
    "        if(curr_name.find(\"(144, 496\") != -1):\n",
    "            size = \"Mean\"\n",
    "        elif(curr_name.find(\"(169, 534\") != -1):\n",
    "            size = \"Max\"\n",
    "        elif(curr_name.find(\"(71, 343\") != -1):\n",
    "            size = \"Min\"\n",
    "        else:\n",
    "            size = \"undefined\"\n",
    "        \n",
    "        #find block and cell size \n",
    "        if (curr_name.find(\"_cells_\" + block_size + \"_block_\" + cell_size) != -1):\n",
    "            graf_bin.append((curr_name, acc[i], size))\n",
    "    return graf_bin\n"
   ]
  },
  {
   "cell_type": "code",
   "execution_count": 7,
   "id": "288d39de-0da6-423e-b00b-3903eee90450",
   "metadata": {},
   "outputs": [],
   "source": [
    "block_size = \"(4, 4)\" \n",
    "cell_size = \"(2, 2)\"\n",
    "\n",
    "bin4_4_2_2 = create_graf_bins(names, block_size, cell_size, acc)\n",
    "bin16_16_2_2 = create_graf_bins(names, \"(16, 16)\", \"(2, 2)\", acc)\n",
    "bin8_8_2_2 = create_graf_bins(names, \"(8, 8)\", \"(2, 2)\", acc)\n",
    "bin8_8_4_4 = create_graf_bins(names, \"(8, 8)\", \"(4, 4)\", acc)"
   ]
  },
  {
   "cell_type": "code",
   "execution_count": 8,
   "id": "6fb6dae6-988e-4c5a-905c-3d6ea9bb9005",
   "metadata": {},
   "outputs": [
    {
     "data": {
      "image/png": "[encoded data removed]",
      "text/plain": [
       "<Figure size 432x288 with 4 Axes>"
      ]
     },
     "metadata": {
      "needs_background": "light"
     },
     "output_type": "display_data"
    }
   ],
   "source": [
    "y = [item[1] for item in bin4_4_2_2]  # extract the second element from each tuple as x values\n",
    "x = [item[2] for item in bin4_4_2_2]\n",
    "\n",
    "y1 = [item[1] for item in bin16_16_2_2]  # extract the second element from each tuple as x values\n",
    "x1 = [item[2] for item in bin16_16_2_2]\n",
    "\n",
    "y2 = [item[1] for item in bin8_8_2_2]  # extract the second element from each tuple as x values\n",
    "x2 = [item[2] for item in bin8_8_2_2]\n",
    "\n",
    "y3 = [item[1] for item in bin8_8_4_4]  # extract the second element from each tuple as x values\n",
    "x3 = [item[2] for item in bin8_8_4_4]\n",
    "# create a figure with 4 subplots\n",
    "fig, axs = plt.subplots(2, 2)\n",
    "\n",
    "\n",
    "# plot the data on each subplot\n",
    "axs[0, 0].bar(x, y)\n",
    "axs[0, 0].set_title(\"Accuracy for different sizes\")\n",
    "axs[0, 0].set_xlabel(\"bin4_4_2_2\")\n",
    "axs[0, 0].set_ylabel(\"Accuracy score\")\n",
    "\n",
    "for i, j in zip(x[::1], y[::1]):\n",
    "    axs[0, 0].text(i, j, '{:.2f}'.format(j))\n",
    "    \n",
    "axs[0, 1].bar(x1, y1)\n",
    "axs[0, 1].set_title(\"Accuracy for different sizes\")\n",
    "axs[0, 1].set_xlabel(\"bin16_16_2_2\")\n",
    "axs[0, 1].set_ylabel(\"Accuracy score\")\n",
    "for i, j in zip(x1[::1], y1[::1]):\n",
    "    axs[0, 1].text(i, j, '{:.2f}'.format(j))\n",
    "\n",
    "axs[1, 0].bar(x2, y2)\n",
    "axs[1, 0].set_title(\"Accuracy for different sizes\")\n",
    "axs[1, 0].set_xlabel(\"bin8_8_2_2\")\n",
    "axs[1, 0].set_ylabel(\"Accuracy score\")\n",
    "for i, j in zip(x2[::1], y2[::1]):\n",
    "    axs[1, 0].text(i, j, '{:.2f}'.format(j))\n",
    "\n",
    "axs[1, 1].bar(x3, y3)\n",
    "axs[1, 1].set_title(\"Accuracy for different sizes\")\n",
    "axs[1, 1].set_xlabel(\"bin8_8_4_4\")\n",
    "axs[1, 1].set_ylabel(\"Accuracy score\")\n",
    "for i, j in zip(x3[::1], y3[::1]):\n",
    "    axs[1, 1].text(i, j, '{:.2f}'.format(j))\n",
    "\n",
    "# set the spacing between subplots\n",
    "plt.subplots_adjust(hspace=1, wspace=1)\n",
    "\n",
    "# display the plots\n",
    "plt.show()"
   ]
  },
  {
   "cell_type": "markdown",
   "id": "69cc0b72-9306-47c2-b5df-09a64c89d22c",
   "metadata": {},
   "source": []
  },
  {
   "cell_type": "code",
   "execution_count": null,
   "id": "e3925348-b6a0-482d-a816-d2a6ca51935a",
   "metadata": {},
   "outputs": [],
   "source": []
  }
 ],
 "metadata": {
  "kernelspec": {
   "display_name": "Python 3 (ipykernel)",
   "language": "python",
   "name": "python3"
  },
  "language_info": {
   "codemirror_mode": {
    "name": "ipython",
    "version": 3
   },
   "file_extension": ".py",
   "mimetype": "text/x-python",
   "name": "python",
   "nbconvert_exporter": "python",
   "pygments_lexer": "ipython3",
   "version": "3.9.12"
  }
 },
 "nbformat": 4,
 "nbformat_minor": 5
}
