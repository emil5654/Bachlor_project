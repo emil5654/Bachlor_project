{
 "cells": [
  {
   "cell_type": "code",
   "execution_count": 1,
   "id": "971fee17-1b25-492a-b951-4355f882108c",
   "metadata": {},
   "outputs": [],
   "source": [
    "import os\n",
    "import matplotlib.pyplot as plt\n",
    "import numpy as np\n"
   ]
  },
  {
   "cell_type": "code",
   "execution_count": 2,
   "id": "e25db5ab-9e74-4124-a7e7-2fd822b26687",
   "metadata": {},
   "outputs": [],
   "source": [
    "folder_path = os.getcwd()\n",
    "names = []\n",
    "acc = []\n",
    "for filename in os.listdir(folder_path):\n",
    "    if filename.endswith('.txt'):\n",
    "        with open(os.path.join(folder_path, filename), 'r') as file:\n",
    "            line = file.readline()\n",
    "            number = float(line.split(': ')[1])\n",
    "            \n",
    "            names.append(filename)\n",
    "            acc.append(number)"
   ]
  },
  {
   "cell_type": "code",
   "execution_count": 3,
   "id": "85d1aff4-245e-444a-b16e-b3235437a6c1",
   "metadata": {},
   "outputs": [],
   "source": [
    "def find_substring(sting):\n",
    "    start_index = sting.find(\"_cells\")\n",
    "    end_index = sting.find(\".txt\")\n",
    "\n",
    "    if start_index != -1 and end_index != -1:\n",
    "        substring = sting[start_index:end_index]\n",
    "        return(substring)\n",
    "    else:\n",
    "        print(\"Substring not found\")"
   ]
  },
  {
   "cell_type": "code",
   "execution_count": 4,
   "id": "dcef73a9-287f-4988-8114-4aa0549913e8",
   "metadata": {},
   "outputs": [
    {
     "name": "stdout",
     "output_type": "stream",
     "text": [
      "SVMC_Kernel_rbf_Nbins_10_ClassWeights_None_dateFalse_hog_features_(144, 496, 3)_cells_(8, 8)_block_(4, 4)_norm_L2_mir_False.txt\n",
      "SVMC_Kernel_rbf_Nbins_3_ClassWeights_None_dateFalse_hog_features_(144, 496, 3)_cells_(16, 16)_block_(2, 2)_norm_L2_mir_False.txt\n",
      "SVMC_Kernel_rbf_Nbins_3_ClassWeights_None_dateFalse_hog_features_(144, 496, 3)_cells_(8, 8)_block_(4, 4)_norm_L2_mir_False.txt\n",
      "SVMC_Kernel_rbf_Nbins_10_ClassWeights_balanced_dateFalse_hog_features_(144, 496, 3)_cells_(8, 8)_block_(4, 4)_norm_L2_mir_False.txt\n",
      "SVMC_Kernel_rbf_Nbins_3_ClassWeights_balanced_dateFalse_hog_features_(144, 496, 3)_cells_(8, 8)_block_(4, 4)_norm_L2_mir_False.txt\n",
      "SVMC_Kernel_rbf_Nbins_10_ClassWeights_None_dateFalse_hog_features_(144, 496, 3)_cells_(16, 16)_block_(2, 2)_norm_L2_mir_False.txt\n",
      "SVMC_Kernel_rbf_Nbins_10_ClassWeights_balanced_dateFalse_hog_features_(144, 496, 3)_cells_(8, 8)_block_(2, 2)_norm_L2_mir_False.txt\n",
      "SVMC_Kernel_rbf_Nbins_3_ClassWeights_None_dateFalse_hog_features_(144, 496, 3)_cells_(8, 8)_block_(2, 2)_norm_L2_mir_False.txt\n",
      "SVMC_Kernel_rbf_Nbins_3_ClassWeights_balanced_dateFalse_hog_features_(144, 496, 3)_cells_(4, 4)_block_(2, 2)_norm_L2_mir_False.txt\n",
      "SVMC_Kernel_rbf_Nbins_10_ClassWeights_None_dateFalse_hog_features_(144, 496, 3)_cells_(8, 8)_block_(2, 2)_norm_L2_mir_False.txt\n",
      "SVMC_Kernel_rbf_Nbins_3_ClassWeights_balanced_dateFalse_hog_features_(144, 496, 3)_cells_(16, 16)_block_(2, 2)_norm_L2_mir_False.txt\n",
      "SVMC_Kernel_rbf_Nbins_3_ClassWeights_None_dateFalse_hog_features_(144, 496, 3)_cells_(4, 4)_block_(2, 2)_norm_L2_mir_False.txt\n",
      "SVMC_Kernel_rbf_Nbins_10_ClassWeights_balanced_dateFalse_hog_features_(144, 496, 3)_cells_(16, 16)_block_(2, 2)_norm_L2_mir_False.txt\n",
      "SVMC_Kernel_rbf_Nbins_3_ClassWeights_balanced_dateFalse_hog_features_(144, 496, 3)_cells_(8, 8)_block_(2, 2)_norm_L2_mir_False.txt\n",
      "SVMC_Kernel_rbf_Nbins_10_ClassWeights_None_dateFalse_hog_features_(144, 496, 3)_cells_(4, 4)_block_(2, 2)_norm_L2_mir_False.txt\n"
     ]
    }
   ],
   "source": [
    "for x in names:\n",
    "    print(x)"
   ]
  },
  {
   "cell_type": "code",
   "execution_count": 5,
   "id": "700d6015-b1fd-44c8-a786-78b9f0cddc39",
   "metadata": {},
   "outputs": [
    {
     "name": "stdout",
     "output_type": "stream",
     "text": [
      "_cells_(8, 8)_block_(4, 4)_norm_L2_mir_False\n",
      "_cells_(16, 16)_block_(2, 2)_norm_L2_mir_False\n",
      "_cells_(8, 8)_block_(4, 4)_norm_L2_mir_False\n",
      "_cells_(8, 8)_block_(4, 4)_norm_L2_mir_False\n",
      "_cells_(8, 8)_block_(4, 4)_norm_L2_mir_False\n",
      "_cells_(16, 16)_block_(2, 2)_norm_L2_mir_False\n",
      "_cells_(8, 8)_block_(2, 2)_norm_L2_mir_False\n",
      "_cells_(8, 8)_block_(2, 2)_norm_L2_mir_False\n",
      "_cells_(4, 4)_block_(2, 2)_norm_L2_mir_False\n",
      "_cells_(8, 8)_block_(2, 2)_norm_L2_mir_False\n",
      "_cells_(16, 16)_block_(2, 2)_norm_L2_mir_False\n",
      "_cells_(4, 4)_block_(2, 2)_norm_L2_mir_False\n",
      "_cells_(16, 16)_block_(2, 2)_norm_L2_mir_False\n",
      "_cells_(8, 8)_block_(2, 2)_norm_L2_mir_False\n",
      "_cells_(4, 4)_block_(2, 2)_norm_L2_mir_False\n"
     ]
    }
   ],
   "source": [
    "for i in range(len(names)):\n",
    "    names[i] = find_substring(names[i])\n",
    "    print(names[i])"
   ]
  },
  {
   "cell_type": "code",
   "execution_count": 6,
   "id": "6fb6dae6-988e-4c5a-905c-3d6ea9bb9005",
   "metadata": {},
   "outputs": [
    {
     "data": {
      "image/png": "[encoded data removed]",
      "text/plain": [
       "<Figure size 432x288 with 1 Axes>"
      ]
     },
     "metadata": {
      "needs_background": "light"
     },
     "output_type": "display_data"
    }
   ],
   "source": [
    "# Create a bar plot\n",
    "plt.bar(names, acc)\n",
    "# Set the title and axis labels\n",
    "plt.title(\"Accuracys of models\")\n",
    "plt.xlabel(\"Model Name\")\n",
    "plt.ylabel(\"Accuracys\")\n",
    "\n",
    "# Display the plot\n",
    "plt.show()"
   ]
  },
  {
   "cell_type": "code",
   "execution_count": null,
   "id": "7b6d1317-3d0e-4cab-b4bb-b7d6d2b710d3",
   "metadata": {},
   "outputs": [],
   "source": []
  }
 ],
 "metadata": {
  "kernelspec": {
   "display_name": "Python 3 (ipykernel)",
   "language": "python",
   "name": "python3"
  },
  "language_info": {
   "codemirror_mode": {
    "name": "ipython",
    "version": 3
   },
   "file_extension": ".py",
   "mimetype": "text/x-python",
   "name": "python",
   "nbconvert_exporter": "python",
   "pygments_lexer": "ipython3",
   "version": "3.9.12"
  }
 },
 "nbformat": 4,
 "nbformat_minor": 5
}
