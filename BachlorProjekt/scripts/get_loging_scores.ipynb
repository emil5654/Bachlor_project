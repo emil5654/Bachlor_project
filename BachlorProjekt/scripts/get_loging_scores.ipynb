{
 "cells": [
  {
   "cell_type": "code",
   "execution_count": 1,
   "metadata": {},
   "outputs": [],
   "source": [
    "import numpy as np\n",
    "import pandas as pd\n",
    "import get_lodging_scores as g\n"
   ]
  },
  {
   "cell_type": "code",
   "execution_count": 2,
   "metadata": {},
   "outputs": [
    {
     "data": {
      "text/plain": [
       "9"
      ]
     },
     "execution_count": 2,
     "metadata": {},
     "output_type": "execute_result"
    }
   ],
   "source": [
    "g.create_bin(5, 50)"
   ]
  },
  {
   "cell_type": "code",
   "execution_count": null,
   "metadata": {},
   "outputs": [],
   "source": []
  },
  {
   "cell_type": "code",
   "execution_count": 3,
   "metadata": {},
   "outputs": [
    {
     "name": "stdout",
     "output_type": "stream",
     "text": [
      "0 5\n",
      "0 10\n",
      "0 15\n",
      "0 20\n",
      "1 25\n",
      "1 30\n",
      "1 35\n",
      "1 40\n",
      "2 45\n",
      "2 50\n",
      "2 55\n",
      "2 60\n",
      "3 65\n",
      "3 70\n",
      "3 75\n",
      "3 80\n",
      "4 85\n",
      "4 90\n",
      "4 95\n",
      "4 100\n"
     ]
    }
   ],
   "source": [
    "bin_size = 20\n",
    "for i in range (0, 101, 5):\n",
    "    if i != 0:\n",
    "        print(g.create_bin(bin_size, i), i)"
   ]
  }
 ],
 "metadata": {
  "kernelspec": {
   "display_name": "Python 3 (ipykernel)",
   "language": "python",
   "name": "python3"
  },
  "language_info": {
   "codemirror_mode": {
    "name": "ipython",
    "version": 3
   },
   "file_extension": ".py",
   "mimetype": "text/x-python",
   "name": "python",
   "nbconvert_exporter": "python",
   "pygments_lexer": "ipython3",
   "version": "3.9.12"
  },
  "vscode": {
   "interpreter": {
    "hash": "3a6e5b842e2037657f728d9ad513cfa5a0314365ca8a86cdbfa2f5f3f58bdad7"
   }
  }
 },
 "nbformat": 4,
 "nbformat_minor": 4
}
