{
 "cells": [
  {
   "cell_type": "code",
   "execution_count": 1,
   "metadata": {},
   "outputs": [],
   "source": [
    "import numpy as np\n",
    "import pandas as pd\n",
    "import get_lodging_scores as g\n",
    "\n",
    "\n",
    "\n"
   ]
  },
  {
   "cell_type": "code",
   "execution_count": 5,
   "metadata": {},
   "outputs": [
    {
     "data": {
      "text/plain": [
       "20.0"
      ]
     },
     "execution_count": 5,
     "metadata": {},
     "output_type": "execute_result"
    }
   ],
   "source": [
    "g.create_bin(5, 100)"
   ]
  },
  {
   "cell_type": "code",
   "execution_count": 16,
   "metadata": {},
   "outputs": [
    {
     "name": "stdout",
     "output_type": "stream",
     "text": [
      "1.0 1\n",
      "1.0 2\n",
      "1.0 3\n",
      "1.0 4\n",
      "1.0 5\n",
      "2.0 6\n",
      "2.0 7\n",
      "2.0 8\n",
      "2.0 9\n",
      "2.0 10\n",
      "3.0 11\n",
      "3.0 12\n",
      "3.0 13\n",
      "3.0 14\n",
      "3.0 15\n",
      "4.0 16\n",
      "4.0 17\n",
      "4.0 18\n",
      "4.0 19\n",
      "4.0 20\n",
      "5.0 21\n",
      "5.0 22\n",
      "5.0 23\n",
      "5.0 24\n",
      "5.0 25\n",
      "6.0 26\n",
      "6.0 27\n",
      "6.0 28\n",
      "6.0 29\n",
      "6.0 30\n",
      "7.0 31\n",
      "7.0 32\n",
      "7.0 33\n",
      "7.0 34\n",
      "7.0 35\n",
      "8.0 36\n",
      "8.0 37\n",
      "8.0 38\n",
      "8.0 39\n",
      "8.0 40\n",
      "9.0 41\n",
      "9.0 42\n",
      "9.0 43\n",
      "9.0 44\n",
      "9.0 45\n",
      "10.0 46\n",
      "10.0 47\n",
      "10.0 48\n",
      "10.0 49\n",
      "10.0 50\n",
      "11.0 51\n",
      "11.0 52\n",
      "11.0 53\n",
      "11.0 54\n",
      "11.0 55\n",
      "12.0 56\n",
      "12.0 57\n",
      "12.0 58\n",
      "12.0 59\n",
      "12.0 60\n",
      "13.0 61\n",
      "13.0 62\n",
      "13.0 63\n",
      "13.0 64\n",
      "13.0 65\n",
      "14.0 66\n",
      "14.0 67\n",
      "14.0 68\n",
      "14.0 69\n",
      "14.0 70\n",
      "15.0 71\n",
      "15.0 72\n",
      "15.0 73\n",
      "15.0 74\n",
      "15.0 75\n",
      "16.0 76\n",
      "16.0 77\n",
      "16.0 78\n",
      "16.0 79\n",
      "16.0 80\n",
      "17.0 81\n",
      "17.0 82\n",
      "17.0 83\n",
      "17.0 84\n",
      "17.0 85\n",
      "18.0 86\n",
      "18.0 87\n",
      "18.0 88\n",
      "18.0 89\n",
      "18.0 90\n",
      "19.0 91\n",
      "19.0 92\n",
      "19.0 93\n",
      "19.0 94\n",
      "19.0 95\n",
      "20.0 96\n",
      "20.0 97\n",
      "20.0 98\n",
      "20.0 99\n",
      "20.0 100\n"
     ]
    }
   ],
   "source": [
    "bin_size = 5\n",
    "for i in range (0, 101, 1):\n",
    "    if i != 0:\n",
    "        print(g.create_bin(bin_size, i), i)"
   ]
  }
 ],
 "metadata": {
  "kernelspec": {
   "display_name": "Python 3.10.9 ('imgp2')",
   "language": "python",
   "name": "python3"
  },
  "language_info": {
   "codemirror_mode": {
    "name": "ipython",
    "version": 3
   },
   "file_extension": ".py",
   "mimetype": "text/x-python",
   "name": "python",
   "nbconvert_exporter": "python",
   "pygments_lexer": "ipython3",
   "version": "3.10.9"
  },
  "orig_nbformat": 4,
  "vscode": {
   "interpreter": {
    "hash": "3a6e5b842e2037657f728d9ad513cfa5a0314365ca8a86cdbfa2f5f3f58bdad7"
   }
  }
 },
 "nbformat": 4,
 "nbformat_minor": 2
}
