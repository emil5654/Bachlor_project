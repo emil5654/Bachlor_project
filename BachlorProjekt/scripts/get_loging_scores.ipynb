{
 "cells": [
  {
   "cell_type": "code",
   "execution_count": 1,
   "metadata": {},
   "outputs": [],
   "source": [
    "import numpy as np\n",
    "import pandas as pd\n",
    "import get_lodging_scores as g\n"
   ]
  },
  {
   "cell_type": "code",
   "execution_count": 2,
   "metadata": {},
   "outputs": [
    {
     "data": {
      "text/plain": [
       "0"
      ]
     },
     "execution_count": 2,
     "metadata": {},
     "output_type": "execute_result"
    }
   ],
   "source": [
    "g.create_bin(5, 0)"
   ]
  },
  {
   "cell_type": "code",
   "execution_count": 5,
   "metadata": {},
   "outputs": [
    {
     "name": "stdout",
     "output_type": "stream",
     "text": [
      "0 0\n",
      "0 1\n",
      "0 2\n",
      "0 3\n",
      "0 4\n",
      "0 5\n",
      "0 6\n",
      "0 7\n",
      "0 8\n",
      "0 9\n",
      "1 10\n",
      "1 11\n",
      "1 12\n",
      "1 13\n",
      "1 14\n",
      "1 15\n",
      "1 16\n",
      "1 17\n",
      "1 18\n",
      "1 19\n",
      "2 20\n",
      "2 21\n",
      "2 22\n",
      "2 23\n",
      "2 24\n",
      "2 25\n",
      "2 26\n",
      "2 27\n",
      "2 28\n",
      "2 29\n",
      "3 30\n",
      "3 31\n",
      "3 32\n",
      "3 33\n",
      "3 34\n",
      "3 35\n",
      "3 36\n",
      "3 37\n",
      "3 38\n",
      "3 39\n",
      "4 40\n",
      "4 41\n",
      "4 42\n",
      "4 43\n",
      "4 44\n",
      "4 45\n",
      "4 46\n",
      "4 47\n",
      "4 48\n",
      "4 49\n",
      "5 50\n",
      "5 51\n",
      "5 52\n",
      "5 53\n",
      "5 54\n",
      "5 55\n",
      "5 56\n",
      "5 57\n",
      "5 58\n",
      "5 59\n",
      "6 60\n",
      "6 61\n",
      "6 62\n",
      "6 63\n",
      "6 64\n",
      "6 65\n",
      "6 66\n",
      "6 67\n",
      "6 68\n",
      "6 69\n",
      "7 70\n",
      "7 71\n",
      "7 72\n",
      "7 73\n",
      "7 74\n",
      "7 75\n",
      "7 76\n",
      "7 77\n",
      "7 78\n",
      "7 79\n",
      "8 80\n",
      "8 81\n",
      "8 82\n",
      "8 83\n",
      "8 84\n",
      "8 85\n",
      "8 86\n",
      "8 87\n",
      "8 88\n",
      "8 89\n",
      "9 90\n",
      "9 91\n",
      "9 92\n",
      "9 93\n",
      "9 94\n",
      "9 95\n",
      "9 96\n",
      "9 97\n",
      "9 98\n",
      "9 99\n",
      "9 100\n"
     ]
    }
   ],
   "source": [
    "bin_size = 10\n",
    "for i in range (0, 101, 1):\n",
    "        print(g.create_bin(bin_size, i), i)"
   ]
  },
  {
   "cell_type": "code",
   "execution_count": null,
   "metadata": {},
   "outputs": [],
   "source": []
  }
 ],
 "metadata": {
  "kernelspec": {
   "display_name": "Python 3 (ipykernel)",
   "language": "python",
   "name": "python3"
  },
  "language_info": {
   "codemirror_mode": {
    "name": "ipython",
    "version": 3
   },
   "file_extension": ".py",
   "mimetype": "text/x-python",
   "name": "python",
   "nbconvert_exporter": "python",
   "pygments_lexer": "ipython3",
   "version": "3.9.12"
  },
  "vscode": {
   "interpreter": {
    "hash": "3a6e5b842e2037657f728d9ad513cfa5a0314365ca8a86cdbfa2f5f3f58bdad7"
   }
  }
 },
 "nbformat": 4,
 "nbformat_minor": 4
}
